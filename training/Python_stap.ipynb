{
 "cells": [
  {
   "cell_type": "markdown",
   "id": "42e8c764",
   "metadata": {},
   "source": [
    "# Python notities STAP training\n",
    "\n",
    "Python trainingen by Skillsoft"
   ]
  },
  {
   "cell_type": "markdown",
   "id": "536785f5",
   "metadata": {},
   "source": [
    "## Python: The basics"
   ]
  },
  {
   "cell_type": "markdown",
   "id": "40b74e06",
   "metadata": {},
   "source": [
    "### Hello, world!"
   ]
  },
  {
   "cell_type": "code",
   "execution_count": 1,
   "id": "209c2178",
   "metadata": {},
   "outputs": [
    {
     "name": "stdout",
     "output_type": "stream",
     "text": [
      "Hello, world!\n"
     ]
    }
   ],
   "source": [
    "# First program\n",
    "print(\"Hello, world!\")"
   ]
  },
  {
   "cell_type": "markdown",
   "id": "4a6ba008",
   "metadata": {},
   "source": [
    "### User input"
   ]
  },
  {
   "cell_type": "code",
   "execution_count": 2,
   "id": "3452c4b7",
   "metadata": {},
   "outputs": [
    {
     "name": "stdout",
     "output_type": "stream",
     "text": [
      "Hello Bas\n"
     ]
    }
   ],
   "source": [
    "# Getting and using user input command\n",
    "x = input(\"Write your name: \")\n",
    "print('Hello', x)"
   ]
  },
  {
   "cell_type": "markdown",
   "id": "59c772f4",
   "metadata": {},
   "source": [
    "### Modules and imports"
   ]
  },
  {
   "cell_type": "code",
   "execution_count": 3,
   "id": "dc066bb5",
   "metadata": {},
   "outputs": [
    {
     "name": "stdout",
     "output_type": "stream",
     "text": [
      "List of object names in __main__ namespace: \n",
      "['In', 'Out', '_', '__', '___', '__builtin__', '__builtins__', '__doc__', '__loader__', '__name__', '__package__', '__spec__', '__vsc_ipynb_file__', '_dh', '_i', '_i1', '_i2', '_i3', '_ih', '_ii', '_iii', '_oh', 'exit', 'get_ipython', 'os', 'quit', 'sys', 'x']\n",
      "\n",
      "List of object names in __main__ namespace:  \n",
      "After 'import math' has executed: \n",
      "['In', 'Out', '_', '__', '___', '__builtin__', '__builtins__', '__doc__', '__loader__', '__name__', '__package__', '__spec__', '__vsc_ipynb_file__', '_dh', '_i', '_i1', '_i2', '_i3', '_ih', '_ii', '_iii', '_oh', 'exit', 'get_ipython', 'math', 'os', 'quit', 'sys', 'x']\n",
      "The value of Pi is:  3.141592653589793\n",
      "The tangent of 1 is  1.5574077246549023\n",
      "Removing math module\n"
     ]
    }
   ],
   "source": [
    "# Modules and imports\n",
    "\n",
    "# Use separate namespace for \"math\" module\n",
    "print(\"List of object names in __main__ namespace: \")\n",
    "print(dir())\n",
    "\n",
    "import math\n",
    "print(\"\\nList of object names in __main__ namespace: \", end=\" \")\n",
    "print(\"\\nAfter 'import math' has executed: \")\n",
    "print(dir())\n",
    "\n",
    "print(\"The value of Pi is: \", math.pi)\n",
    "print(\"The tangent of 1 is \", math.tan(1))\n",
    "print(\"Removing math module\")\n",
    "del math"
   ]
  },
  {
   "cell_type": "code",
   "execution_count": 4,
   "id": "31e98d66",
   "metadata": {},
   "outputs": [
    {
     "name": "stdout",
     "output_type": "stream",
     "text": [
      "List of object names in __main__ namespace: \n",
      "['In', 'Out', '_', '__', '___', '__builtin__', '__builtins__', '__doc__', '__loader__', '__name__', '__package__', '__spec__', '__vsc_ipynb_file__', '_dh', '_i', '_i1', '_i2', '_i3', '_i4', '_ih', '_ii', '_iii', '_oh', 'exit', 'get_ipython', 'os', 'quit', 'sys', 'x']\n",
      "\n",
      "List of object names in __main__ namespace:  \n",
      "After 'import fun' has executed: \n",
      "['In', 'Out', '_', '__', '___', '__builtin__', '__builtins__', '__doc__', '__loader__', '__name__', '__package__', '__spec__', '__vsc_ipynb_file__', '_dh', '_i', '_i1', '_i2', '_i3', '_i4', '_ih', '_ii', '_iii', '_oh', 'exit', 'fun', 'get_ipython', 'os', 'quit', 'sys', 'x']\n",
      "The value of Pi is:  3.141592653589793\n",
      "The tangent of 1 is  1.5574077246549023\n",
      "Removing fun module\n"
     ]
    }
   ],
   "source": [
    "# Use separate namespace for \"math\" module\n",
    "print(\"List of object names in __main__ namespace: \")\n",
    "print(dir())\n",
    "\n",
    "# importing a module under a different name\n",
    "import math as fun\n",
    "print(\"\\nList of object names in __main__ namespace: \", end=\" \")\n",
    "print(\"\\nAfter 'import fun' has executed: \")\n",
    "print(dir())\n",
    "\n",
    "print(\"The value of Pi is: \", fun.pi)\n",
    "print(\"The tangent of 1 is \", fun.tan(1))\n",
    "print(\"Removing fun module\")\n",
    "del fun"
   ]
  },
  {
   "cell_type": "code",
   "execution_count": 5,
   "id": "e4a69e8f",
   "metadata": {},
   "outputs": [
    {
     "name": "stdout",
     "output_type": "stream",
     "text": [
      "List of object names in __main__ namespace: \n",
      "['In', 'Out', '_', '__', '___', '__builtin__', '__builtins__', '__doc__', '__loader__', '__name__', '__package__', '__spec__', '__vsc_ipynb_file__', '_dh', '_i', '_i1', '_i2', '_i3', '_i4', '_i5', '_ih', '_ii', '_iii', '_oh', 'exit', 'get_ipython', 'os', 'quit', 'sys', 'x']\n",
      "\n",
      "List of object names in __main__ namespace:  \n",
      "After 'from math import pi,tan' has executed: \n",
      "['In', 'Out', '_', '__', '___', '__builtin__', '__builtins__', '__doc__', '__loader__', '__name__', '__package__', '__spec__', '__vsc_ipynb_file__', '_dh', '_i', '_i1', '_i2', '_i3', '_i4', '_i5', '_ih', '_ii', '_iii', '_oh', 'exit', 'get_ipython', 'os', 'pi', 'quit', 'sys', 'tan', 'x']\n",
      "The value of Pi is:  3.141592653589793\n",
      "The tangent of 1 is  1.5574077246549023\n",
      "Removing pin and tan\n"
     ]
    }
   ],
   "source": [
    "# Import selectively into __main__ namespace\n",
    "print(\"List of object names in __main__ namespace: \")\n",
    "print(dir())\n",
    "\n",
    "# import selectively into main namespace\n",
    "from math import pi,tan\n",
    "print(\"\\nList of object names in __main__ namespace: \", end=\" \")\n",
    "print(\"\\nAfter 'from math import pi,tan' has executed: \")\n",
    "print(dir())\n",
    "\n",
    "print(\"The value of Pi is: \", pi)\n",
    "print(\"The tangent of 1 is \", tan(1))\n",
    "print(\"Removing pin and tan\")\n",
    "del pi\n",
    "del tan"
   ]
  },
  {
   "cell_type": "code",
   "execution_count": 6,
   "id": "0b5b6f59",
   "metadata": {},
   "outputs": [
    {
     "name": "stdout",
     "output_type": "stream",
     "text": [
      "The area of the cicrle is:  706.8583470577034\n",
      "The circumference of the circle is:  94.24777960769379\n"
     ]
    }
   ],
   "source": [
    "# A small program to calculate a circle's circumference\n",
    "from math import pi\n",
    "radius = input(\"What is the circle radius?: \")\n",
    "print(\"The area of the cicrle is: \", float(radius) **  2 * pi)\n",
    "print(\"The circumference of the circle is: \", float(radius) * 2 * pi)"
   ]
  },
  {
   "cell_type": "markdown",
   "id": "b94a4a77",
   "metadata": {},
   "source": [
    "## Data types\n",
    "\n",
    "### INT Type"
   ]
  },
  {
   "cell_type": "code",
   "execution_count": 7,
   "id": "eecfeea4",
   "metadata": {},
   "outputs": [
    {
     "name": "stdout",
     "output_type": "stream",
     "text": [
      "<class 'int'>\n",
      "x =  5  ,  y =  10\n",
      "\n",
      "COMPARISONS\n",
      "x == y = False\n",
      "x != y =  True\n",
      "x >= y =  False\n",
      "x > y =  False\n",
      "x <= y =  True\n",
      "x < y =  True\n",
      "\n",
      "OPERATORS\n",
      "x + y =  15\n",
      "x - y =  -5\n",
      "x * y =  50\n",
      "x / y =  0.5\n",
      "\n",
      "FLOOR DIVISIONS\n",
      "x // y =  0\n",
      "x % y =  5\n",
      "x ** y =  9765625\n",
      "\n",
      "BUILTIN FUNCTIONS\n",
      "divmod(x,y) =  (0, 5)\n",
      "pow(x, y) =  9765625\n",
      "abs(-x) =  5\n",
      "int(5.2) =  5\n",
      "int('0xff',16) =  255\n",
      "float(x) =  5.0\n",
      "\n",
      "INLINE NOTATION\n",
      "x = x + y =  15\n",
      "x = x - y =  5\n",
      "x = x * y =  50\n",
      "x = x / y =  5.0\n",
      "\n",
      "MULTIPLE ASSIGNMENTS\n",
      "x =  4  ,  y =  2\n",
      "\n",
      "BITWISE OPERATORS\n",
      "Or: x | y =  6\n",
      "Xor: x ^y =  6\n",
      "And: x & y =  0\n",
      "Left shift: x << y =  16\n",
      "Right shift: x >> y =  1\n",
      "Inversion: ~x =  -5\n"
     ]
    }
   ],
   "source": [
    "x = 5\n",
    "y = 10\n",
    "y = 0xA # hexadecimal\n",
    "y = 0o12 # octal (Python2 uses 012)\n",
    "y = 0b1010 # binary\n",
    "\n",
    "print(type(x))\n",
    "print(\"x = \", x, \" , \", \"y = \", y)\n",
    "print(\"\")\n",
    "\n",
    "# Typical comparisons can be made\n",
    "print(\"COMPARISONS\")\n",
    "print(\"x == y =\", x == y)\n",
    "print(\"x != y = \", x != y)\n",
    "print(\"x >= y = \", x >= y)\n",
    "print(\"x > y = \", x > y)\n",
    "print(\"x <= y = \", x <= y)\n",
    "print(\"x < y = \", x < y)\n",
    "print(\"\")\n",
    "\n",
    "# THe usual operators can be used\n",
    "print(\"OPERATORS\")\n",
    "print(\"x + y = \", x + y)\n",
    "print(\"x - y = \", x - y)\n",
    "print(\"x * y = \", x * y)\n",
    "print(\"x / y = \", x / y)\n",
    "print(\"\")\n",
    "\n",
    "# In Python 2, x/y uses floor divisions like\n",
    "print(\"FLOOR DIVISIONS\")\n",
    "print(\"x // y = \", x // y)\n",
    "print(\"x % y = \", x % y)\n",
    "print(\"x ** y = \", x ** y)\n",
    "print(\"\")\n",
    "\n",
    "# There are several usefull builtin functions\n",
    "print(\"BUILTIN FUNCTIONS\")\n",
    "print(\"divmod(x,y) = \", divmod(x,y))\n",
    "print(\"pow(x, y) = \", pow(x,y))\n",
    "print(\"abs(-x) = \", abs(-x))\n",
    "print(\"int(5.2) = \", int(5.2))\n",
    "print(\"int('0xff',16) = \", int(\"0xff\",16))\n",
    "print(\"float(x) = \", float(x))\n",
    "print(\"\")\n",
    "\n",
    "# Inline notation can also be used\n",
    "print(\"INLINE NOTATION\")\n",
    "print(\"x = x + y = \", end = \" \")\n",
    "x += y\n",
    "print(x)\n",
    "print(\"x = x - y = \", end = \" \")\n",
    "x -= y\n",
    "print(x)\n",
    "print(\"x = x * y = \", end = \" \")\n",
    "x *= y\n",
    "print(x)\n",
    "print(\"x = x / y = \", end = \" \")\n",
    "x /= y\n",
    "print(x)\n",
    "print(\"\")\n",
    "\n",
    "# Multiple assignments can be done\n",
    "print(\"MULTIPLE ASSIGNMENTS\")\n",
    "x, y = 4, 2\n",
    "print(\"x = \", x, \" , \", \"y = \", y)\n",
    "print(\"\")\n",
    "\n",
    "# Bitwise operators can be used\n",
    "print(\"BITWISE OPERATORS\")\n",
    "print(\"Or: x | y = \", x | y)\n",
    "print(\"Xor: x ^y = \", x ^ y)\n",
    "print(\"And: x & y = \", x & y)\n",
    "print(\"Left shift: x << y = \", x << y)\n",
    "print(\"Right shift: x >> y = \", x >> y)\n",
    "print(\"Inversion: ~x = \", ~x)"
   ]
  },
  {
   "cell_type": "markdown",
   "id": "e9d4cab1",
   "metadata": {},
   "source": [
    "### FLOAT type"
   ]
  },
  {
   "cell_type": "code",
   "execution_count": 8,
   "id": "e7e5c54b",
   "metadata": {},
   "outputs": [
    {
     "name": "stdout",
     "output_type": "stream",
     "text": [
      "<class 'float'>\n",
      "x =  5.0  ,  y =  10.0\n",
      "x.as_integer_ratio() =  (5, 1)\n",
      "y.hex() =  0x1.4000000000000p+3\n",
      "\n",
      "COMPARISONS\n",
      "x == y = False\n",
      "x != y =  True\n",
      "x >= y =  False\n",
      "x > y =  False\n",
      "x <= y =  True\n",
      "x < y =  True\n",
      "\n",
      "OPERATORS\n",
      "x + y =  15.0\n",
      "x - y =  -5.0\n",
      "x * y =  50.0\n",
      "x / y =  0.5\n",
      "\n",
      "BUILTIN FUNCTIONS\n",
      "divmod(x,y) =  (0.0, 5.0)\n",
      "pow(x, y) =  9765625.0\n",
      "abs(-x) =  5.0\n",
      "int(5.2) =  5\n",
      "int('0xff',16) =  255\n",
      "float(x) =  5.0\n",
      "\n",
      "INLINE NOTATION\n",
      "x = x + y =  15.0\n",
      "x = x - y =  5.0\n",
      "x = x * y =  50.0\n",
      "x = x / y =  5.0\n",
      "\n",
      "MULTIPLE ASSIGNMENTS\n",
      "x =  4  ,  y =  2\n",
      "\n"
     ]
    }
   ],
   "source": [
    "x = 5.0\n",
    "y = float.fromhex(\"A\")\n",
    "\n",
    "print(type(x))\n",
    "print(\"x = \", x, \" , \", \"y = \", y)\n",
    "print(\"x.as_integer_ratio() = \", x.as_integer_ratio())\n",
    "print(\"y.hex() = \", y.hex())\n",
    "print(\"\")\n",
    "\n",
    "# Typical comparisons can be made\n",
    "print(\"COMPARISONS\")\n",
    "print(\"x == y =\", x == y)\n",
    "print(\"x != y = \", x != y)\n",
    "print(\"x >= y = \", x >= y)\n",
    "print(\"x > y = \", x > y)\n",
    "print(\"x <= y = \", x <= y)\n",
    "print(\"x < y = \", x < y)\n",
    "print(\"\")\n",
    "\n",
    "# THe usual operators can be used\n",
    "print(\"OPERATORS\")\n",
    "print(\"x + y = \", x + y)\n",
    "print(\"x - y = \", x - y)\n",
    "print(\"x * y = \", x * y)\n",
    "print(\"x / y = \", x / y)\n",
    "print(\"\")\n",
    "\n",
    "# There are several usefull builtin functions\n",
    "print(\"BUILTIN FUNCTIONS\")\n",
    "print(\"divmod(x,y) = \", divmod(x,y))\n",
    "print(\"pow(x, y) = \", pow(x,y))\n",
    "print(\"abs(-x) = \", abs(-x))\n",
    "print(\"int(5.2) = \", int(5.2))\n",
    "print(\"int('0xff',16) = \", int(\"0xff\",16))\n",
    "print(\"float(x) = \", float(x))\n",
    "print(\"\")\n",
    "\n",
    "# Inline notation can also be used\n",
    "print(\"INLINE NOTATION\")\n",
    "print(\"x = x + y = \", end = \" \")\n",
    "x += y\n",
    "print(x)\n",
    "print(\"x = x - y = \", end = \" \")\n",
    "x -= y\n",
    "print(x)\n",
    "print(\"x = x * y = \", end = \" \")\n",
    "x *= y\n",
    "print(x)\n",
    "print(\"x = x / y = \", end = \" \")\n",
    "x /= y\n",
    "print(x)\n",
    "print(\"\")\n",
    "\n",
    "# Multiple assignments can be done\n",
    "print(\"MULTIPLE ASSIGNMENTS\")\n",
    "x, y = 4, 2\n",
    "print(\"x = \", x, \" , \", \"y = \", y)\n",
    "print(\"\")\n",
    "\n",
    "# Bitwise operators cannot be used on the float type"
   ]
  },
  {
   "cell_type": "markdown",
   "id": "e84b24d7",
   "metadata": {},
   "source": [
    "### Basic math functions"
   ]
  },
  {
   "cell_type": "code",
   "execution_count": 9,
   "id": "e53e5dfa",
   "metadata": {},
   "outputs": [
    {
     "name": "stdout",
     "output_type": "stream",
     "text": [
      "x =  5.0  ,  y =  10\n",
      "\n",
      "The value of pi is:  3.141592653589793\n",
      "The rounded value of pi is:  3.1416\n",
      "The value of e is:  2.718281828459045\n",
      "\n",
      "SPECIAL FLOAT NUMBERS\n",
      "math.isinf(pos_inf) =  True\n",
      "math.isinf(neg_inf) =  True\n",
      "math.isnan(not_a_number) =  True\n",
      "\n",
      "SPECIAL NUMBERS ERRORS\n",
      "pos_inf * x =  inf\n",
      "neg_inf / y =  -inf\n",
      "pos_inf + neg_inf =  nan\n",
      "not_a_number - y =  nan\n",
      "\n",
      "INEQUAL NAN VALUES\n",
      "not_a_number == not_a_number =  False\n",
      "\n",
      "MORE MATH FUNCTIONS\n",
      "math.factorial(5) =  120\n",
      "\n",
      "LOG AND POWER FUNCTIONS\n",
      "math.log(x) =  1.6094379124341003\n",
      "math.log10(x) =  0.6989700043360189\n",
      "math.exp(x) =  148.4131591025766\n",
      "math.pow(x, x) =  3125.0\n",
      "math.sqrt(x) =  2.23606797749979\n",
      "\n",
      "TRIGOMETRIC\n",
      "math.cos(x) =  0.28366218546322625\n",
      "math.acos(0.284) =  1.2828330039201725\n",
      "\n",
      "ANGULAR\n",
      "math.degrees(x) =  286.4788975654116\n",
      "math.radians(286.5) =  5.000368306963754\n",
      "\n",
      "HYPERBOLIC\n",
      "math.acosh(x) =  2.2924316695611777\n",
      "math.asinh(x) =  2.3124383412727525\n",
      "\n"
     ]
    }
   ],
   "source": [
    "x, y = 5.0, 10\n",
    "\n",
    "print(\"x = \", x, \" , \", \"y = \", y)\n",
    "print(\"\")\n",
    "\n",
    "import math # imports math module\n",
    "# import a couple of contstants\n",
    "pi = math.pi\n",
    "e = math.e\n",
    "print(\"The value of pi is: \", pi)\n",
    "print(\"The rounded value of pi is: \", round(pi, 4))\n",
    "print(\"The value of e is: \", e)\n",
    "print(\"\")\n",
    "\n",
    "# The float class allows creation of special numbers\n",
    "print(\"SPECIAL FLOAT NUMBERS\")\n",
    "pos_inf = float(\"inf\")\n",
    "neg_inf = float(\"-inf\")\n",
    "not_a_number = float(\"nan\")\n",
    "\n",
    "# The math module provides functions to detect these numbers\n",
    "print(\"math.isinf(pos_inf) = \", math.isinf(pos_inf))\n",
    "print(\"math.isinf(neg_inf) = \", math.isinf(neg_inf))\n",
    "print(\"math.isnan(not_a_number) = \", math.isnan(not_a_number))\n",
    "print(\"\")\n",
    "\n",
    "# Beware that these special numbers propagate with errors\n",
    "print(\"SPECIAL NUMBERS ERRORS\")\n",
    "print(\"pos_inf * x = \", pos_inf * x)\n",
    "print(\"neg_inf / y = \", neg_inf / y)\n",
    "print(\"pos_inf + neg_inf = \", pos_inf + neg_inf)\n",
    "print(\"not_a_number - y = \", not_a_number - y)\n",
    "print(\"\")\n",
    "\n",
    "# A nan value is never equal to another nan value\n",
    "print(\"INEQUAL NAN VALUES\")\n",
    "print(\"not_a_number == not_a_number = \", not_a_number == not_a_number)\n",
    "print(\"\")\n",
    "\n",
    "# The math module provide many other functions\n",
    "print(\"MORE MATH FUNCTIONS\")\n",
    "print(\"math.factorial(5) = \", math.factorial(5))\n",
    "print(\"\")\n",
    "\n",
    "# Logarithmic and power functions\n",
    "print(\"LOG AND POWER FUNCTIONS\")\n",
    "print(\"math.log(x) = \", math.log(x))\n",
    "print(\"math.log10(x) = \", math.log10(x))\n",
    "print(\"math.exp(x) = \", math.exp(x))\n",
    "print(\"math.pow(x, x) = \", math.pow(x, x))\n",
    "print(\"math.sqrt(x) = \", math.sqrt(x))\n",
    "print(\"\")\n",
    "\n",
    "# Trigometric functions\n",
    "print(\"TRIGOMETRIC\")\n",
    "print(\"math.cos(x) = \", math.cos(x))\n",
    "print(\"math.acos(0.284) = \", math.acos(0.284))\n",
    "print(\"\")\n",
    "\n",
    "# Angular conversion functions\n",
    "print(\"ANGULAR\")\n",
    "print(\"math.degrees(x) = \", math.degrees(x))\n",
    "print(\"math.radians(286.5) = \", math.radians(286.5))\n",
    "print(\"\")\n",
    "\n",
    "# Hyperbolic functions\n",
    "print(\"HYPERBOLIC\")\n",
    "print(\"math.acosh(x) = \", math.acosh(x))\n",
    "print(\"math.asinh(x) = \", math.asinh(x))\n",
    "print(\"\")"
   ]
  },
  {
   "cell_type": "markdown",
   "id": "c72b471f",
   "metadata": {},
   "source": [
    "### BOOL Types"
   ]
  },
  {
   "cell_type": "code",
   "execution_count": 10,
   "id": "dd125908",
   "metadata": {},
   "outputs": [
    {
     "name": "stdout",
     "output_type": "stream",
     "text": [
      "bool x = 1 ,  bool y = 0\n",
      "\n",
      "FALSE VALUES\n",
      "None is False\n",
      "False is False\n",
      "Zero is False\n",
      "Empty mappings are False\n",
      "\n",
      "BOOLEAN OR\n",
      "True or False returns True\n",
      "1 or 0 returns 1\n",
      "None or 0 returns 0\n",
      "\n",
      "BOOLEAN AND\n",
      "True and False returns False\n",
      "1 and 0 returns 0\n",
      "None and 0 returns None\n",
      "\n",
      "BOOLEAN NOT\n",
      "not True returns False\n",
      "not 1 returns False\n",
      "not 'text' returns False\n",
      "\n",
      "BOOLEAN NOT\n",
      "not False returns True\n",
      "not 0 returns True\n",
      "not '' returns True\n",
      "\n"
     ]
    }
   ],
   "source": [
    "# The only two instances of the boolean class are true or false\n",
    "x = 1\n",
    "y = 0\n",
    "print(\"bool x =\", x, \", \", \"bool y =\", y)\n",
    "print(\"\")\n",
    "\n",
    "# The bool class is a subclass of int\n",
    "# Zero values are considered False, non-sero True\n",
    "\n",
    "# Values considered False in Python\n",
    "print(\"FALSE VALUES\")\n",
    "if not None: print(\"None is False\")\n",
    "if not False: print(\"False is False\")\n",
    "if not (0 or 0.0 or 0j): print(\"Zero is False\")\n",
    "if not({} or set([])): print(\"Empty mappings are False\")\n",
    "print(\"\")\n",
    "\n",
    "# Boolean Or return first True, or last False value\n",
    "print(\"BOOLEAN OR\")\n",
    "print(\"True or False returns\", True or False)\n",
    "print(\"1 or 0 returns\", 1 or 0)\n",
    "print(\"None or 0 returns\", None or 0)\n",
    "print(\"\")\n",
    "\n",
    "# Boolean And returns first False, or last True value\n",
    "print(\"BOOLEAN AND\")\n",
    "print(\"True and False returns\", True and False)\n",
    "print(\"1 and 0 returns\", 1 and 0)\n",
    "print(\"None and 0 returns\", None and 0)\n",
    "print(\"\")\n",
    "\n",
    "# Boolean Not returns False if operant is True\n",
    "print(\"BOOLEAN NOT\")\n",
    "print(\"not True returns\", not True)\n",
    "print(\"not 1 returns\", not 1)\n",
    "print(\"not 'text' returns\", not 'text')\n",
    "print(\"\")\n",
    "\n",
    "# Boolean Not returns True if operant is False\n",
    "print(\"BOOLEAN NOT\")\n",
    "print(\"not False returns\", not False)\n",
    "print(\"not 0 returns\", not 0)\n",
    "print(\"not '' returns\", not '')\n",
    "print(\"\")"
   ]
  },
  {
   "cell_type": "markdown",
   "id": "76f81e84",
   "metadata": {},
   "source": [
    "## Sequence types\n",
    "\n",
    "### The STRING type"
   ]
  },
  {
   "cell_type": "code",
   "execution_count": 11,
   "id": "cb1a0ef6",
   "metadata": {},
   "outputs": [
    {
     "name": "stdout",
     "output_type": "stream",
     "text": [
      "single quoted double quoted\n",
      "\n",
      "She said \"Hello!\" It's mine!\n",
      "\n",
      "She said \"Hello!\" It's mine!\n",
      "\n",
      "ESCAPE SEQUENCES\n",
      "line 1\n",
      "Line 2\n",
      "Line 3\n",
      "col 1\tcol 2\tcol 3\n",
      "The backslash: \\\n",
      "\n",
      "RAW LINES\n",
      "line 1\\nLine 2\\nLine 3\n",
      "col 1\\tcol 2\\tcol 3\n",
      "The backslash: \\\\\n",
      "\n",
      "\n",
      "SEQUENCE OBJECTS\n",
      "sub_text =  double\n",
      "doubledouble\n",
      "________________________________________\n",
      "len(sub_text) returns 6\n",
      "min(sub_text) returns b\n",
      "max(sub_text) returns u\n",
      "sub_text not in quote_1 returns True\n",
      "sub_text in quote_2 returns True\n",
      "\n",
      "STRING OBJECT METHODS\n",
      "why_1.count('e') returns 2\n",
      "why_1.index('e') returns 2\n",
      "why_1.index('e', 3, 18) returns 11\n",
      "why_1.find('X') returns -1\n",
      "why_1.startswith('She') returns True\n",
      "why_1.endswith('!\\'') returns False\n",
      "why_1.upper() returns SHE SAID \"HELLO!\"\n",
      "why_1.lower() returns she said \"hello!\"\n",
      "\n",
      "csv.split(',') returns ['a', ' b', ' c']\n",
      "','.join(['a', ' b', ' c']) returns a, b, c\n",
      "sub_text.isalpha() returns True\n",
      "sub_text.isdigit() returns False\n",
      "\n"
     ]
    }
   ],
   "source": [
    "# Strings of class str are created with quotes\n",
    "quote_1 = 'single quoted'\n",
    "quote_2 = \"double quoted\"\n",
    "print(quote_1, quote_2)\n",
    "print(\"\")\n",
    "\n",
    "why_1 = 'She said \"Hello!\"'\n",
    "why_2 = \"It's mine!\"\n",
    "print(why_1, why_2)\n",
    "print(\"\")\n",
    "\n",
    "why_not_1 = \"She said \\\"Hello!\\\"\"\n",
    "why_not_2 = 'It\\'s mine!'\n",
    "print(why_not_1,why_not_2)\n",
    "print(\"\")\n",
    "\n",
    "# Special escape sequences exist\n",
    "print(\"ESCAPE SEQUENCES\")\n",
    "new_line = 'line 1\\nLine 2\\nLine 3'\n",
    "print(new_line)\n",
    "tab_char = \"col 1\\tcol 2\\tcol 3\"\n",
    "print(tab_char)\n",
    "backslash = \"The backslash: \\\\\"\n",
    "print(backslash)\n",
    "print(\"\")\n",
    "\n",
    "# Raw strings prevent excape sequences interpretation\n",
    "print(\"RAW LINES\")\n",
    "raw_new_line = r'line 1\\nLine 2\\nLine 3'\n",
    "print(raw_new_line)\n",
    "raw_tab_char = r\"col 1\\tcol 2\\tcol 3\"\n",
    "print(raw_tab_char)\n",
    "raw_backslash = r\"The backslash: \\\\\"\n",
    "print(raw_backslash)\n",
    "print(\"\")\n",
    "print(\"\")\n",
    "\n",
    "# Sequence objects can use several operators and functions\n",
    "print(\"SEQUENCE OBJECTS\")\n",
    "sub_text = \"double\"\n",
    "print(\"sub_text = \", sub_text)\n",
    "print(sub_text + sub_text)\n",
    "print(\"_\" * 40)\n",
    "print(\"len(sub_text) returns\", len(sub_text))\n",
    "print(\"min(sub_text) returns\", min(sub_text))\n",
    "print(\"max(sub_text) returns\", max(sub_text))\n",
    "print(\"sub_text not in quote_1 returns\", sub_text not in quote_1)\n",
    "print(\"sub_text in quote_2 returns\", sub_text in quote_2)\n",
    "print(\"\")\n",
    "\n",
    "# String objects have many available methods like\n",
    "print(\"STRING OBJECT METHODS\")\n",
    "print(\"why_1.count('e') returns\", why_1.count(\"e\"))\n",
    "print(\"why_1.index('e') returns\", why_1.index(\"e\"))\n",
    "print(\"why_1.index('e', 3, 18) returns\", why_1.index(\"e\", 3, 18))\n",
    "print(\"why_1.find('X') returns\", why_1.find(\"X\"))\n",
    "print(\"why_1.startswith('She') returns\", why_1.startswith(\"She\"))\n",
    "print(\"why_1.endswith('!\\\\'') returns\", why_1.endswith('!\\\\\"'))\n",
    "print(\"why_1.upper() returns\", why_1.upper())\n",
    "print(\"why_1.lower() returns\", why_1.lower())\n",
    "print(\"\")\n",
    "\n",
    "csv = \"a, b, c\"\n",
    "print(\"csv.split(',') returns\", csv.split(','))\n",
    "print(\"','.join(['a', ' b', ' c']) returns\", ','.join(['a', ' b', ' c']))\n",
    "print(\"sub_text.isalpha() returns\", sub_text.isalpha())\n",
    "print(\"sub_text.isdigit() returns\", sub_text.isdigit())\n",
    "print(\"\")"
   ]
  },
  {
   "cell_type": "markdown",
   "id": "4327ad9f",
   "metadata": {},
   "source": [
    "### The BYTES type"
   ]
  },
  {
   "cell_type": "code",
   "execution_count": 12,
   "id": "e1365be3",
   "metadata": {},
   "outputs": [
    {
     "name": "stdout",
     "output_type": "stream",
     "text": [
      "bytes_literal =  b'Copyright \\xc2\\xa9'\n",
      "bytes_literal.decode() -> Copyright ©\n",
      "bytes_literal.decode('utf8') -> Copyright ©\n",
      "bytes_literal.decode('utf16') -> 潃祰楲桧⁴꧂\n",
      "\n",
      "bytes_encoded =  b'Trademark \\xc2\\xae'\n",
      "bytes_encoded.decode() -> Trademark ®\n",
      "bytes(str_literal) -> b'Trademark \\xc2\\xae'\n",
      "\n",
      "bytes_construct =  b'Trademark \\xc2\\xae'\n",
      "bytes_construct.decode() -> Trademark ®\n",
      "\n",
      "bytes_from_hex =  b'Trademark \\xc2\\xae'\n",
      "bytes_from_hex.decode() -> Trademark ®\n",
      "\n",
      "str_literal.count('T') -> 1\n",
      "str_literal.index('T') -> 0\n",
      "\n",
      "bytes_encoded.count(0x54) -> 1\n",
      "bytes_encoded.index(0x54) -> 0\n",
      "\n"
     ]
    }
   ],
   "source": [
    "# The bytes class provides an immutable sequence\n",
    "# Values must be integers from 0-255 to represent a byte\n",
    "\n",
    "bytes_literal = b\"Copyright \\xc2\\xa9\"\n",
    "print(\"bytes_literal = \", bytes_literal)\n",
    "print(\"bytes_literal.decode() ->\", bytes_literal.decode())\n",
    "print(\"bytes_literal.decode('utf8') ->\", bytes_literal.decode(\"utf8\"))\n",
    "print(\"bytes_literal.decode('utf16') ->\", bytes_literal.decode('utf16'))\n",
    "print(\"\")\n",
    "\n",
    "str_literal = \"Trademark ®\"\n",
    "bytes_encoded = str_literal.encode()\n",
    "print(\"bytes_encoded = \", bytes_encoded)\n",
    "print(\"bytes_encoded.decode() ->\", bytes_encoded.decode())\n",
    "print(\"bytes(str_literal) ->\", bytes(str_literal, \"utf8\"))\n",
    "print(\"\")\n",
    "\n",
    "bytes_construct = bytes(str_literal, \"utf8\")\n",
    "print(\"bytes_construct = \", bytes_construct)\n",
    "print(\"bytes_construct.decode() ->\", bytes_construct.decode())\n",
    "print(\"\")\n",
    "\n",
    "bytes_from_hex = bytes.fromhex(\"54 72 61 64 65 6d 61 72 6b 20 c2 ae\")\n",
    "print(\"bytes_from_hex = \", bytes_from_hex)\n",
    "print(\"bytes_from_hex.decode() ->\", bytes_from_hex.decode())\n",
    "print(\"\")\n",
    "\n",
    "# A bytes sequence behaves similar to a string\n",
    "print(\"str_literal.count('T') ->\", str_literal.count('T'))\n",
    "print(\"str_literal.index('T') ->\", str_literal.index('T'))\n",
    "print(\"\")\n",
    "\n",
    "# However, byte values are used instead of string values\n",
    "print(\"bytes_encoded.count(0x54) ->\", bytes_encoded.count(0x54))\n",
    "print(\"bytes_encoded.index(0x54) ->\", bytes_encoded.index(0x54))\n",
    "print(\"\")"
   ]
  },
  {
   "cell_type": "markdown",
   "id": "c4b40148",
   "metadata": {},
   "source": [
    "### The BYTEARRAY type"
   ]
  },
  {
   "cell_type": "code",
   "execution_count": 13,
   "id": "72409713",
   "metadata": {},
   "outputs": [
    {
     "name": "stdout",
     "output_type": "stream",
     "text": [
      "bytes_array =  bytearray(b'Trademark \\xc2\\xae')\n",
      "bytes_array.decode() -> Trademark ®\n",
      "\n",
      "str_literal.count('T') -> 1\n",
      "str_literal.index('T') -> 0\n",
      "\n",
      "bytes_array.count(0x54) -> 1\n",
      "bytes_array.index(0x54) -> 0\n",
      "\n",
      "bytes_array.append =  bytearray(b'Trademark \\xc2\\xae ')\n",
      "bytes_array.extend =  <built-in method extend of bytearray object at 0x00000262247269F0>\n",
      "bytes_array.decode() -> Trademark ® ®\n",
      "bytes_array.remove =  bytearray(b'rademark \\xc2\\xae \\xc2\\xae')\n",
      "bytes_array.insert =  bytearray(b'Trademark \\xc2\\xae \\xc2\\xae')\n",
      "bytes_array.decode() -> Trademark ® \n"
     ]
    }
   ],
   "source": [
    "# The bytearray class provides an mutable sequence\n",
    "# Values must be integers from 0-255 to represent a byte\n",
    "empty_array = bytearray()\n",
    "null_array = bytearray(11)\n",
    "# ints_array - bytearray((84, 114, 97, 100, 101, 109, 97, 114, 107, 32, 194, 174))\n",
    "str_array = bytearray(\"Trademark ®\", \"utf-8\")\n",
    "bytes_array = bytearray(b\"Trademark \\xc2\\xae\")\n",
    "\n",
    "print(\"bytes_array = \", bytes_array)\n",
    "print(\"bytes_array.decode() ->\", bytes_array.decode())\n",
    "\n",
    "str_literal = \"Trademark ®\"\n",
    "print(\"\")\n",
    "\n",
    "# A bytearray sequence behaves similar to a string\n",
    "print(\"str_literal.count('T') ->\", str_literal.count('T'))\n",
    "print(\"str_literal.index('T') ->\", str_literal.index('T'))\n",
    "print(\"\")\n",
    "\n",
    "# However, byte values are used instead of string values\n",
    "print(\"bytes_array.count(0x54) ->\", bytes_array.count(0x54))\n",
    "print(\"bytes_array.index(0x54) ->\", bytes_array.index(0x54))\n",
    "print(\"\")\n",
    "\n",
    "# Bytearray objects have methods to mutate them\n",
    "bytes_array.append(32)\n",
    "print(\"bytes_array.append = \", bytes_array)\n",
    "\n",
    "bytes_array.extend((194,174))\n",
    "print(\"bytes_array.extend = \", bytes_array.extend)\n",
    "print(\"bytes_array.decode() ->\", bytes_array.decode())\n",
    "\n",
    "bytes_array.remove(0x54)\n",
    "print(\"bytes_array.remove = \", bytes_array)\n",
    "\n",
    "bytes_array.insert(0, 0x54)\n",
    "print(\"bytes_array.insert = \", bytes_array)\n",
    "\n",
    "bytes_array.pop()\n",
    "bytes_array.pop()\n",
    "print(\"bytes_array.decode() ->\", bytes_array.decode())"
   ]
  },
  {
   "cell_type": "markdown",
   "id": "a99189cd",
   "metadata": {},
   "source": [
    "### The LIST type"
   ]
  },
  {
   "cell_type": "code",
   "execution_count": 14,
   "id": "153a1b6c",
   "metadata": {},
   "outputs": [
    {
     "name": "stdout",
     "output_type": "stream",
     "text": [
      "empty_list =  []\n",
      "list_str =  ['H', 'e', 'l', 'l', 'o']\n",
      "list_tuple =  [1, 2, (3, 4, 5)]\n",
      "empty_list =  []\n",
      "list_syn =  [3, 4, 'a', 'b', 'c']\n",
      "'a' in list_syn -> True\n",
      "1 not in list_syn True\n",
      "\n",
      "empty_list -> [5]\n",
      "empty_list -> [5, [6, 7]]\n",
      "last_element ->  [6, 7]\n",
      "empty_list -> [5, 6, 7]\n",
      "first_element -> 5\n",
      "empty_list -> [6, 7]\n",
      "empty_list -> [10, 6, 7]\n",
      "empty_list -> [10, 6, 7, 100]\n",
      "empty_list -> [10, 6, 100]\n",
      "empty_list =  []\n",
      "\n",
      "list_str =  ['H', 'e', 'l', 'l', 'o']\n",
      "min(list_str) -> H\n",
      "max(list_str) -> o\n",
      "sorted(list_str) -> ['H', 'e', 'l', 'l', 'o']\n",
      "list_str =  ['H', 'e', 'l', 'l', 'o']\n",
      "\n",
      "list_str.sort -> ['H', 'e', 'l', 'l', 'o']\n",
      "list_str.reverse -> ['o', 'l', 'l', 'e', 'H']\n",
      "list_str.count('o') -> 1\n",
      "list_str.index('o') -> 0\n"
     ]
    }
   ],
   "source": [
    "# The list class provices a mutable sequence of elements\n",
    "empty_list = list()\n",
    "print(\"empty_list = \", empty_list)\n",
    "\n",
    "list_str = list(\"Hello\")\n",
    "print(\"list_str = \", list_str)\n",
    "\n",
    "list_tuple = list((1, 2, (3, 4, 5)))\n",
    "print(\"list_tuple = \", list_tuple)\n",
    "\n",
    "empty_list = []\n",
    "print(\"empty_list = \", empty_list)\n",
    "\n",
    "list_syn = [3, 4, \"a\", \"b\", 'c']\n",
    "print(\"list_syn = \", list_syn)\n",
    "print(\"'a' in list_syn ->\", \"a\" in list_syn)\n",
    "print(\"1 not in list_syn\", 1 not in list_syn)\n",
    "print(\"\")\n",
    "\n",
    "empty_list.append(5)\n",
    "print(\"empty_list ->\", empty_list)\n",
    "empty_list.append([6, 7])\n",
    "print(\"empty_list ->\", empty_list)\n",
    "last_element = empty_list.pop()\n",
    "print(\"last_element -> \", last_element)\n",
    "empty_list.extend([6, 7])\n",
    "print(\"empty_list ->\", empty_list)\n",
    "first_element = empty_list.pop(0)\n",
    "print(\"first_element ->\", first_element)\n",
    "print(\"empty_list ->\", empty_list)\n",
    "empty_list.insert(0, 10)\n",
    "print(\"empty_list ->\", empty_list)\n",
    "empty_list.insert(3, 100)\n",
    "print(\"empty_list ->\", empty_list)\n",
    "empty_list.remove(7)\n",
    "print(\"empty_list ->\", empty_list)\n",
    "empty_list.clear()\n",
    "print(\"empty_list = \", empty_list)\n",
    "print(\"\")\n",
    "\n",
    "print(\"list_str = \", list_str)\n",
    "print(\"min(list_str) ->\", min(list_str))\n",
    "print(\"max(list_str) ->\", max(list_str))\n",
    "print(\"sorted(list_str) ->\", sorted(list_str))\n",
    "print(\"list_str = \", list_str)\n",
    "print(\"\")\n",
    "\n",
    "list_str.sort()\n",
    "print(\"list_str.sort ->\", list_str)\n",
    "list_str.reverse()\n",
    "print(\"list_str.reverse ->\", list_str)\n",
    "print(\"list_str.count('o') ->\", list_str.count('o'))\n",
    "print(\"list_str.index('o') ->\", list_str.index('o'))"
   ]
  },
  {
   "cell_type": "markdown",
   "id": "e99f0412",
   "metadata": {},
   "source": [
    "### The TUPLE type"
   ]
  },
  {
   "cell_type": "code",
   "execution_count": 15,
   "id": "096123f6",
   "metadata": {},
   "outputs": [
    {
     "name": "stdout",
     "output_type": "stream",
     "text": [
      "empty_tuple =  ()\n",
      "tuple_str =  ('h', 'e', 'l', 'l', 'o')\n",
      "tuple_list =  (1, 2, 3, [4, 5])\n",
      "empty_tuple =  ()\n",
      "singleton_tuple =  (1,)\n",
      "tuple_syn =  (2, 4, 'a', 'b')\n",
      "\n",
      "'a' in tuple_syn -> True\n",
      "1 not in tuple_syn -> True\n",
      "\n",
      "tuple_str =  ('h', 'e', 'l', 'l', 'o')\n",
      "min(tuple_str) -> e\n",
      "max(tuple_str) -> o\n",
      "sorted(tuple_str) -> ['e', 'h', 'l', 'l', 'o']\n",
      "tuple_str.count('o') -> 1\n",
      "tuple_str.index('o') -> 4\n",
      "len(tuple_str) -> 5\n"
     ]
    }
   ],
   "source": [
    "# The tuple class provides a immutable sequence of elements\n",
    "empty_tuple = tuple()\n",
    "print(\"empty_tuple = \", empty_tuple)\n",
    "\n",
    "tuple_str = tuple(\"hello\")\n",
    "print(\"tuple_str = \", tuple_str)\n",
    "\n",
    "tuple_list = tuple([1,2,3,[4,5]])\n",
    "print(\"tuple_list = \", tuple_list)\n",
    "\n",
    "empty_tuple = ()\n",
    "print(\"empty_tuple = \", empty_tuple)\n",
    "\n",
    "singleton_tuple = (1,)\n",
    "print(\"singleton_tuple = \", singleton_tuple)\n",
    "\n",
    "tuple_syn = (2,4,\"a\",'b')\n",
    "print(\"tuple_syn = \", tuple_syn)\n",
    "print(\"\")\n",
    "\n",
    "print(\"'a' in tuple_syn ->\", \"a\" in tuple_syn)\n",
    "print(\"1 not in tuple_syn ->\", 1 not in tuple_syn)\n",
    "print(\"\")\n",
    "\n",
    "print(\"tuple_str = \", tuple_str)\n",
    "print(\"min(tuple_str) ->\", min(tuple_str))\n",
    "print(\"max(tuple_str) ->\", max(tuple_str))\n",
    "print(\"sorted(tuple_str) ->\", sorted(tuple_str))\n",
    "print(\"tuple_str.count('o') ->\", tuple_str.count('o'))\n",
    "print(\"tuple_str.index('o') ->\", tuple_str.index('o'))\n",
    "print(\"len(tuple_str) ->\", len(tuple_str))"
   ]
  },
  {
   "cell_type": "markdown",
   "id": "d86fa393",
   "metadata": {},
   "source": [
    "### SLICING"
   ]
  },
  {
   "cell_type": "code",
   "execution_count": 16,
   "id": "055e4620",
   "metadata": {},
   "outputs": [
    {
     "name": "stdout",
     "output_type": "stream",
     "text": [
      "ACCESSING\n",
      "a_tuple =  ('a', 1, 2, 3, (4, 5))\n",
      "a_tuple[0] -> a\n",
      "a_string[1] -> m\n",
      "a_bytes[2] -> 113\n",
      "a_list[3] -> 7\n",
      "a_byte_array[4] -> 98\n",
      "\n",
      "NEGATIVE ACCESSING\n",
      "a_tuple[-1] -> (4, 5)\n",
      "a_string[-2] -> l\n",
      "a_bytes[-3] -> 110\n",
      "a_list[-4] -> 6\n",
      "a_byte_array[-5] -> 116\n",
      "\n",
      "SUBSLICES\n",
      "a_list = ['b', 5, 6, 7, [8, 9], (10, 11)]\n",
      "a_list[0:2] -> ['b', 5]\n",
      "a_list[:2] -> ['b', 5]\n",
      "a_list[2:5] -> [6, 7, [8, 9]]\n",
      "a_list[2:] -> [6, 7, [8, 9], (10, 11)]\n",
      "a_list[:] -> ['b', 5, 6, 7, [8, 9], (10, 11)]\n",
      "\n",
      "COPYING A LIST\n",
      "a_list =  ['b', 5, 6, 7, [8, 9], (10, 11)]\n",
      "list_ref =  ['b', 5, 6, 7, [8, 9], (10, 11)]\n",
      "a_list is list_ref -> True\n",
      "a_list is list_copy -> False\n",
      "\n",
      "THIRD PARAMETER STEPS\n",
      "a_list =  ['b', 5, 6, 7, [8, 9], (10, 11)]\n",
      "a_list[::2] -> ['b', 6, [8, 9]]\n",
      "a_list[1:4:2] -> [5, 7]\n",
      "a_list[::-1] -> [(10, 11), [8, 9], 7, 6, 5, 'b']\n",
      "\n",
      "ACCESSING ELEMENTS WITH SEQUENCES\n",
      "a_list =  ['b', 5, 6, 7, [8, 9], (10, 11)]\n",
      "a_list[4] ->  [8, 9]\n",
      "a_list[4][0] ->  8\n",
      "a_list[4][1] ->  9\n",
      "\n",
      "UPDATING WITH SLICES\n",
      "a_list =  ['b', 5, 6, 7, [8, 9], (10, 11)]\n",
      "a_list ->  ['five', 5, 6, 7, [8, 9], (10, 11)]\n",
      "a_list ->  ['five', 10, 11, 12, [8, 9], (10, 11)]\n",
      "a_list ->  ['five', 10, 11, 12, ['SomeText', 9], (10, 11)]\n",
      "\n",
      "CREATE A SLICE OBJECTS FOR SLICING\n",
      "a_slice ->  slice(None, 4, None)\n",
      "a_list[a_slice] ->  ['five', 10, 11, 12]\n",
      "a_slice ->  slice(1, 5, None)\n",
      "a_list[a_slice] ->  [10, 11, 12, ['SomeText', 9]]\n",
      "\n"
     ]
    }
   ],
   "source": [
    "# Slicing allows access to one or more elementse of a sequence\n",
    "# Immutable sequences include tuples, strings and bytes\n",
    "a_tuple = (\"a\", 1, 2, 3, (4, 5))\n",
    "a_string = \"immutable\"\n",
    "a_bytes = b\"sequence\"\n",
    "\n",
    "# Mutable sequences include lists and bytearrays\n",
    "a_list = [\"b\", 5, 6, 7, [8, 9], (10, 11)]\n",
    "a_byte_array = bytearray(b\"mutable\")\n",
    "\n",
    "# Accessing is allowed in all sequences\n",
    "print(\"ACCESSING\")\n",
    "print(\"a_tuple = \",a_tuple)\n",
    "print(\"a_tuple[0] ->\",a_tuple[0])\n",
    "print(\"a_string[1] ->\",a_string[1])\n",
    "print(\"a_bytes[2] ->\", a_bytes[2])\n",
    "print(\"a_list[3] ->\", a_list[3])\n",
    "print(\"a_byte_array[4] ->\", a_byte_array[4])\n",
    "print(\"\")\n",
    "\n",
    "# Negative indexes are from the end\n",
    "print(\"NEGATIVE ACCESSING\")\n",
    "print(\"a_tuple[-1] ->\",a_tuple[-1])\n",
    "print(\"a_string[-2] ->\",a_string[-2])\n",
    "print(\"a_bytes[-3] ->\", a_bytes[-3])\n",
    "print(\"a_list[-4] ->\", a_list[-4])\n",
    "print(\"a_byte_array[-5] ->\", a_byte_array[-5])\n",
    "print(\"\")\n",
    "\n",
    "# Subslices can be accessed with two indexes\n",
    "print(\"SUBSLICES\")\n",
    "print(\"a_list =\", a_list)\n",
    "print(\"a_list[0:2] ->\", a_list[0:2])\n",
    "print(\"a_list[:2] ->\", a_list[:2])\n",
    "print(\"a_list[2:5] ->\", a_list[2:5])\n",
    "print(\"a_list[2:] ->\", a_list[2:])\n",
    "print(\"a_list[:] ->\", a_list[:])\n",
    "print(\"\")\n",
    "\n",
    "print(\"COPYING A LIST\")\n",
    "list_ref = a_list\n",
    "print(\"a_list = \", a_list)\n",
    "print(\"list_ref = \", list_ref)\n",
    "print(\"a_list is list_ref ->\", a_list is list_ref)\n",
    "list_copy = a_list[:]\n",
    "print(\"a_list is list_copy ->\", a_list is list_copy)\n",
    "print(\"\")\n",
    "\n",
    "# Steps can be taken with third parameter\n",
    "print(\"THIRD PARAMETER STEPS\")\n",
    "print(\"a_list = \", a_list)\n",
    "print(\"a_list[::2] ->\", a_list[::2])\n",
    "print(\"a_list[1:4:2] ->\", a_list[1:4:2])\n",
    "print(\"a_list[::-1] ->\", a_list[::-1])\n",
    "print(\"\")\n",
    "\n",
    "# Using additional slices to access elements with sequences\n",
    "print(\"ACCESSING ELEMENTS WITH SEQUENCES\")\n",
    "print(\"a_list = \", a_list)\n",
    "print(\"a_list[4] -> \", a_list[4])\n",
    "print(\"a_list[4][0] -> \", a_list[4][0])\n",
    "print(\"a_list[4][1] -> \", a_list[4][1])\n",
    "print(\"\")\n",
    "\n",
    "# Mutable sequences can be updated with slices\n",
    "print(\"UPDATING WITH SLICES\")\n",
    "print(\"a_list = \", a_list)\n",
    "a_list[0] = \"five\"\n",
    "print(\"a_list -> \", a_list)\n",
    "a_list[1:4] = [10, 11, 12]\n",
    "print(\"a_list -> \", a_list)\n",
    "a_list[4][0] = \"SomeText\"\n",
    "print(\"a_list -> \", a_list)\n",
    "print(\"\")\n",
    "\n",
    "# A slice object can be used in the [] for slicing\n",
    "print(\"CREATE A SLICE OBJECTS FOR SLICING\")\n",
    "a_slice = slice(4) # Create a slice object\n",
    "print(\"a_slice -> \", a_slice) # It has no start but stop and no step\n",
    "print(\"a_list[a_slice] -> \", a_list[a_slice]) # show the elements from a_list with the help of the slice object\n",
    "a_slice = slice(1,5)\n",
    "print(\"a_slice -> \", a_slice)\n",
    "print(\"a_list[a_slice] -> \", a_list[a_slice])\n",
    "print(\"\")"
   ]
  },
  {
   "cell_type": "markdown",
   "id": "679bb7ba",
   "metadata": {},
   "source": [
    "## Collection and mapping types\n",
    "\n",
    "### The range type and function"
   ]
  },
  {
   "cell_type": "code",
   "execution_count": 17,
   "id": "4beb26ca",
   "metadata": {},
   "outputs": [
    {
     "name": "stdout",
     "output_type": "stream",
     "text": [
      "a_range =  range(0, 5)\n",
      "list(a_range) -> [0, 1, 2, 3, 4]\n",
      "\n",
      "0 1 2 3 4 \n",
      "\n",
      "list(a_range) -> [0, 1, 2, 3, 4, 5, 6, 7, 8, 9]\n",
      "list(a_range) -> [10, 11, 12, 13, 14, 15]\n",
      "list(a_range) -> [10, 9, 8, 7, 6, 5, 4, 3, 2, 1, 0]\n",
      "\n"
     ]
    }
   ],
   "source": [
    "# The rance function generates a sequence of integers\n",
    "a_range = range(5)\n",
    "print(\"a_range = \", a_range)\n",
    "print(\"list(a_range) ->\", list(a_range))\n",
    "print(\"\")\n",
    "\n",
    "# It is often used to execute a \"for\" loop a number of times\n",
    "for i in range(5):\n",
    "    print(i, end=\" \") # Execure 5 times\n",
    "print()\n",
    "print(\"\")\n",
    "\n",
    "# It is similar to the slice function with a start, top and step\n",
    "a_range = range(10) # Stop only\n",
    "print(\"list(a_range) ->\", list(a_range))\n",
    "\n",
    "a_range = range(10, 16) # Start and stop only\n",
    "print(\"list(a_range) ->\", list(a_range))\n",
    "\n",
    "a_range = range(10, -1, -1) # Start stop and step (backwards)\n",
    "print(\"list(a_range) ->\", list(a_range))\n",
    "print(\"\")"
   ]
  },
  {
   "cell_type": "markdown",
   "id": "47bbd9f7",
   "metadata": {},
   "source": [
    "### The SET type"
   ]
  },
  {
   "cell_type": "code",
   "execution_count": 18,
   "id": "dd698faf",
   "metadata": {},
   "outputs": [
    {
     "name": "stdout",
     "output_type": "stream",
     "text": [
      "empty_set =  set()\n",
      "alpha = {'d', 'b', 'a', 'c', 'e'}\n",
      "beta =  {'e', 'c', 'f', 'd'}\n",
      "uniq_list =  ['e', 'c', 'f', 'd']\n",
      "\n",
      "gamma -> {'f', 'd', 'a', 'b', 'c', 'e'}\n",
      "gamma -> {'f', 'd', 'a', 'b', 'c', 'e'}\n",
      "\n",
      "delta -> {'c', 'd', 'e'}\n",
      "delta -> {'c', 'd', 'e'}\n",
      "\n",
      "epsilon -> {'a', 'b'}\n",
      "epsilon -> {'a', 'b'}\n",
      "\n",
      "eta -> {'f', 'b', 'a'}\n",
      "eta -> {'f', 'b', 'a'}\n",
      "\n",
      "epsilon.isdisjoint(delta) -> True\n",
      "epsilon.isdisjoint(eta) -> False\n",
      "\n",
      "epsilon.issubset(eta) -> True\n",
      "epsilon.issubset(beta) -> False\n",
      "\n",
      "eta.issuperset(epsilon) -> True\n",
      "beta.issuperset(epsilon) -> False\n",
      "\n",
      "feta -> frozenset({'a', 'f', 'b'})\n",
      "\n",
      "zeta =  set()\n",
      "zeta =  {3}\n",
      "zeta =  {3}\n",
      "zeta =  {3, 4}\n",
      "\n",
      "gamma -> {'f', 'd', 'a', 'b', 'c', 'e'}\n",
      "gamma -> {'f', 'd', 'b', 'c', 'e'}\n",
      "gamma -> {'f', 'd', 'b', 'c', 'e'}\n",
      "gamma -> {'f', 'd', 'c', 'e'}\n",
      "random_element -> f\n",
      "gamma -> {'d', 'c', 'e'}\n",
      "\n",
      "zeta -> set()\n",
      "zeta_ref -> set()\n",
      "zeta_copy -> {3, 4}\n",
      "\n",
      "alpha -> {'d', 'b', 'a', 'c', 'e'}\n",
      "alpha_diff -> {'a', 'b'}\n",
      "\n",
      "alpha_union -> {'f', 'd', 'a', 'b', 'c', 'e'}\n",
      "\n"
     ]
    }
   ],
   "source": [
    "# The set class provides a mapping of uique immutable elements\n",
    "empty_set = set()\n",
    "print(\"empty_set = \", empty_set)\n",
    "alpha = set((\"a\",\"b\", \"c\",\"d\",\"e\"))\n",
    "print(\"alpha =\", alpha)\n",
    "dup_list = ['c','d','e','f']\n",
    "beta = set(dup_list)\n",
    "print(\"beta = \", beta)\n",
    "uniq_list = list(beta)\n",
    "print(\"uniq_list = \", uniq_list)\n",
    "print(\"\")\n",
    "\n",
    "# Add two lists together\n",
    "gamma = alpha.union(beta)\n",
    "print(\"gamma ->\", gamma)\n",
    "gamma = alpha | beta\n",
    "print(\"gamma ->\", gamma)\n",
    "print(\"\")\n",
    "\n",
    "# Create list of only overlapping values\n",
    "delta = alpha.intersection(beta)\n",
    "print(\"delta ->\", delta)\n",
    "delta = alpha & beta\n",
    "print(\"delta ->\", delta)\n",
    "print(\"\")\n",
    "\n",
    "# Create list of only differences\n",
    "epsilon = alpha.difference(beta)\n",
    "print(\"epsilon ->\", epsilon)\n",
    "epsilon = alpha - beta\n",
    "print(\"epsilon ->\", epsilon)\n",
    "print(\"\")\n",
    "\n",
    "eta = alpha.symmetric_difference(beta)\n",
    "print(\"eta ->\", eta)\n",
    "eta = alpha ^ beta\n",
    "print(\"eta ->\", eta)\n",
    "print(\"\")\n",
    "\n",
    "# Checks between the different lists\n",
    "print(\"epsilon.isdisjoint(delta) ->\", epsilon.isdisjoint(delta))\n",
    "print(\"epsilon.isdisjoint(eta) ->\", epsilon.isdisjoint(eta))\n",
    "print(\"\")\n",
    "\n",
    "print(\"epsilon.issubset(eta) ->\", epsilon.issubset(eta))\n",
    "print(\"epsilon.issubset(beta) ->\", epsilon.issubset(beta))\n",
    "print(\"\")\n",
    "\n",
    "print(\"eta.issuperset(epsilon) ->\", eta.issuperset(epsilon))\n",
    "print(\"beta.issuperset(epsilon) ->\", beta.issuperset(epsilon))\n",
    "print(\"\")\n",
    "\n",
    "feta = frozenset(eta) # frozensets are immutable without updating methods\n",
    "print(\"feta ->\", feta)\n",
    "print(\"\")\n",
    "\n",
    "zeta = set()\n",
    "print(\"zeta = \", zeta)\n",
    "zeta.add(3)\n",
    "print(\"zeta = \", zeta)\n",
    "zeta.add(3)\n",
    "print(\"zeta = \", zeta)\n",
    "zeta.add(4)\n",
    "print(\"zeta = \", zeta)\n",
    "print(\"\")\n",
    "\n",
    "print(\"gamma ->\", gamma)\n",
    "gamma.discard(\"a\")\n",
    "print(\"gamma ->\", gamma)\n",
    "gamma.discard(\"z\")\n",
    "print(\"gamma ->\", gamma)\n",
    "gamma.remove(\"b\")\n",
    "print(\"gamma ->\", gamma)\n",
    "random_element = gamma.pop()\n",
    "print(\"random_element ->\", random_element)\n",
    "print(\"gamma ->\", gamma)\n",
    "print(\"\")\n",
    "\n",
    "zeta_ref = zeta\n",
    "zeta_copy= zeta.copy()\n",
    "zeta.clear()\n",
    "print(\"zeta ->\",zeta)\n",
    "print(\"zeta_ref ->\",zeta_ref)\n",
    "print(\"zeta_copy ->\",zeta_copy)\n",
    "print(\"\")\n",
    "\n",
    "print(\"alpha ->\", alpha)\n",
    "alpha_diff = alpha.copy()\n",
    "alpha_diff.difference_update(beta)\n",
    "print(\"alpha_diff ->\", alpha_diff)\n",
    "print(\"\")\n",
    "\n",
    "alpha_union = alpha.copy()\n",
    "alpha_union.update(beta)\n",
    "print(\"alpha_union ->\", alpha_union)\n",
    "print(\"\")"
   ]
  },
  {
   "cell_type": "markdown",
   "id": "536a6458",
   "metadata": {},
   "source": [
    "### The DICT type and function"
   ]
  },
  {
   "cell_type": "code",
   "execution_count": 19,
   "id": "239a481b",
   "metadata": {},
   "outputs": [
    {
     "name": "stdout",
     "output_type": "stream",
     "text": [
      "empty_dict = {}\n",
      "empty_dict -> {}\n",
      "\n",
      "dict_syn = {'k1': 'v1', 'k2': 'v2'}\n",
      "dict_syn -> {'k1': 'v1', 'k2': 'v2'}\n",
      "dict_syn['k2'] -> v2\n",
      "\n",
      "dict_syn -> {'k1': 'v1', 'k2': 'v2', 'k3': 'v3'}\n",
      "dict_syn -> {'k1': 'v1', 'k2': 'v2'}\n",
      "dict_syn -> {'k1': 1, 'k2': 'v2'}\n",
      "dict_syn -> {}\n",
      "dict_ref -> {}\n",
      "dict_copy -> {'k1': 1, 'k2': 1}\n",
      "\n",
      "key_list -> dict_keys(['k1', 'k2'])\n",
      "values_list -> dict_values([1, 1])\n",
      "mapping -> <zip object at 0x000002622481C240>\n",
      "dict_new -> {'k1': 1, 'k2': 1}\n",
      "\n",
      "'k3' in dict_new -> False\n",
      "'k3' not in dict_new -> True\n",
      "\n"
     ]
    }
   ],
   "source": [
    "# The dict class allows creating an associative array\n",
    "# of keys and values. Keys must be unique immutable objects\n",
    "empty_dict = dict()\n",
    "print(\"empty_dict =\", empty_dict)\n",
    "ampty_dict = {}\n",
    "print(\"empty_dict ->\", empty_dict)\n",
    "print(\"\")\n",
    "\n",
    "dict_syn = {'k1':'v1','k2':'v2'}\n",
    "print(\"dict_syn =\", dict_syn)\n",
    "dict_syn = dict(k1='v1', k2='v2')\n",
    "print(\"dict_syn ->\", dict_syn)\n",
    "print(\"dict_syn['k2'] ->\", dict_syn['k2'])\n",
    "print(\"\")\n",
    "\n",
    "dict_syn['k3'] = 'v3'\n",
    "print(\"dict_syn ->\", dict_syn)\n",
    "del(dict_syn['k3'])\n",
    "print(\"dict_syn ->\", dict_syn)\n",
    "dict_syn['k1'] = 1\n",
    "print(\"dict_syn ->\", dict_syn)\n",
    "dict_syn['k2']=1\n",
    "\n",
    "dict_ref = dict_syn\n",
    "dict_copy = dict_syn.copy()\n",
    "dict_syn.clear()\n",
    "print(\"dict_syn ->\", dict_syn)\n",
    "print(\"dict_ref ->\", dict_ref)\n",
    "print(\"dict_copy ->\", dict_copy)\n",
    "print(\"\")\n",
    "\n",
    "key_list = dict_copy.keys()\n",
    "print(\"key_list ->\", key_list)\n",
    "values_list = dict_copy.values()\n",
    "print(\"values_list ->\", values_list)\n",
    "mapping = zip(key_list, values_list)\n",
    "print(\"mapping ->\", mapping)\n",
    "dict_new = dict(mapping)\n",
    "print(\"dict_new ->\", dict_new)\n",
    "print(\"\")\n",
    "\n",
    "print(\"'k3' in dict_new ->\", 'k3' in dict_new)\n",
    "print(\"'k3' not in dict_new ->\", 'k3' not in dict_new)\n",
    "print(\"\")"
   ]
  },
  {
   "cell_type": "markdown",
   "id": "91c0d327",
   "metadata": {},
   "source": [
    "### The WHILE loop"
   ]
  },
  {
   "cell_type": "code",
   "execution_count": 20,
   "id": "586041d5",
   "metadata": {},
   "outputs": [
    {
     "name": "stdout",
     "output_type": "stream",
     "text": [
      "Counting down: 3\n",
      "Counting down: 2\n",
      "Counting down: 1\n"
     ]
    }
   ],
   "source": [
    "# The while loop execures a suite of code if its condition is true\n",
    "counter = 3\n",
    "while counter > 0:\n",
    "    print(\"Counting down:\", counter)\n",
    "    counter -= 1\n",
    "    \n",
    "while counter > 0:\n",
    "        print(\"Never execures suite\")\n",
    "        print(\"when condition is false\")"
   ]
  },
  {
   "cell_type": "code",
   "execution_count": 21,
   "id": "120d9d39",
   "metadata": {},
   "outputs": [
    {
     "name": "stdout",
     "output_type": "stream",
     "text": [
      "Ellen is going\n",
      "Tom is going\n"
     ]
    }
   ],
   "source": [
    "names = ['Tom','Ellen']\n",
    "while names:\n",
    "    print(names.pop(), 'is going')"
   ]
  },
  {
   "cell_type": "code",
   "execution_count": 22,
   "id": "843ee1ab",
   "metadata": {},
   "outputs": [
    {
     "name": "stdout",
     "output_type": "stream",
     "text": [
      "processed: 3 Passed: 2\n"
     ]
    }
   ],
   "source": [
    "results = [1,0,1]\n",
    "processed = 0\n",
    "passed = 0\n",
    "\n",
    "while results: # when result is True (or 1 in this case), then count\n",
    "    processed += 1\n",
    "    result = results.pop()\n",
    "    if not result:\n",
    "        continue\n",
    "    passed += 1\n",
    "else:\n",
    "    print('processed:', processed, 'Passed:', passed)"
   ]
  },
  {
   "cell_type": "markdown",
   "id": "ccda17fd",
   "metadata": {},
   "source": [
    "### The FOR loop"
   ]
  },
  {
   "cell_type": "code",
   "execution_count": 23,
   "id": "9e194b83",
   "metadata": {},
   "outputs": [
    {
     "name": "stdout",
     "output_type": "stream",
     "text": [
      "0 1 2 3 4 \n"
     ]
    }
   ],
   "source": [
    "# The for loop execures a suite of code for each element\n",
    "for elem in range(5):\n",
    "    print(elem, end=' ')\n",
    "print()"
   ]
  },
  {
   "cell_type": "code",
   "execution_count": 24,
   "id": "a1afb78a",
   "metadata": {},
   "outputs": [
    {
     "name": "stdout",
     "output_type": "stream",
     "text": [
      "1 2 3 4 5 \n"
     ]
    }
   ],
   "source": [
    "for elem in range(1, 6):\n",
    "    print(elem, end=' ')\n",
    "print()    "
   ]
  },
  {
   "cell_type": "code",
   "execution_count": 25,
   "id": "525b842f",
   "metadata": {},
   "outputs": [
    {
     "name": "stdout",
     "output_type": "stream",
     "text": [
      "5 3 1 \n"
     ]
    }
   ],
   "source": [
    "for elem in range(5, -1, -2):\n",
    "    print(elem, end=' ')\n",
    "print()"
   ]
  },
  {
   "cell_type": "code",
   "execution_count": 26,
   "id": "2e4e258b",
   "metadata": {},
   "outputs": [
    {
     "name": "stdout",
     "output_type": "stream",
     "text": [
      "s t r i n g \n"
     ]
    }
   ],
   "source": [
    "for char in \"string\":\n",
    "    print(char, end=' ')\n",
    "print()"
   ]
  },
  {
   "cell_type": "code",
   "execution_count": 27,
   "id": "772f2681",
   "metadata": {},
   "outputs": [
    {
     "name": "stdout",
     "output_type": "stream",
     "text": [
      "1 2 4 5 \n"
     ]
    }
   ],
   "source": [
    "for tup in (1,2,4,5):\n",
    "    print(tup, end=' ')\n",
    "print()"
   ]
  },
  {
   "cell_type": "code",
   "execution_count": 28,
   "id": "321f032f",
   "metadata": {},
   "outputs": [
    {
     "name": "stdout",
     "output_type": "stream",
     "text": [
      "hey you are great \n"
     ]
    }
   ],
   "source": [
    "for val in ['hey','you','are','great']:\n",
    "    print(val, end=' ')\n",
    "print()"
   ]
  },
  {
   "cell_type": "code",
   "execution_count": 29,
   "id": "d9d0cbdb",
   "metadata": {},
   "outputs": [
    {
     "name": "stdout",
     "output_type": "stream",
     "text": [
      "alpha 1\n",
      "gamma 3\n",
      "delta 4\n"
     ]
    }
   ],
   "source": [
    "greek = {'alpha':1, 'beta':2, 'gamma':3, 'delta':4}\n",
    "for key in greek:\n",
    "    if key == 'beta':\n",
    "        continue\n",
    "    print(key, greek[key])"
   ]
  },
  {
   "cell_type": "code",
   "execution_count": 30,
   "id": "977db0c0",
   "metadata": {},
   "outputs": [
    {
     "name": "stdout",
     "output_type": "stream",
     "text": [
      "2 is prime\n",
      "3 is prime\n",
      "4 = 2 * 2\n",
      "5 is prime\n",
      "6 = 2 * 3\n",
      "7 is prime\n",
      "8 = 2 * 4\n",
      "9 = 3 * 3\n"
     ]
    }
   ],
   "source": [
    "for outer in range(2, 10):\n",
    "    for inner in range(2, outer):\n",
    "        if not outer % inner:\n",
    "            print(outer, '=', inner,'*', int(outer/inner))\n",
    "            break\n",
    "    else:\n",
    "        print(outer,'is prime')"
   ]
  },
  {
   "cell_type": "markdown",
   "id": "799709d2",
   "metadata": {},
   "source": [
    "### The IF statement"
   ]
  },
  {
   "cell_type": "code",
   "execution_count": 31,
   "id": "5d2ed853",
   "metadata": {},
   "outputs": [],
   "source": [
    "# The if statement allows for conditional execution\n",
    "age = 0\n",
    "if age:\n",
    "    print('False conditions do not execute')\n",
    "    print('So,  these statements won\\'t print')\n"
   ]
  },
  {
   "cell_type": "code",
   "execution_count": 32,
   "id": "2f2e8c3d",
   "metadata": {},
   "outputs": [
    {
     "name": "stdout",
     "output_type": "stream",
     "text": [
      "True conditions execute\n",
      "So, these statements print\n"
     ]
    }
   ],
   "source": [
    "age = 1\n",
    "if age:\n",
    "    print('True conditions execute')\n",
    "    print('So, these statements print')\n"
   ]
  },
  {
   "cell_type": "code",
   "execution_count": 33,
   "id": "5d548e40",
   "metadata": {},
   "outputs": [
    {
     "name": "stdout",
     "output_type": "stream",
     "text": [
      "You are too young to vote\n"
     ]
    }
   ],
   "source": [
    "age = 17\n",
    "if age >= 18:\n",
    "    print('You are old enough to vote')\n",
    "else:\n",
    "    print('You are too young to vote')"
   ]
  },
  {
   "cell_type": "code",
   "execution_count": 34,
   "id": "f8c98943",
   "metadata": {},
   "outputs": [
    {
     "name": "stdout",
     "output_type": "stream",
     "text": [
      "The grade was: A\n"
     ]
    }
   ],
   "source": [
    "score = 91\n",
    "print('The grade was:', end=' ')\n",
    "if score < 60:\n",
    "    print('F')\n",
    "elif 60 <= score < 70:\n",
    "    print('D')\n",
    "elif 70 <= score < 79:\n",
    "    print('C')\n",
    "elif 80 <= score < 90:\n",
    "    print('B')\n",
    "elif 90 <= score <= 100:\n",
    "    print('A')\n",
    "else:\n",
    "    print('Impossible')"
   ]
  },
  {
   "cell_type": "code",
   "execution_count": 35,
   "id": "2db912ec",
   "metadata": {},
   "outputs": [
    {
     "name": "stdout",
     "output_type": "stream",
     "text": [
      "Score was: 91\n",
      "Result was: 91\n"
     ]
    }
   ],
   "source": [
    "debug = True\n",
    "if debug: print('Score was:', score)\n",
    "    \n",
    "if score > 59:\n",
    "    result = 'pass'\n",
    "else:\n",
    "    result = 'fail'\n",
    "if debug: print('Result was:', score)"
   ]
  },
  {
   "cell_type": "code",
   "execution_count": 36,
   "id": "abacca92",
   "metadata": {},
   "outputs": [
    {
     "name": "stdout",
     "output_type": "stream",
     "text": [
      "Score was: 40\n",
      "Result = fail\n",
      "Score was: 40\n"
     ]
    }
   ],
   "source": [
    "score = 40\n",
    "if debug: print('Score was:', score)\n",
    "result = 'pass' if score > 59 else 'fail'\n",
    "print('Result =', result)\n",
    "if debug: print('Score was:', score)"
   ]
  },
  {
   "cell_type": "markdown",
   "id": "7d0272fb",
   "metadata": {},
   "source": [
    "## Excersise: Name reverser"
   ]
  },
  {
   "cell_type": "code",
   "execution_count": 37,
   "id": "35348a1a",
   "metadata": {},
   "outputs": [
    {
     "name": "stdout",
     "output_type": "stream",
     "text": [
      "s a B  b a S  \n"
     ]
    }
   ],
   "source": [
    "name = input('First and last name to reverse: ')\n",
    "\n",
    "words = name.split(' ')\n",
    "\n",
    "for word in words:\n",
    "    lastindex = len(word) - 1\n",
    "    for index in range(lastindex, -1, -1):\n",
    "        print(word[index], end=' ')\n",
    "    print(end=' ')\n",
    "print(end='\\n')"
   ]
  },
  {
   "cell_type": "code",
   "execution_count": 38,
   "id": "e3ae7a2e",
   "metadata": {},
   "outputs": [
    {
     "ename": "ValueError",
     "evalue": "not enough values to unpack (expected 2, got 1)",
     "output_type": "error",
     "traceback": [
      "\u001b[1;31m---------------------------------------------------------------------------\u001b[0m",
      "\u001b[1;31mValueError\u001b[0m                                Traceback (most recent call last)",
      "\u001b[1;32m~\\AppData\\Local\\Temp/ipykernel_2124/3759203079.py\u001b[0m in \u001b[0;36m<module>\u001b[1;34m\u001b[0m\n\u001b[0;32m      1\u001b[0m \u001b[0mname\u001b[0m \u001b[1;33m=\u001b[0m \u001b[0minput\u001b[0m\u001b[1;33m(\u001b[0m\u001b[1;34m'First and last name to reverse: '\u001b[0m\u001b[1;33m)\u001b[0m\u001b[1;33m\u001b[0m\u001b[1;33m\u001b[0m\u001b[0m\n\u001b[1;32m----> 2\u001b[1;33m \u001b[0mfirst\u001b[0m\u001b[1;33m,\u001b[0m \u001b[0mlast\u001b[0m \u001b[1;33m=\u001b[0m \u001b[0mname\u001b[0m\u001b[1;33m.\u001b[0m\u001b[0msplit\u001b[0m\u001b[1;33m(\u001b[0m\u001b[1;33m)\u001b[0m\u001b[1;33m\u001b[0m\u001b[1;33m\u001b[0m\u001b[0m\n\u001b[0m\u001b[0;32m      3\u001b[0m \u001b[0mprint\u001b[0m\u001b[1;33m(\u001b[0m\u001b[0mfirst\u001b[0m\u001b[1;33m[\u001b[0m\u001b[1;33m:\u001b[0m\u001b[1;33m:\u001b[0m\u001b[1;33m-\u001b[0m\u001b[1;36m1\u001b[0m\u001b[1;33m]\u001b[0m\u001b[1;33m,\u001b[0m \u001b[0mlast\u001b[0m\u001b[1;33m[\u001b[0m\u001b[1;33m:\u001b[0m\u001b[1;33m:\u001b[0m\u001b[1;33m-\u001b[0m\u001b[1;36m1\u001b[0m\u001b[1;33m]\u001b[0m\u001b[1;33m)\u001b[0m\u001b[1;33m\u001b[0m\u001b[1;33m\u001b[0m\u001b[0m\n",
      "\u001b[1;31mValueError\u001b[0m: not enough values to unpack (expected 2, got 1)"
     ]
    }
   ],
   "source": [
    "name = input('First and last name to reverse: ')\n",
    "first, last = name.split()\n",
    "print(first[::-1], last[::-1])"
   ]
  },
  {
   "cell_type": "markdown",
   "id": "056af855",
   "metadata": {},
   "source": [
    "#### END OF PYTHON THE BASICS MODULE"
   ]
  },
  {
   "cell_type": "markdown",
   "id": "f2ade051",
   "metadata": {},
   "source": [
    "# Python, Classes and Modules"
   ]
  },
  {
   "cell_type": "markdown",
   "id": "788ca937",
   "metadata": {},
   "source": [
    "## Importing modules in Python\n",
    "\n",
    "Below is a script that can be used as a module. It can only be imported when it is located in a environment path, in the current directory or in the sysmodule variable."
   ]
  },
  {
   "cell_type": "code",
   "execution_count": null,
   "id": "e36462f8",
   "metadata": {},
   "outputs": [
    {
     "data": {
      "text/plain": [
       "'Hello'"
      ]
     },
     "execution_count": 3,
     "metadata": {},
     "output_type": "execute_result"
    }
   ],
   "source": [
    "'''provide random greetings'''\n",
    "import random\n",
    "sayings=('Hello','Hi','Hey','Alo','Aloha')\n",
    "\n",
    "def greet():\n",
    "    return random.choice(sayings)\n",
    "\n",
    "greet()"
   ]
  },
  {
   "cell_type": "code",
   "execution_count": null,
   "id": "d4e07138",
   "metadata": {},
   "outputs": [
    {
     "data": {
      "text/plain": [
       "'Hey'"
      ]
     },
     "execution_count": 4,
     "metadata": {},
     "output_type": "execute_result"
    }
   ],
   "source": [
    "greet()"
   ]
  },
  {
   "cell_type": "markdown",
   "id": "824ca101",
   "metadata": {},
   "source": [
    "To find out what is in the python path, use the commands below. In this case PYTHONPATH was not defined on my system... so an error message."
   ]
  },
  {
   "cell_type": "code",
   "execution_count": null,
   "id": "97bb5f86",
   "metadata": {},
   "outputs": [
    {
     "ename": "KeyError",
     "evalue": "'PYTHONPATH'",
     "output_type": "error",
     "traceback": [
      "\u001b[1;31m---------------------------------------------------------------------------\u001b[0m",
      "\u001b[1;31mKeyError\u001b[0m                                  Traceback (most recent call last)",
      "\u001b[1;32m~\\AppData\\Local\\Temp/ipykernel_15352/2694267740.py\u001b[0m in \u001b[0;36m<module>\u001b[1;34m\u001b[0m\n\u001b[0;32m      1\u001b[0m \u001b[1;32mimport\u001b[0m \u001b[0mos\u001b[0m\u001b[1;33m\u001b[0m\u001b[1;33m\u001b[0m\u001b[0m\n\u001b[1;32m----> 2\u001b[1;33m \u001b[0mos\u001b[0m\u001b[1;33m.\u001b[0m\u001b[0menviron\u001b[0m\u001b[1;33m[\u001b[0m\u001b[1;34m'PYTHONPATH'\u001b[0m\u001b[1;33m]\u001b[0m\u001b[1;33m\u001b[0m\u001b[1;33m\u001b[0m\u001b[0m\n\u001b[0m",
      "\u001b[1;32m~\\Anaconda3\\lib\\os.py\u001b[0m in \u001b[0;36m__getitem__\u001b[1;34m(self, key)\u001b[0m\n\u001b[0;32m    677\u001b[0m         \u001b[1;32mexcept\u001b[0m \u001b[0mKeyError\u001b[0m\u001b[1;33m:\u001b[0m\u001b[1;33m\u001b[0m\u001b[1;33m\u001b[0m\u001b[0m\n\u001b[0;32m    678\u001b[0m             \u001b[1;31m# raise KeyError with the original key value\u001b[0m\u001b[1;33m\u001b[0m\u001b[1;33m\u001b[0m\u001b[0m\n\u001b[1;32m--> 679\u001b[1;33m             \u001b[1;32mraise\u001b[0m \u001b[0mKeyError\u001b[0m\u001b[1;33m(\u001b[0m\u001b[0mkey\u001b[0m\u001b[1;33m)\u001b[0m \u001b[1;32mfrom\u001b[0m \u001b[1;32mNone\u001b[0m\u001b[1;33m\u001b[0m\u001b[1;33m\u001b[0m\u001b[0m\n\u001b[0m\u001b[0;32m    680\u001b[0m         \u001b[1;32mreturn\u001b[0m \u001b[0mself\u001b[0m\u001b[1;33m.\u001b[0m\u001b[0mdecodevalue\u001b[0m\u001b[1;33m(\u001b[0m\u001b[0mvalue\u001b[0m\u001b[1;33m)\u001b[0m\u001b[1;33m\u001b[0m\u001b[1;33m\u001b[0m\u001b[0m\n\u001b[0;32m    681\u001b[0m \u001b[1;33m\u001b[0m\u001b[0m\n",
      "\u001b[1;31mKeyError\u001b[0m: 'PYTHONPATH'"
     ]
    }
   ],
   "source": [
    "import os\n",
    "os.environ['PYTHONPATH']"
   ]
  },
  {
   "cell_type": "markdown",
   "id": "cd4e8350",
   "metadata": {},
   "source": [
    "Which paths are in the sys module. These pathcs will be searched for python modules by default."
   ]
  },
  {
   "cell_type": "code",
   "execution_count": null,
   "id": "0add2e81",
   "metadata": {},
   "outputs": [
    {
     "data": {
      "text/plain": [
       "['C:\\\\Users\\\\BWN\\\\SPLW_outlook_com\\\\OneDrive\\\\CodeRepository\\\\Notebooks\\\\Training',\n",
       " 'C:\\\\Users\\\\BWN\\\\Anaconda3\\\\python39.zip',\n",
       " 'C:\\\\Users\\\\BWN\\\\Anaconda3\\\\DLLs',\n",
       " 'C:\\\\Users\\\\BWN\\\\Anaconda3\\\\lib',\n",
       " 'C:\\\\Users\\\\BWN\\\\Anaconda3',\n",
       " '',\n",
       " 'C:\\\\Users\\\\BWN\\\\Anaconda3\\\\lib\\\\site-packages',\n",
       " 'C:\\\\Users\\\\BWN\\\\Anaconda3\\\\lib\\\\site-packages\\\\locket-0.2.1-py3.9.egg',\n",
       " 'C:\\\\Users\\\\BWN\\\\Anaconda3\\\\lib\\\\site-packages\\\\win32',\n",
       " 'C:\\\\Users\\\\BWN\\\\Anaconda3\\\\lib\\\\site-packages\\\\win32\\\\lib',\n",
       " 'C:\\\\Users\\\\BWN\\\\Anaconda3\\\\lib\\\\site-packages\\\\Pythonwin',\n",
       " 'C:\\\\Users\\\\BWN\\\\Anaconda3\\\\lib\\\\site-packages\\\\IPython\\\\extensions',\n",
       " 'C:\\\\Users\\\\BWN\\\\.ipython']"
      ]
     },
     "execution_count": 6,
     "metadata": {},
     "output_type": "execute_result"
    }
   ],
   "source": [
    "import sys\n",
    "sys.path"
   ]
  },
  {
   "cell_type": "markdown",
   "id": "e4ca1a73",
   "metadata": {},
   "source": [
    "You can also append a new path to the python modules paths. So if you have modules that will be used in more than one program. You can put them in a personal modules directory and add it to the sys.path list."
   ]
  },
  {
   "cell_type": "code",
   "execution_count": null,
   "id": "622f2d4c",
   "metadata": {},
   "outputs": [
    {
     "data": {
      "text/plain": [
       "['C:\\\\Users\\\\BWN\\\\SPLW_outlook_com\\\\OneDrive\\\\CodeRepository\\\\Notebooks\\\\Training',\n",
       " 'C:\\\\Users\\\\BWN\\\\Anaconda3\\\\python39.zip',\n",
       " 'C:\\\\Users\\\\BWN\\\\Anaconda3\\\\DLLs',\n",
       " 'C:\\\\Users\\\\BWN\\\\Anaconda3\\\\lib',\n",
       " 'C:\\\\Users\\\\BWN\\\\Anaconda3',\n",
       " '',\n",
       " 'C:\\\\Users\\\\BWN\\\\Anaconda3\\\\lib\\\\site-packages',\n",
       " 'C:\\\\Users\\\\BWN\\\\Anaconda3\\\\lib\\\\site-packages\\\\locket-0.2.1-py3.9.egg',\n",
       " 'C:\\\\Users\\\\BWN\\\\Anaconda3\\\\lib\\\\site-packages\\\\win32',\n",
       " 'C:\\\\Users\\\\BWN\\\\Anaconda3\\\\lib\\\\site-packages\\\\win32\\\\lib',\n",
       " 'C:\\\\Users\\\\BWN\\\\Anaconda3\\\\lib\\\\site-packages\\\\Pythonwin',\n",
       " 'C:\\\\Users\\\\BWN\\\\Anaconda3\\\\lib\\\\site-packages\\\\IPython\\\\extensions',\n",
       " 'C:\\\\Users\\\\BWN\\\\.ipython',\n",
       " 'c:\\\\Temp\\\\modules']"
      ]
     },
     "execution_count": 7,
     "metadata": {},
     "output_type": "execute_result"
    }
   ],
   "source": [
    "sys.path.append('c:\\\\Temp\\\\modules')\n",
    "sys.path"
   ]
  },
  {
   "cell_type": "code",
   "execution_count": null,
   "id": "f672b281",
   "metadata": {},
   "outputs": [],
   "source": [
    "import greet"
   ]
  },
  {
   "cell_type": "markdown",
   "id": "2478635c",
   "metadata": {},
   "source": [
    "Besides adding a modules path to the system paths for importing modules, you can also change the directory to that specific location and then import the module from there."
   ]
  },
  {
   "cell_type": "code",
   "execution_count": null,
   "id": "6564d795",
   "metadata": {},
   "outputs": [],
   "source": [
    "os.chdir('c:\\\\Temp\\modules')\n",
    "import greet"
   ]
  },
  {
   "cell_type": "markdown",
   "id": "5c60f535",
   "metadata": {},
   "source": [
    "However, changes in the module will not be reflected if the module gets reloaded by this method in the same time. Therefore you have to reload the module."
   ]
  },
  {
   "cell_type": "code",
   "execution_count": null,
   "id": "6c22e1ea",
   "metadata": {},
   "outputs": [
    {
     "data": {
      "text/plain": [
       "('Hello', 'Hi', 'Hey', 'Alo', 'Aloha')"
      ]
     },
     "execution_count": 12,
     "metadata": {},
     "output_type": "execute_result"
    }
   ],
   "source": [
    "greet.sayings"
   ]
  },
  {
   "cell_type": "markdown",
   "id": "ad6d258c",
   "metadata": {},
   "source": [
    "You can use the importlib module to reload an earlier imported (and afterwards changed module)"
   ]
  },
  {
   "cell_type": "code",
   "execution_count": null,
   "id": "0e502bd1",
   "metadata": {},
   "outputs": [
    {
     "data": {
      "text/plain": [
       "<module 'greet' from 'c:\\\\Temp\\\\modules\\\\greet.py'>"
      ]
     },
     "execution_count": 13,
     "metadata": {},
     "output_type": "execute_result"
    }
   ],
   "source": [
    "import importlib\n",
    "importlib.reload(greet)"
   ]
  },
  {
   "cell_type": "code",
   "execution_count": null,
   "id": "74540f2c",
   "metadata": {},
   "outputs": [
    {
     "data": {
      "text/plain": [
       "('Hello', 'Hi', 'Hey', 'Alo', 'Aloha', 'Hallokidoki')"
      ]
     },
     "execution_count": 14,
     "metadata": {},
     "output_type": "execute_result"
    }
   ],
   "source": [
    "greet.sayings"
   ]
  },
  {
   "cell_type": "markdown",
   "id": "ace5e32d",
   "metadata": {},
   "source": [
    "## Defining functions"
   ]
  },
  {
   "cell_type": "code",
   "execution_count": null,
   "id": "e43ef194",
   "metadata": {},
   "outputs": [
    {
     "name": "stdout",
     "output_type": "stream",
     "text": [
      "I do something\n",
      "But return nothing\n"
     ]
    }
   ],
   "source": [
    "# Functions are defined with the \"def\" keyword in Python.\n",
    "import random\n",
    "faces = ('Head',\"Tails\")\n",
    "\n",
    "\n",
    "def subproc():\n",
    "    print('I do something')\n",
    "    print('But return nothing')\n",
    "\n",
    "subproc()"
   ]
  },
  {
   "cell_type": "code",
   "execution_count": null,
   "id": "49ea09cf",
   "metadata": {},
   "outputs": [
    {
     "name": "stdout",
     "output_type": "stream",
     "text": [
      "I do something\n",
      "But return nothing\n",
      "None\n"
     ]
    }
   ],
   "source": [
    "print(subproc())"
   ]
  },
  {
   "cell_type": "code",
   "execution_count": null,
   "id": "466cd2af",
   "metadata": {},
   "outputs": [
    {
     "name": "stdout",
     "output_type": "stream",
     "text": [
      "Tails Head Tails Head Head \n"
     ]
    }
   ],
   "source": [
    "def funcproc():\n",
    "    return random.choice(faces)\n",
    "\n",
    "for flipcoin in range(5):\n",
    "    print(funcproc(), end=' ')\n",
    "print()"
   ]
  },
  {
   "cell_type": "code",
   "execution_count": null,
   "id": "6119a2d6",
   "metadata": {},
   "outputs": [
    {
     "name": "stdout",
     "output_type": "stream",
     "text": [
      "iadd(3, 5) -> 8\n",
      "iadd(\"dy\", \"namic\") -> dynamic\n"
     ]
    }
   ],
   "source": [
    "def iadd(arg1, arg2):\n",
    "    '''perform inline and operations'''\n",
    "    return arg1 + arg2\n",
    "\n",
    "print('iadd(3, 5) ->', iadd(3, 5))\n",
    "print('iadd(\"dy\", \"namic\") ->', iadd('dy', 'namic'))"
   ]
  },
  {
   "cell_type": "code",
   "execution_count": null,
   "id": "413d66a0",
   "metadata": {},
   "outputs": [
    {
     "name": "stdout",
     "output_type": "stream",
     "text": [
      "args -> (1, 2, 3, 4, 5)\n",
      "isum(1,2,3,4,5) -> 15\n",
      "args -> (5, 4, 3, 2, 1)\n",
      "isum(*params) -> 15\n"
     ]
    }
   ],
   "source": [
    "# (*args) can handle a random number of arguments as input for the function\n",
    "def isum(*args):\n",
    "    '''Return a total of the numeric args'''\n",
    "    print('args ->', args)\n",
    "    total = 0\n",
    "    for arg in args:\n",
    "        total += arg\n",
    "    return total\n",
    "\n",
    "print(\"isum(1,2,3,4,5) ->\", isum(1,2,3,4,5))\n",
    "\n",
    "# You can also load multiple inputs in the *args parameter with *\n",
    "params = (5,4,3,2,1)\n",
    "print(\"isum(*params) ->\", isum(*params))"
   ]
  },
  {
   "cell_type": "code",
   "execution_count": null,
   "id": "d086c5fc",
   "metadata": {},
   "outputs": [
    {
     "name": "stdout",
     "output_type": "stream",
     "text": [
      "ilist('required') -> ('required', 'default', 'assumed')\n",
      "ilist('pos1','pos2','pos3') -> ('pos1', 'pos2', 'pos3')\n",
      "ilist(gamma='pos1',alpha='pos2',beta='pos3') -> ('pos2', 'pos3', 'pos1')\n",
      "ilist(**alphabet) -> ('a', 'b', 'y')\n"
     ]
    }
   ],
   "source": [
    "# Here the inputs already have default values that can be overrided with new values when the funtion is called. \n",
    "# As long as the input values are in the right order...\n",
    "def ilist(alpha, beta='default', gamma='assumed'):\n",
    "    return alpha, beta, gamma\n",
    "\n",
    "print(\"ilist('required') ->\", ilist('required')) # required is the alpha input value\n",
    "print(\"ilist('pos1','pos2','pos3') ->\", ilist('pos1','pos2','pos3')) # Here each position has an input value\n",
    "print(\"ilist(gamma='pos1',alpha='pos2',beta='pos3') ->\", ilist(gamma='pos1',alpha='pos2',beta='pos3')) # here the input values are named so ordering inputs is not actually needed\n",
    "\n",
    "# here the input of the function is a dictionary (actually an upstep to key word arguments aka. kwargs)\n",
    "alphabet = {'alpha':'a','beta':'b','gamma':'y'}\n",
    "print(\"ilist(**alphabet) ->\", ilist(**alphabet))"
   ]
  },
  {
   "cell_type": "code",
   "execution_count": null,
   "id": "d1e5aa25",
   "metadata": {},
   "outputs": [
    {
     "name": "stdout",
     "output_type": "stream",
     "text": [
      "kwargs -> {}\n",
      "flex(**alphabet) -> ()\n",
      "kwargs -> {'alpha': 'a', 'beta': 'b', 'gamma': 'y'}\n",
      "Key -> a\n",
      "Key -> b\n",
      "Key -> y\n",
      "flex(**alphabet) -> ('a', 'b', 'y')\n"
     ]
    }
   ],
   "source": [
    "# kwargs can handle dictionaries and assigns the keys and values to their respective agruments\n",
    "def flex(**kwargs):\n",
    "    print('kwargs ->', kwargs)\n",
    "    for key in kwargs:\n",
    "        print('Key ->', kwargs[key])\n",
    "    return tuple(kwargs.values())\n",
    "\n",
    "alphabet = {}\n",
    "print(\"flex(**alphabet) ->\", flex(**alphabet))\n",
    "alphabet = {'alpha':'a','beta':'b','gamma':'y'}\n",
    "print(\"flex(**alphabet) ->\", flex(**alphabet))\n"
   ]
  },
  {
   "cell_type": "markdown",
   "id": "69b21505",
   "metadata": {},
   "source": [
    "## Python scripts, programs and modules\n",
    "\n",
    "Differences and similarities"
   ]
  },
  {
   "cell_type": "code",
   "execution_count": null,
   "id": "828d478d",
   "metadata": {},
   "outputs": [
    {
     "name": "stdout",
     "output_type": "stream",
     "text": [
      "Hi\n"
     ]
    }
   ],
   "source": [
    "\"\"\" Provides random greetings\n",
    "This text file can be used as a Python program, script or module.\n",
    "\"\"\"\n",
    "import random\n",
    "\n",
    "sayings = (\"Hello\", \"Hi\", \"Hey\", \"Aloha\")\n",
    "\n",
    "\n",
    "def greet():\n",
    "    return random.choice(sayings)\n",
    "\n",
    "\n",
    "def test_greet():\n",
    "    for loop in range(8):\n",
    "        print(greet(), end=\" \")\n",
    "    print(\"\\ngreetings test completed!\")\n",
    "\n",
    "\n",
    "if __name__ == \"__main__\":\n",
    "    print(greet())\n"
   ]
  },
  {
   "cell_type": "markdown",
   "id": "076f955d",
   "metadata": {},
   "source": [
    "If the module above is executed directly, it is executed in the MAIN namespace. You can check this by examining the __name__ to see if it is equal to main. If this is not true, then the module was imported or called from another scriptfile.\n",
    "Btw. This script in in another location, which is c:\\Temp\\modules. And it is called from there.\n",
    "\n",
    "The benefit of this is that you can execute a python script likt this directly from the commandline as a program."
   ]
  },
  {
   "cell_type": "code",
   "execution_count": null,
   "id": "15aa71a6",
   "metadata": {},
   "outputs": [
    {
     "data": {
      "text/plain": [
       "['Aloha']"
      ]
     },
     "execution_count": 42,
     "metadata": {},
     "output_type": "execute_result"
    }
   ],
   "source": [
    "!!python c:\\Temp\\modules\\greetings.py"
   ]
  },
  {
   "cell_type": "markdown",
   "id": "ca828d96",
   "metadata": {},
   "source": [
    "You can use the dir function to inspect the other objects from this module, besides MAIN"
   ]
  },
  {
   "cell_type": "code",
   "execution_count": null,
   "id": "18079150",
   "metadata": {},
   "outputs": [
    {
     "data": {
      "text/plain": [
       "['__builtins__',\n",
       " '__cached__',\n",
       " '__doc__',\n",
       " '__file__',\n",
       " '__loader__',\n",
       " '__name__',\n",
       " '__package__',\n",
       " '__spec__',\n",
       " 'greet',\n",
       " 'random',\n",
       " 'sayings',\n",
       " 'test_greet']"
      ]
     },
     "execution_count": 43,
     "metadata": {},
     "output_type": "execute_result"
    }
   ],
   "source": [
    "dir(greetings)"
   ]
  },
  {
   "cell_type": "markdown",
   "id": "6a692c48",
   "metadata": {},
   "source": [
    "It not only contains the regular functions like greet, random, sayings etc. But also the 'Magical' object that look like \"\\__*\\__\"."
   ]
  },
  {
   "cell_type": "markdown",
   "id": "2c1c7652",
   "metadata": {},
   "source": [
    "## Command line arguments"
   ]
  },
  {
   "cell_type": "code",
   "execution_count": null,
   "id": "05530c84",
   "metadata": {},
   "outputs": [],
   "source": [
    "\"\"\"Accept comment line arguments to the module\"\"\"\n",
    "\n",
    "program = \"argv_demo.py\"\n",
    "source = \"default.src\"\n",
    "dest = \"default.dst\"\n",
    "\n",
    "\n",
    "def show_config():\n",
    "    print(\"Here is the currenct configuration:\")\n",
    "    print(\"Program is %s\" % program)  # Use of %s as f-string\n",
    "    print(\"Source is %s\" % source)\n",
    "    print(\"Destination is %s\" % dest)\n",
    "\n",
    "\n",
    "if \"__name__\" == \"__main__\":\n",
    "    import sys\n",
    "\n",
    "    print(\"Here is sys.argv; %s\" % sys.argv)\n",
    "    if len(sys.argv) > 2:  # two or more arguments passed\n",
    "        program, source, dest = sysv.argv[:3]\n",
    "    elif len(sys.argv) > 1:  # only one argument passed\n",
    "        program, source = sysv.argv[:2]\n",
    "    else:  # no arguments passed\n",
    "        program = sys.argv[0]\n",
    "    show_config()"
   ]
  },
  {
   "cell_type": "code",
   "execution_count": null,
   "id": "cb376d48",
   "metadata": {},
   "outputs": [
    {
     "data": {
      "text/plain": [
       "[\"Here is sys.argv; ['argv_demo.py']\",\n",
       " 'Here is the currenct configuration:',\n",
       " 'Program is argv_demo.py',\n",
       " 'Source is default.src',\n",
       " 'Destination is default.dst']"
      ]
     },
     "execution_count": 55,
     "metadata": {},
     "output_type": "execute_result"
    }
   ],
   "source": [
    "!!python argv_demo.py"
   ]
  },
  {
   "cell_type": "markdown",
   "id": "10977642",
   "metadata": {},
   "source": [
    "Abote, no arguments are used. Now we are going to use more arguments..."
   ]
  },
  {
   "cell_type": "code",
   "execution_count": null,
   "id": "4bb03094",
   "metadata": {},
   "outputs": [
    {
     "data": {
      "text/plain": [
       "[\"Here is sys.argv; ['argv_demo.py', 'one.src']\",\n",
       " 'Traceback (most recent call last):',\n",
       " '  File \"c:\\\\Temp\\\\modules\\\\argv_demo.py\", line 22, in <module>',\n",
       " '    program, source = sysv.argv[:2]',\n",
       " \"NameError: name 'sysv' is not defined\"]"
      ]
     },
     "execution_count": 58,
     "metadata": {},
     "output_type": "execute_result"
    }
   ],
   "source": [
    "!!python argv_demo.py one.src"
   ]
  },
  {
   "cell_type": "markdown",
   "id": "79752206",
   "metadata": {},
   "source": [
    "## Classes and types"
   ]
  },
  {
   "cell_type": "code",
   "execution_count": null,
   "id": "8c923cd0",
   "metadata": {},
   "outputs": [
    {
     "name": "stdout",
     "output_type": "stream",
     "text": [
      "the type of 1 is: <class 'int'>\n",
      "the type of [] is: <class 'list'>\n",
      "the type of A_class is: <class 'type'>\n",
      "the type of an_inst is: <class '__main__.A_class'>\n",
      "the type of A_type is: <class 'type'>\n",
      "the type of type_inst is: <class '__main__.A_type'>\n",
      "the type of a_method is: This is an instance of <class '__main__.A_type'>\n"
     ]
    }
   ],
   "source": [
    "'''Python classes are all types\n",
    "\n",
    "The builtin classes have their own types.\n",
    "User defined classs can inherit their type from the builtin classes or the generic type.\n",
    "\n",
    "The type function can display the type of an object.\n",
    "The type function can also define a new type.\n",
    "The class statement is typically use to define a new type.\n",
    "'''\n",
    "\n",
    "print('the type of 1 is:', type(1))\n",
    "print('the type of [] is:', type([]))\n",
    "\n",
    "A_class = type('A_class', (), {})\n",
    "print('the type of A_class is:', type(A_class))\n",
    "an_inst = A_class()\n",
    "print('the type of an_inst is:', type(an_inst))\n",
    "\n",
    "A_type = type('A_type', (), {'start':1, 'a_method':lambda self: 'This is an instance of ' + str(self.__class__)})\n",
    "\n",
    "type_inst = A_type()\n",
    "print('the type of A_type is:', type(A_type))\n",
    "print('the type of type_inst is:', type(type_inst))\n",
    "print('the type of a_method is:', type_inst.a_method())\n",
    "\n",
    "class Basic():\n",
    "    start = 1\n",
    "    def a_method(self):\n",
    "        return \"This is an instance of \" + str(self.__class__)\n",
    "\n",
    "basic_inst = Basic()"
   ]
  },
  {
   "cell_type": "markdown",
   "id": "08f0d731",
   "metadata": {},
   "source": [
    "## Class definition"
   ]
  },
  {
   "cell_type": "code",
   "execution_count": null,
   "id": "7c1d4653",
   "metadata": {},
   "outputs": [
    {
     "name": "stdout",
     "output_type": "stream",
     "text": [
      "Base model has normal trim level.\n",
      "Base model has 1.5 engine liters.\n",
      "Base model has putt, putt engine sound.\n",
      "Base model has beep, beep horn sound.\n"
     ]
    }
   ],
   "source": [
    "'''Demonstrate class definitions'''\n",
    "\n",
    "class Base_Model():\n",
    "    '''Represents base model of a car'''\n",
    "    trim = 'normal'\n",
    "    engine_liters = 1.5\n",
    "    \n",
    "    def engine_sound(self):\n",
    "        return 'putt, putt'\n",
    "    \n",
    "    def horn_sound(self):\n",
    "        return 'beep, beep'\n",
    "    \n",
    "    def __str__(self):\n",
    "        return 'Base model'\n",
    "    \n",
    "coop = Base_Model()\n",
    "print('%s has %s trim level.' % (coop, coop.trim))\n",
    "print('%s has %s engine liters.' % (coop, coop.engine_liters))\n",
    "print('%s has %s engine sound.' % (coop, coop.engine_sound()))\n",
    "print('%s has %s horn sound.' % (coop, coop.horn_sound()))"
   ]
  },
  {
   "cell_type": "markdown",
   "id": "f43a0754",
   "metadata": {},
   "source": [
    "## Class initialisation"
   ]
  },
  {
   "cell_type": "code",
   "execution_count": 40,
   "id": "086c0a34",
   "metadata": {},
   "outputs": [
    {
     "name": "stdout",
     "output_type": "stream",
     "text": [
      "The price of a white base model with automatic transmission was $25000.00.\n",
      "The price of a blue base model with automatic transmission was $25000.00.\n",
      "The price of a red base model with manual transmission was $35000.00.\n",
      "The price of a green base model with manual transmission was $22000.00.\n"
     ]
    }
   ],
   "source": [
    "import locale\n",
    "import sys\n",
    "\n",
    "class Base_Model():\n",
    "    '''Represents base model of a car'''\n",
    "    trim = 'normal'\n",
    "    engine_liters = 1.5\n",
    "    \n",
    "    def __init__(self, price, transmission='automatic', color='white'):\n",
    "        self.price = price\n",
    "        self.transmission = transmission\n",
    "        self.color = color\n",
    "    \n",
    "    def info(self):\n",
    "        if sys.platform.startswith('win'):\n",
    "            locale.setlocale(locale.LC_ALL, 'us')\n",
    "        else:\n",
    "            locale.setlocale(locale.LC_ALL, 'en_US.utf8')\n",
    "        print('The price of %s was %s.' % (self, locale.currency(self.price)))\n",
    "    \n",
    "    def __str__(self):\n",
    "        return 'a %s base model with %s transmission' % (self.color, self.transmission)\n",
    "   \n",
    "coop = Base_Model(25000)\n",
    "coop.info()\n",
    "\n",
    "coop_blue = Base_Model(price=25000, color='blue')\n",
    "coop_blue.info()\n",
    "\n",
    "coop_manual_red = Base_Model(35000, 'manual', 'red')\n",
    "coop_manual_red.info()\n",
    "\n",
    "coop_manual_green = Base_Model(color='green',transmission='manual', price=22000)\n",
    "coop_manual_green.info()"
   ]
  },
  {
   "cell_type": "markdown",
   "id": "c22091d8",
   "metadata": {},
   "source": [
    "## Class instance methods"
   ]
  },
  {
   "cell_type": "code",
   "execution_count": 42,
   "id": "94ffb0d1",
   "metadata": {},
   "outputs": [
    {
     "name": "stdout",
     "output_type": "stream",
     "text": [
      "The price of a green base model with automatic transmission was $25000.00.\n",
      "The a green base model with automatic transmission gets 37.9 miles per gallon\n",
      "The <class '__main__.Base_Model'> gets 37.9 miles per gallon\n",
      "The price of a yellow base model with manual transmission was $55000.00.\n",
      "The a yellow base model with manual transmission gets 33.6 miles per gallon\n",
      "The <class '__main__.Sport_Model'> gets 33.6 miles per gallon\n"
     ]
    }
   ],
   "source": [
    "import locale\n",
    "import sys\n",
    "\n",
    "class Base_Model():\n",
    "    '''Represents base model of a car'''\n",
    "    trim = 'normal'\n",
    "    engine_liters = 1.5\n",
    "    miles_range = 450\n",
    "    tank_capacity = 45\n",
    "    color = 'white'\n",
    "    transmission = 'automatic'\n",
    "\n",
    "    @classmethod\n",
    "    def miles_per_liter(cls):\n",
    "        return cls.miles_range / cls.tank_capacity\n",
    "\n",
    "    @classmethod\n",
    "    def miles_per_gallon(cls):\n",
    "        return cls.miles_per_liter() * 3.78541\n",
    "    \n",
    "    def __init__(self, price, transmission='automatic', color='white'):\n",
    "        self.price = price\n",
    "        self.transmission = transmission\n",
    "        self.color = color\n",
    "    \n",
    "    def info(self):\n",
    "        if sys.platform.startswith('win'):\n",
    "            locale.setlocale(locale.LC_ALL, 'us')\n",
    "        else:\n",
    "            locale.setlocale(locale.LC_ALL, 'en_US.utf8')\n",
    "        print('The price of %s was %s.' % (self, locale.currency(self.price)))\n",
    "    \n",
    "    def __str__(self):\n",
    "        return 'a %s base model with %s transmission' % (self.color, self.transmission)\n",
    "   \n",
    "coop = Base_Model(color='green', transmission='automatic', price=25000)\n",
    "coop.info()\n",
    "print('The %s gets %4.1f miles per gallon' % (coop, coop.miles_per_gallon()))\n",
    "print('The %s gets %4.1f miles per gallon' % (Base_Model, Base_Model.miles_per_gallon()))\n",
    "\n",
    "class Sport_Model(Base_Model):\n",
    "    '''Represent the sport model of a care based on the base model'''\n",
    "    engine_liters = 2.0\n",
    "    miles_range = 400\n",
    "\n",
    "coop = Sport_Model(color='yellow', transmission='manual', price=55000)\n",
    "coop.info()\n",
    "print('The %s gets %4.1f miles per gallon' % (coop, coop.miles_per_gallon()))\n",
    "print('The %s gets %4.1f miles per gallon' % (Sport_Model, Sport_Model.miles_per_gallon()))\n"
   ]
  },
  {
   "cell_type": "code",
   "execution_count": 48,
   "id": "bf5988ce",
   "metadata": {},
   "outputs": [
    {
     "name": "stdout",
     "output_type": "stream",
     "text": [
      "The price of a green base model with automatic transmission was $25000.00.\n",
      "The a green base model with automatic transmission gets 37.9 miles per gallon\n",
      "The <class '__main__.Base_Model'> gets 37.9 miles per gallon\n",
      "The price of a yellow base model with manual transmission was $55000.00.\n",
      "The a yellow base model with manual transmission gets 33.6 miles per gallon\n",
      "The <class '__main__.Sport_Model'> gets 33.6 miles per gallon\n"
     ]
    }
   ],
   "source": [
    "'''Demonstrate static methods'''\n",
    "import locale\n",
    "import sys\n",
    "\n",
    "class Base():\n",
    "    '''Represents base model of a car'''\n",
    "    trim = 'normal'\n",
    "    engine_liters = 1.5\n",
    "    miles_range = 450\n",
    "    tank_capacity = 45\n",
    "    color = 'white'\n",
    "    transmission = 'automatic'\n",
    "\n",
    "    @staticmethod # first method to declare a static method\n",
    "    def miles_per_liter(miles_range, tank_capacity):\n",
    "        return miles_range / tank_capacity\n",
    "\n",
    "    def miles_per_gallon(miles_range, tank_capacity):\n",
    "        return Base.miles_per_liter(miles_range, tank_capacity) * 3.78541\n",
    "    miles_per_gallon = staticmethod(miles_per_gallon) # Second method to declare a static method\n",
    "    \n",
    "    def __init__(self, price, transmission='automatic', color='white'):\n",
    "        self.price = price\n",
    "        self.transmission = transmission\n",
    "        self.color = color\n",
    "    \n",
    "    def info(self):\n",
    "        if sys.platform.startswith('win'):\n",
    "            locale.setlocale(locale.LC_ALL, 'us')\n",
    "        else:\n",
    "            locale.setlocale(locale.LC_ALL, 'en_US.utf8')\n",
    "        print('The price of %s was %s.' % (self, locale.currency(self.price)))\n",
    "    \n",
    "    def __str__(self):\n",
    "        return 'a %s base model with %s transmission' % (self.color, self.transmission)\n",
    "   \n",
    "coop = Base(color='green', transmission='automatic', price=25000)\n",
    "coop.info()\n",
    "print('The %s gets %4.1f miles per gallon' % (coop, coop.miles_per_gallon(coop.miles_range, coop.tank_capacity)))\n",
    "print('The %s gets %4.1f miles per gallon' % (Base_Model, Base_Model.miles_per_gallon(coop.miles_range, coop.tank_capacity)))\n",
    "\n",
    "class Sport(Base):\n",
    "    '''Represent the sport model of a care based on the base model'''\n",
    "    engine_liters = 2.0\n",
    "    miles_range = 400\n",
    "\n",
    "coop = Sport(color='yellow', transmission='manual', price=55000)\n",
    "coop.info()\n",
    "print('The %s gets %4.1f miles per gallon' % (coop, coop.miles_per_gallon(coop.miles_range, coop.tank_capacity)))\n",
    "print('The %s gets %4.1f miles per gallon' % (Sport_Model, Sport_Model.miles_per_gallon(coop.miles_range, coop.tank_capacity)))\n"
   ]
  },
  {
   "cell_type": "markdown",
   "id": "9f38d67c",
   "metadata": {},
   "source": [
    "## Class inheritance"
   ]
  },
  {
   "cell_type": "code",
   "execution_count": 1,
   "id": "04f7eee5",
   "metadata": {},
   "outputs": [
    {
     "name": "stdout",
     "output_type": "stream",
     "text": [
      "Base model has normal trim level.\n",
      "Base model has 1.5 engine liters.\n",
      "Base model has putt, putt engine sound.\n",
      "Base model has beep, beep horn sound.\n",
      "Sport model has normal trim level.\n",
      "Sport model has 2.0 engine liters.\n",
      "Sport model has VROOM, VROOM engine sound.\n",
      "Sport model has HONK, HONK horn sound.\n",
      "Luxury sport model has luxury trim level.\n",
      "Luxury sport model has 2.0 engine liters.\n",
      "Luxury sport model has vroom, vroommm engine sound.\n",
      "Luxury sport model has honk, honk horn sound.\n"
     ]
    }
   ],
   "source": [
    "'''Demonstrate class inheritance'''\n",
    "\n",
    "class Base_Model():\n",
    "    '''Represents base model of a car'''\n",
    "    trim = 'normal'\n",
    "    engine_liters = 1.5\n",
    "    \n",
    "    def engine_sound(self):\n",
    "        return 'putt, putt'\n",
    "    \n",
    "    def horn_sound(self):\n",
    "        return 'beep, beep'\n",
    "    \n",
    "    def __str__(self):\n",
    "        return 'Base model'\n",
    "    \n",
    "coop = Base_Model()\n",
    "print('%s has %s trim level.' % (coop, coop.trim))\n",
    "print('%s has %s engine liters.' % (coop, coop.engine_liters))\n",
    "print('%s has %s engine sound.' % (coop, coop.engine_sound()))\n",
    "print('%s has %s horn sound.' % (coop, coop.horn_sound()))\n",
    "\n",
    "class Sport_Model(Base_Model):\n",
    "    '''Represents the sport model'''\n",
    "    trim = 'normal'\n",
    "    engine_liters = 2.0\n",
    "    \n",
    "    def engine_sound(self):\n",
    "        return 'VROOM, VROOM'\n",
    "    \n",
    "    def horn_sound(self):\n",
    "        return 'HONK, HONK'\n",
    "    \n",
    "    def __str__(self):\n",
    "        return 'Sport model'\n",
    "\n",
    "coop_sport = Sport_Model()\n",
    "print('%s has %s trim level.' % (coop_sport, coop_sport.trim))\n",
    "print('%s has %s engine liters.' % (coop_sport, coop_sport.engine_liters))\n",
    "print('%s has %s engine sound.' % (coop_sport, coop_sport.engine_sound()))\n",
    "print('%s has %s horn sound.' % (coop_sport, coop_sport.horn_sound()))\n",
    "\n",
    "class Luxury_Model(Base_Model):\n",
    "    '''Represents the sport model'''\n",
    "    trim = 'luxury'\n",
    "    \n",
    "    def engine_sound(self):\n",
    "        return 'vroom, vroommm'\n",
    "    \n",
    "    def horn_sound(self):\n",
    "        return 'honk, honk'\n",
    "    \n",
    "    def __str__(self):\n",
    "        return 'Luxury model'\n",
    "\n",
    "class Luxury_Sport_Model(Luxury_Model, Sport_Model):\n",
    "    def __str__(self):\n",
    "        return 'Luxury sport model'\n",
    "\n",
    "coop_luxury_sport = Luxury_Sport_Model()\n",
    "print('%s has %s trim level.' % (coop_luxury_sport, coop_luxury_sport.trim))\n",
    "print('%s has %s engine liters.' % (coop_luxury_sport, coop_luxury_sport.engine_liters))\n",
    "print('%s has %s engine sound.' % (coop_luxury_sport, coop_luxury_sport.engine_sound()))\n",
    "print('%s has %s horn sound.' % (coop_luxury_sport, coop_luxury_sport.horn_sound()))"
   ]
  },
  {
   "cell_type": "markdown",
   "id": "791ba2e7",
   "metadata": {},
   "source": [
    "## Class properties"
   ]
  },
  {
   "cell_type": "code",
   "execution_count": null,
   "id": "447cd1fe",
   "metadata": {},
   "outputs": [
    {
     "ename": "",
     "evalue": "",
     "output_type": "error",
     "traceback": [
      "\u001b[1;31mCanceled future for execute_request message before replies were done"
     ]
    },
    {
     "ename": "",
     "evalue": "",
     "output_type": "error",
     "traceback": [
      "\u001b[1;31mThe Kernel crashed while executing code in the the current cell or a previous cell. Please review the code in the cell(s) to identify a possible cause of the failure. Click <a href='https://aka.ms/vscodeJupyterKernelCrash'>here</a> for more info. View Jupyter <a href='command:jupyter.viewOutput'>log</a> for further details."
     ]
    }
   ],
   "source": [
    "'''Demonstrate class properties'''\n",
    "\n",
    "class Grader():\n",
    "    '''Represent a grade as a numeric score'''\n",
    "    def __init__(self, score=0):\n",
    "        self.score = score\n",
    "\n",
    "math = Grader(90)\n",
    "print('The math score was %s.' % math.score)\n",
    "math = Grader(101)\n",
    "print('The math score was %s.' % math.score)\n",
    "\n",
    "class Grades():\n",
    "    '''Represent a grade as a numeric score with a property'''\n",
    "    def __init__(self, score=0):\n",
    "        self.score = score\n",
    "    \n",
    "    @property\n",
    "    def score(self):\n",
    "        return self.score\n",
    "    \n",
    "    @score.setter\n",
    "    def score(self, value):\n",
    "        if value > 100 or value < 0:\n",
    "            raise ValueError('Invalid score')\n",
    "        # self._score = value\n",
    "\n",
    "math = Grades(90)\n",
    "\n",
    "print('The math score was %s.' % math.score)\n",
    "# try:\n",
    "#     math.score = 101\n",
    "# except ValueError:\n",
    "#     print('That score is not allowed')\n",
    "\n",
    "# class ReadOnly():\n",
    "#     '''Demonstrate a read only property'''\n",
    "\n",
    "#     @property\n",
    "#     def constant(self):\n",
    "#         return 24\n",
    "    \n",
    "# only_read = ReadOnly()\n",
    "# print('The constant has the value: ', only_read.constant)\n",
    "# try:\n",
    "#     only_read.constant = 25\n",
    "# except:\n",
    "#     print('Properties cannot be changed without a setter')\n",
    "\n",
    "# class HardWay():\n",
    "#     '''Demonstrate property functions'''\n",
    "#     def __init__(self, value=True):\n",
    "#         self.hardset(value)\n",
    "    \n",
    "#     harddoc = 'Properties can have a getter, setter, deleter and doc string'\n",
    "#     def hardset(self, value):\n",
    "#         if value:\n",
    "#             self.way = True\n",
    "#         else:\n",
    "#             self.way = False\n",
    "        \n",
    "#     def hardget(self):\n",
    "#         return self.way\n",
    "    \n",
    "#     def harddel(self):\n",
    "#         self.way = None\n",
    "\n",
    "#     hard = property(fget=hardget, fset=hardset, fdel=harddel, doc=harddoc)\n",
    "\n",
    "# not_decorated = HardWay()\n",
    "# not_decorated.hard = 'test'\n",
    "# print('The value of not_decorated.hard is', not_decorated.hard)\n",
    "# del not_decorated.hard\n",
    "# print('The value of not_decorated.hard is', not_decorated.hard)\n",
    "# print(HardWay.hard.__doc__)"
   ]
  },
  {
   "cell_type": "markdown",
   "id": "1202a03c",
   "metadata": {},
   "source": [
    "## Properties with inheritance"
   ]
  },
  {
   "cell_type": "code",
   "execution_count": null,
   "id": "8d9a6227",
   "metadata": {},
   "outputs": [],
   "source": []
  },
  {
   "cell_type": "markdown",
   "id": "026de6d1",
   "metadata": {},
   "source": [
    "## Operator overloading"
   ]
  },
  {
   "cell_type": "code",
   "execution_count": null,
   "id": "39b9c5f0",
   "metadata": {},
   "outputs": [],
   "source": []
  },
  {
   "cell_type": "markdown",
   "id": "4c9b363b",
   "metadata": {},
   "source": [
    "# Documenting code"
   ]
  },
  {
   "cell_type": "markdown",
   "id": "9c3ea586",
   "metadata": {},
   "source": [
    "## Docstrings"
   ]
  },
  {
   "cell_type": "code",
   "execution_count": 2,
   "id": "979aa251",
   "metadata": {},
   "outputs": [
    {
     "name": "stdout",
     "output_type": "stream",
     "text": [
      "The module docstring Docstrings can be used for normal comments as well\n",
      "The class docstring The class docstring follows the same rules\n",
      "A method docstring Method docstrings can also be used\n",
      "A function docstring Normal functions should have docstrings too\n",
      "Docstrings are used by Python's help function:\n",
      "Help on module __main__:\n",
      "\n",
      "NAME\n",
      "    __main__ - Docstrings can be used for normal comments as well\n",
      "\n",
      "CLASSES\n",
      "    builtins.object\n",
      "        DocumentMe\n",
      "    \n",
      "    class DocumentMe(builtins.object)\n",
      "     |  The class docstring follows the same rules\n",
      "     |  \n",
      "     |  Methods defined here:\n",
      "     |  \n",
      "     |  __init__(self)\n",
      "     |      Method docstrings can also be used\n",
      "     |  \n",
      "     |  ----------------------------------------------------------------------\n",
      "     |  Data descriptors defined here:\n",
      "     |  \n",
      "     |  __dict__\n",
      "     |      dictionary for instance variables (if defined)\n",
      "     |  \n",
      "     |  __weakref__\n",
      "     |      list of weak references to the object (if defined)\n",
      "\n",
      "FUNCTIONS\n",
      "    funk()\n",
      "        Normal functions should have docstrings too\n",
      "\n",
      "DATA\n",
      "    In = ['', \"'''The module docstring appears at the top of th...n:', )\\n...\n",
      "    Out = {}\n",
      "    __ = ''\n",
      "    ___ = ''\n",
      "    __vsc_ipynb_file__ = r'c:\\Users\\BWN\\SPLW_outlook_com\\OneDrive\\CodeRepo...\n",
      "    exit = <IPython.core.autocall.ZMQExitAutocall object>\n",
      "    quit = <IPython.core.autocall.ZMQExitAutocall object>\n",
      "\n",
      "FILE\n",
      "    (built-in)\n",
      "\n",
      "\n",
      "Help on class DocumentMe in module __main__:\n",
      "\n",
      "class DocumentMe(builtins.object)\n",
      " |  The class docstring follows the same rules\n",
      " |  \n",
      " |  Methods defined here:\n",
      " |  \n",
      " |  __init__(self)\n",
      " |      Method docstrings can also be used\n",
      " |  \n",
      " |  ----------------------------------------------------------------------\n",
      " |  Data descriptors defined here:\n",
      " |  \n",
      " |  __dict__\n",
      " |      dictionary for instance variables (if defined)\n",
      " |  \n",
      " |  __weakref__\n",
      " |      list of weak references to the object (if defined)\n",
      "\n",
      "Help on function funk in module __main__:\n",
      "\n",
      "funk()\n",
      "    Normal functions should have docstrings too\n",
      "\n"
     ]
    }
   ],
   "source": [
    "'''The module docstring appears at the top of the file\n",
    "\n",
    "If a longer description of more than one line is needed,\n",
    "then a blank line should be skipped after the first line\n",
    "and then a longer description can be provided.\n",
    "\n",
    "See PEP 257 for more information\n",
    "'''\n",
    "\n",
    "class DocumentMe():\n",
    "    '''The class docstring follows the same rules'''\n",
    "\n",
    "    def __init__(self):\n",
    "        '''Method docstrings can also be used'''\n",
    "        self.text = '''Tripple quoted strings can also be used\n",
    "        to hold WYSIWYG \n",
    "        formatted strings'''\n",
    "\n",
    "def funk():\n",
    "    '''Normal functions should have docstrings too'''\n",
    "    pass\n",
    "\n",
    "'''Docstrings can be used for normal comments as well'''\n",
    "\n",
    "print('The module docstring', __doc__)\n",
    "print('The class docstring', DocumentMe.__doc__)\n",
    "print('A method docstring', DocumentMe.__init__.__doc__)\n",
    "print('A function docstring', funk.__doc__)\n",
    "print('Docstrings are used by Python\\'s help function:', )\n",
    "help(__name__)\n",
    "help(DocumentMe)\n",
    "help(funk)"
   ]
  },
  {
   "cell_type": "markdown",
   "id": "2f953e40",
   "metadata": {},
   "source": [
    "## Code comments"
   ]
  },
  {
   "cell_type": "code",
   "execution_count": 3,
   "id": "3be37a4a",
   "metadata": {},
   "outputs": [],
   "source": [
    "'''Module docstrings are part of comments\n",
    "\n",
    "Comments are documented in PEP 8.as_integer_ratio'''\n",
    "\n",
    "class Simple():\n",
    "    '''Class docstrings should be included as comments'''\n",
    "\n",
    "    # Comments can be includede at the same level of indentation.\n",
    "    # Block comments start each line the same way.\n",
    "\n",
    "    def __init__(self) -> None: # Inline comments share a line with code\n",
    "        '''Method docstrings are also important comments'''\n",
    "        pass"
   ]
  },
  {
   "cell_type": "markdown",
   "id": "70e8628f",
   "metadata": {},
   "source": [
    "## Best practices"
   ]
  },
  {
   "cell_type": "code",
   "execution_count": 5,
   "id": "689d03e3",
   "metadata": {},
   "outputs": [
    {
     "data": {
      "text/plain": [
       "'Lesson contains too much text to enter in this section. \\n\\nI think I get the message here.\\n\\n'"
      ]
     },
     "execution_count": 5,
     "metadata": {},
     "output_type": "execute_result"
    }
   ],
   "source": [
    "'''Lesson contains too much text to enter in this section. \n",
    "\n",
    "I think I get the message here.\n",
    "\n",
    "'''\n",
    "\n",
    "# Just use good practices when inserting comments..."
   ]
  },
  {
   "cell_type": "markdown",
   "id": "4898b833",
   "metadata": {},
   "source": [
    "# Files"
   ]
  },
  {
   "cell_type": "markdown",
   "id": "da2f233b",
   "metadata": {},
   "source": [
    "## Reading text files"
   ]
  },
  {
   "cell_type": "code",
   "execution_count": 9,
   "id": "624ff2d6",
   "metadata": {},
   "outputs": [
    {
     "name": "stdout",
     "output_type": "stream",
     "text": [
      "\n",
      "**** Iterating over lines ****\n",
      "additional package to install for candlehoarder in raspi\n",
      "\n",
      "sudo apt-get install libatlas-base-dev\n",
      "\n",
      "Add to requitements.txt in github\n",
      "\n",
      "Also renamed secrets.py to private.py since it clashed with another module suddenly and caused this error\n",
      "\n",
      "ImportError: Unable to import required dependencies:\n",
      "numpy: cannot import name randbits\n",
      "\n",
      "Had to rename secrets to private in config.py sections too!!\n",
      "\n",
      "ANother additional package to install:\n",
      "\n",
      "sudo apt-get install libopenjp2-7-dev\n",
      "\n",
      "Also end of hoarding at beginning??\n",
      "\n",
      "bas@appelstroop:~/CandleHoarder $ ./hoard.py\n",
      "WARNING:root:End of hoarding, everything seemed succesfull...\n",
      "WARNING:root:Starting hoarding of candles...\n",
      "WARNING:root:Checking BTCUSDT on 1d.\n",
      "Database BTCUSDT created\n",
      "Table BTCUSDT 1d created.\n",
      "No data found! Downloading history for BTCUSDT on 1d\n",
      "Creating Mayer multiple plot for BTCUSDT on 1d...\n",
      "Creating Bull support band plot for BTCUSDT on 1d...\n",
      "Creating moving averages plot for BTCUSDT on 1d...\n",
      "Creating Supertrend plot for BTCUSDT on 1d...\n",
      "\n"
     ]
    }
   ],
   "source": [
    "'''Demonstrate reading text from a file'''\n",
    "print('\\n**** Iterating over lines ****')\n",
    "'''Reading text from a file without default encoding'''\n",
    "with open('./addon.txt') as text_file:\n",
    "    text = text_file.read()\n",
    "print(text)\n",
    "\n"
   ]
  },
  {
   "cell_type": "code",
   "execution_count": 10,
   "id": "813971e6",
   "metadata": {},
   "outputs": [
    {
     "name": "stdout",
     "output_type": "stream",
     "text": [
      "\n",
      "**** Using read method ****\n",
      "additional package to install for candlehoarder in raspi\n",
      "\n",
      "sudo apt-get install libatlas-base-dev\n",
      "\n",
      "Add to requitements.txt in github\n",
      "\n",
      "Also renamed secrets.py to private.py since it clashed with another module suddenly and caused this error\n",
      "\n",
      "ImportError: Unable to import required dependencies:\n",
      "numpy: cannot import name randbits\n",
      "\n",
      "Had to rename secrets to private in config.py sections too!!\n",
      "\n",
      "ANother additional package to install:\n",
      "\n",
      "sudo apt-get install libopenjp2-7-dev\n",
      "\n",
      "Also end of hoarding at beginning??\n",
      "\n",
      "bas@appelstroop:~/CandleHoarder $ ./hoard.py\n",
      "WARNING:root:End of hoarding, everything seemed succesfull...\n",
      "WARNING:root:Starting hoarding of candles...\n",
      "WARNING:root:Checking BTCUSDT on 1d.\n",
      "Database BTCUSDT created\n",
      "Table BTCUSDT 1d created.\n",
      "No data found! Downloading history for BTCUSDT on 1d\n",
      "Creating Mayer multiple plot for BTCUSDT on 1d...\n",
      "Creating Bull support band plot for BTCUSDT on 1d...\n",
      "Creating moving averages plot for BTCUSDT on 1d...\n",
      "Creating Supertrend plot for BTCUSDT on 1d...\n",
      "\n"
     ]
    }
   ],
   "source": [
    "print('\\n**** Using read method ****')\n",
    "'''Reading text from a file with US encoding'''\n",
    "with open('./addon.txt', encoding='us') as text_file:\n",
    "    text = text_file.read()\n",
    "print(text)"
   ]
  },
  {
   "cell_type": "code",
   "execution_count": 11,
   "id": "5f0de185",
   "metadata": {},
   "outputs": [
    {
     "name": "stdout",
     "output_type": "stream",
     "text": [
      "\n",
      "**** Using readlines method ****\n",
      "['additional package to install for candlehoarder in raspi\\n', '\\n', 'sudo apt-get install libatlas-base-dev\\n', '\\n', 'Add to requitements.txt in github\\n', '\\n', 'Also renamed secrets.py to private.py since it clashed with another module suddenly and caused this error\\n', '\\n', 'ImportError: Unable to import required dependencies:\\n', 'numpy: cannot import name randbits\\n', '\\n', 'Had to rename secrets to private in config.py sections too!!\\n', '\\n', 'ANother additional package to install:\\n', '\\n', 'sudo apt-get install libopenjp2-7-dev\\n', '\\n', 'Also end of hoarding at beginning??\\n', '\\n', 'bas@appelstroop:~/CandleHoarder $ ./hoard.py\\n', 'WARNING:root:End of hoarding, everything seemed succesfull...\\n', 'WARNING:root:Starting hoarding of candles...\\n', 'WARNING:root:Checking BTCUSDT on 1d.\\n', 'Database BTCUSDT created\\n', 'Table BTCUSDT 1d created.\\n', 'No data found! Downloading history for BTCUSDT on 1d\\n', 'Creating Mayer multiple plot for BTCUSDT on 1d...\\n', 'Creating Bull support band plot for BTCUSDT on 1d...\\n', 'Creating moving averages plot for BTCUSDT on 1d...\\n', 'Creating Supertrend plot for BTCUSDT on 1d...\\n']\n"
     ]
    }
   ],
   "source": [
    "print('\\n**** Using readlines method ****')\n",
    "'''Reading text from a file with US encoding'''\n",
    "with open('./addon.txt', encoding='us') as text_file:\n",
    "    lines = text_file.readlines()\n",
    "print(lines)\n"
   ]
  },
  {
   "cell_type": "code",
   "execution_count": 12,
   "id": "269c7bfe",
   "metadata": {},
   "outputs": [
    {
     "name": "stdout",
     "output_type": "stream",
     "text": [
      "\n",
      "**** Using readline method ****\n",
      "additional package to install for candlehoarder in raspi\n",
      "\n",
      "sudo apt-get install libatlas-base-dev\n",
      "\n",
      "Add to requitements.txt in github\n",
      "\n",
      "Also renamed secrets.py to private.py since it clashed with another module suddenly and caused this error\n",
      "\n",
      "ImportError: Unable to import required dependencies:\n",
      "numpy: cannot import name randbits\n",
      "\n",
      "Had to rename secrets to private in config.py sections too!!\n",
      "\n",
      "ANother additional package to install:\n",
      "\n",
      "sudo apt-get install libopenjp2-7-dev\n",
      "\n",
      "Also end of hoarding at beginning??\n",
      "\n",
      "bas@appelstroop:~/CandleHoarder $ ./hoard.py\n",
      "WARNING:root:End of hoarding, everything seemed succesfull...\n",
      "WARNING:root:Starting hoarding of candles...\n",
      "WARNING:root:Checking BTCUSDT on 1d.\n",
      "Database BTCUSDT created\n",
      "Table BTCUSDT 1d created.\n",
      "No data found! Downloading history for BTCUSDT on 1d\n",
      "Creating Mayer multiple plot for BTCUSDT on 1d...\n",
      "Creating Bull support band plot for BTCUSDT on 1d...\n",
      "Creating moving averages plot for BTCUSDT on 1d...\n",
      "Creating Supertrend plot for BTCUSDT on 1d...\n"
     ]
    }
   ],
   "source": [
    "\n",
    "print('\\n**** Using readline method ****')\n",
    "'''Reading text from a file with Latin encoding'''\n",
    "with open('./addon.txt', encoding='latin-1') as text_file:\n",
    "    while 1:\n",
    "        line = text_file.readline()\n",
    "        if not line:\n",
    "            break\n",
    "        else:\n",
    "            print(line, end='')\n",
    "\n"
   ]
  },
  {
   "cell_type": "code",
   "execution_count": 13,
   "id": "e81a4930",
   "metadata": {},
   "outputs": [
    {
     "name": "stdout",
     "output_type": "stream",
     "text": [
      "\n",
      "**** Using error handling ****\n",
      "Problem with Unicode encoding\n"
     ]
    }
   ],
   "source": [
    "print('\\n**** Using error handling ****')\n",
    "try: \n",
    "    '''Reading text from a file with utf-16 encoding'''\n",
    "    with open('./addon.txt', encoding='utf-16') as text_file:\n",
    "        for line in text_file:\n",
    "            print(line, end='')\n",
    "except UnicodeError:\n",
    "    print('Problem with Unicode encoding')"
   ]
  },
  {
   "cell_type": "markdown",
   "id": "9939948b",
   "metadata": {},
   "source": [
    "## Writing data"
   ]
  },
  {
   "cell_type": "code",
   "execution_count": 17,
   "id": "b58e1296",
   "metadata": {},
   "outputs": [
    {
     "name": "stdout",
     "output_type": "stream",
     "text": [
      "Default Windows 10 encoding \"cp1252\"\n"
     ]
    }
   ],
   "source": [
    "'''Demonstrate writing text to a file'''\n",
    "\n",
    "from io import UnsupportedOperation\n",
    "\n",
    "print('Default Windows 10 encoding \"cp1252\"')\n",
    "with open('written.txt', mode='a') as out_file:\n",
    "    out_file.write('This is the first line of text.\\n')"
   ]
  },
  {
   "cell_type": "code",
   "execution_count": 19,
   "id": "6cce1001",
   "metadata": {},
   "outputs": [],
   "source": [
    "with open('written.txt', mode='a') as append_file:\n",
    "    append_file.write('This line is appended at the end.\\n')"
   ]
  },
  {
   "cell_type": "code",
   "execution_count": 21,
   "id": "4cb45584",
   "metadata": {},
   "outputs": [
    {
     "name": "stdout",
     "output_type": "stream",
     "text": [
      "This is the first line of text.\n",
      "This is the first line of text.\n",
      "This line is appended at the end.\n",
      "This line is appended at the end.\n",
      "\n"
     ]
    }
   ],
   "source": [
    "with open('written.txt', mode='r') as in_file:\n",
    "    print(in_file.read())"
   ]
  },
  {
   "cell_type": "code",
   "execution_count": 22,
   "id": "1604ed36",
   "metadata": {},
   "outputs": [],
   "source": [
    "lines = (\n",
    "    'Line 1\\n', 'Line2\\n',\n",
    "    'Line3\\n', 'Line4\\n'\n",
    ")\n",
    "\n",
    "'''Using a file without the \"with\" context'''\n",
    "try:\n",
    "    out_file = open('without.txt', mode='w', buffering=1, encoding='us')\n",
    "    out_file.writelines(lines)\n",
    "    out_file.flush()\n",
    "finally:\n",
    "    out_file.close()\n"
   ]
  },
  {
   "cell_type": "code",
   "execution_count": 24,
   "id": "8840a67a",
   "metadata": {},
   "outputs": [
    {
     "name": "stdout",
     "output_type": "stream",
     "text": [
      "0 <- File position before the first read.\n",
      "Line 1\n",
      "\n",
      "8 <- File position after the first read.\n",
      "Line2\n",
      "L\n",
      "16 <- File position after the second read.\n",
      "0 <- EOF after seek(0,0)\n",
      "29 <- EOF after seek(0,2)\n",
      "Text files do not support relative seeks\n"
     ]
    }
   ],
   "source": [
    "try:\n",
    "    in_file = open('without.txt', encoding='us')\n",
    "    print(in_file.tell(), end=' <- File position before the first read.\\n')\n",
    "    print(in_file.read(7))\n",
    "    print(in_file.tell(), end=' <- File position after the first read.\\n')\n",
    "    print(in_file.read(7))\n",
    "    print(in_file.tell(), end=' <- File position after the second read.\\n')\n",
    "\n",
    "    in_file.seek(0,0) # Seek (offset, from what) from what=0 is EOF\n",
    "    print(in_file.tell(), end=' <- EOF after seek(0,0)\\n')\n",
    "    in_file.seek(0,2) # from what=2 is EOF\n",
    "    print(in_file.tell(), end=' <- EOF after seek(0,2)\\n')\n",
    "    in_file.seek(7,1) # from what=1 is relative to position\n",
    "    print(in_file.tell(), end=' <- File position after relative seek\\n')\n",
    "except UnsupportedOperation:\n",
    "    print('Text files do not support relative seeks')\n",
    "finally:\n",
    "    in_file.close()\n",
    "\n",
    "\n"
   ]
  },
  {
   "cell_type": "markdown",
   "id": "3ee77b87",
   "metadata": {},
   "source": [
    "## Writing large files"
   ]
  },
  {
   "cell_type": "code",
   "execution_count": 25,
   "id": "a9aa87dc",
   "metadata": {},
   "outputs": [],
   "source": [
    "# I will do this later... too much text."
   ]
  },
  {
   "cell_type": "markdown",
   "id": "4e92214c",
   "metadata": {},
   "source": [
    "## Reading binary data"
   ]
  },
  {
   "cell_type": "code",
   "execution_count": null,
   "id": "06929f95",
   "metadata": {},
   "outputs": [],
   "source": [
    "'''Demonstrate reading binary data'''\n",
    "from struct import unpack\n",
    "\n",
    "avi = open('large.avi', mode='br')\n",
    "avi.seek(64)\n",
    "binary = avi.read(8)\n",
    "width_height = unpack('<hhhh', binary) # unpack 4 little-endian short integers\n",
    "width = width_height[0]\n",
    "height = width_height[2]\n",
    "print('The video has a pixel width of %i and a pixel height of %i.' % (width, height))"
   ]
  },
  {
   "cell_type": "markdown",
   "id": "537b96b9",
   "metadata": {},
   "source": [
    "## Writing binary data"
   ]
  },
  {
   "cell_type": "code",
   "execution_count": 26,
   "id": "e1fe8857",
   "metadata": {},
   "outputs": [
    {
     "name": "stdout",
     "output_type": "stream",
     "text": [
      "Bytes data:  b'abcdefghijklmnopqrstuvwxyzABCDEFGHIJKLMNOPQRSTUVWXYZ'\n",
      "String data:  abcdefghijklmnopqrstuvwxyzABCDEFGHIJKLMNOPQRSTUVWXYZ\n"
     ]
    }
   ],
   "source": [
    "'''Demonstrate writing binary data in Python'''\n",
    "from string import ascii_letters\n",
    "data =  bytes(ascii_letters, 'utf-8')\n",
    "\n",
    "with open('letters.bin', mode='wb') as out_file:\n",
    "    out_file.write(data)\n",
    "\n",
    "with open('letters.bin', mode='rb') as in_file:\n",
    "    data = in_file.read()\n",
    "\n",
    "print('Bytes data: ', data)\n",
    "print('String data: ', data.decode('utf-8'))"
   ]
  },
  {
   "cell_type": "markdown",
   "id": "88258b09",
   "metadata": {},
   "source": []
  }
 ],
 "metadata": {
  "kernelspec": {
   "display_name": "Python 3.9.7 ('base')",
   "language": "python",
   "name": "python3"
  },
  "language_info": {
   "codemirror_mode": {
    "name": "ipython",
    "version": 3
   },
   "file_extension": ".py",
   "mimetype": "text/x-python",
   "name": "python",
   "nbconvert_exporter": "python",
   "pygments_lexer": "ipython3",
   "version": "3.9.7"
  },
  "vscode": {
   "interpreter": {
    "hash": "c05ada4759d20396f184d379af170849f2f70e699dd6ef315bae8088186b7ee8"
   }
  }
 },
 "nbformat": 4,
 "nbformat_minor": 5
}
