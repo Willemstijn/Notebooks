{
 "cells": [
  {
   "cell_type": "markdown",
   "metadata": {},
   "source": [
    "## Load freqtrade downloaded data into dataframe"
   ]
  },
  {
   "cell_type": "markdown",
   "metadata": {},
   "source": [
    "Set freqtrade directory to root so relative paths stay constant:"
   ]
  },
  {
   "cell_type": "code",
   "execution_count": 35,
   "metadata": {},
   "outputs": [
    {
     "name": "stdout",
     "output_type": "stream",
     "text": [
      "Loaded 499 rows of data for ETH/USDT from /opt/freqtrade/user_data/data/binance\n"
     ]
    },
    {
     "data": {
      "text/html": [
       "<div>\n",
       "<style scoped>\n",
       "    .dataframe tbody tr th:only-of-type {\n",
       "        vertical-align: middle;\n",
       "    }\n",
       "\n",
       "    .dataframe tbody tr th {\n",
       "        vertical-align: top;\n",
       "    }\n",
       "\n",
       "    .dataframe thead th {\n",
       "        text-align: right;\n",
       "    }\n",
       "</style>\n",
       "<table border=\"1\" class=\"dataframe\">\n",
       "  <thead>\n",
       "    <tr style=\"text-align: right;\">\n",
       "      <th></th>\n",
       "      <th>date</th>\n",
       "      <th>open</th>\n",
       "      <th>high</th>\n",
       "      <th>low</th>\n",
       "      <th>close</th>\n",
       "      <th>volume</th>\n",
       "    </tr>\n",
       "  </thead>\n",
       "  <tbody>\n",
       "    <tr>\n",
       "      <th>2021-12-11</th>\n",
       "      <td>2021-12-11 00:00:00+00:00</td>\n",
       "      <td>3898.31</td>\n",
       "      <td>4097.08</td>\n",
       "      <td>3828.22</td>\n",
       "      <td>4089.37</td>\n",
       "      <td>427853.4343</td>\n",
       "    </tr>\n",
       "    <tr>\n",
       "      <th>2021-12-12</th>\n",
       "      <td>2021-12-12 00:00:00+00:00</td>\n",
       "      <td>4089.68</td>\n",
       "      <td>4173.63</td>\n",
       "      <td>3986.25</td>\n",
       "      <td>4130.00</td>\n",
       "      <td>260535.5157</td>\n",
       "    </tr>\n",
       "    <tr>\n",
       "      <th>2021-12-13</th>\n",
       "      <td>2021-12-13 00:00:00+00:00</td>\n",
       "      <td>4130.00</td>\n",
       "      <td>4142.75</td>\n",
       "      <td>3671.45</td>\n",
       "      <td>3781.93</td>\n",
       "      <td>533467.2307</td>\n",
       "    </tr>\n",
       "    <tr>\n",
       "      <th>2021-12-14</th>\n",
       "      <td>2021-12-14 00:00:00+00:00</td>\n",
       "      <td>3781.92</td>\n",
       "      <td>3882.74</td>\n",
       "      <td>3685.00</td>\n",
       "      <td>3858.99</td>\n",
       "      <td>395145.7462</td>\n",
       "    </tr>\n",
       "    <tr>\n",
       "      <th>2021-12-15</th>\n",
       "      <td>2021-12-15 00:00:00+00:00</td>\n",
       "      <td>3858.99</td>\n",
       "      <td>4092.22</td>\n",
       "      <td>3643.73</td>\n",
       "      <td>4019.08</td>\n",
       "      <td>542068.0573</td>\n",
       "    </tr>\n",
       "  </tbody>\n",
       "</table>\n",
       "</div>"
      ],
      "text/plain": [
       "                                date     open     high      low    close  \\\n",
       "2021-12-11 2021-12-11 00:00:00+00:00  3898.31  4097.08  3828.22  4089.37   \n",
       "2021-12-12 2021-12-12 00:00:00+00:00  4089.68  4173.63  3986.25  4130.00   \n",
       "2021-12-13 2021-12-13 00:00:00+00:00  4130.00  4142.75  3671.45  3781.93   \n",
       "2021-12-14 2021-12-14 00:00:00+00:00  3781.92  3882.74  3685.00  3858.99   \n",
       "2021-12-15 2021-12-15 00:00:00+00:00  3858.99  4092.22  3643.73  4019.08   \n",
       "\n",
       "                 volume  \n",
       "2021-12-11  427853.4343  \n",
       "2021-12-12  260535.5157  \n",
       "2021-12-13  533467.2307  \n",
       "2021-12-14  395145.7462  \n",
       "2021-12-15  542068.0573  "
      ]
     },
     "execution_count": 35,
     "metadata": {},
     "output_type": "execute_result"
    }
   ],
   "source": [
    "# Import libraries\n",
    "import os\n",
    "import pandas as pd\n",
    "import numpy as np\n",
    "import plotly.express as px\n",
    "from pathlib import Path\n",
    "from freqtrade.data.history import load_pair_history\n",
    "from freqtrade.configuration import Configuration\n",
    "\n",
    "# DATAFRAME VARIABLES, CHANGE WHEN NECESSARY\n",
    "project_root = \"somedir/freqtrade\"\n",
    "exchange = \"binance\"\n",
    "timeframe = \"1d\"\n",
    "pair = \"ETH/USDT\"\n",
    "\n",
    "# Define the project root to be the freqtrade installation directory\n",
    "i=0\n",
    "try:\n",
    "    os.chdirdir(project_root)\n",
    "    assert Path('LICENSE').is_file()\n",
    "except:\n",
    "    while i<4 and (not Path('LICENSE').is_file()):\n",
    "        os.chdir(Path(Path.cwd(), '../'))\n",
    "        i+=1\n",
    "    project_root = Path.cwd()\n",
    "data_location = Path(config['user_data_dir'], 'data', exchange)\n",
    "\n",
    "# Load the pairs data into a dataframe\n",
    "df = load_pair_history(datadir=data_location,\n",
    "                            timeframe=timeframe,\n",
    "                            pair=pair,\n",
    "                            data_format = \"json\",\n",
    "                            )\n",
    "# Change index to date\n",
    "df = df.set_index(pd.DatetimeIndex(df['date'].values))\n",
    "\n",
    "# Confirm load and show the data\n",
    "print(\"Loaded \" + str(len(df)) + f\" rows of data for {pair} from {data_location}\")\n",
    "df.tail()"
   ]
  }
 ],
 "metadata": {
  "kernelspec": {
   "display_name": "freqtrade",
   "language": "python",
   "name": "freqtrade"
  },
  "language_info": {
   "codemirror_mode": {
    "name": "ipython",
    "version": 3
   },
   "file_extension": ".py",
   "mimetype": "text/x-python",
   "name": "python",
   "nbconvert_exporter": "python",
   "pygments_lexer": "ipython3",
   "version": "3.8.10"
  }
 },
 "nbformat": 4,
 "nbformat_minor": 4
}
