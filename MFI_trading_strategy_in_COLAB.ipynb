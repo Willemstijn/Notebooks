{
 "cells": [
  {
   "cell_type": "code",
   "execution_count": null,
   "metadata": {
    "id": "xmLoRMF82RmA"
   },
   "outputs": [],
   "source": [
    "# import the libraries\n",
    "import pandas as pd\n",
    "import numpy as np\n",
    "import matplotlib.pyplot as plt\n",
    "plt.style.use('fivethirtyeight')"
   ]
  },
  {
   "cell_type": "code",
   "execution_count": null,
   "metadata": {
    "colab": {
     "base_uri": "https://localhost:8080/",
     "height": 75,
     "resources": {
      "http://localhost:8080/nbextensions/google.colab/files.js": {
       "data": "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",
       "headers": [
        [
         "content-type",
         "application/javascript"
        ]
       ],
       "ok": true,
       "status": 200,
       "status_text": "OK"
      }
     }
    },
    "id": "Ue0z9CT-2Zzv",
    "outputId": "65e0d416-74eb-463c-86bd-eb7cafe2b794"
   },
   "outputs": [
    {
     "data": {
      "text/html": [
       "\n",
       "     <input type=\"file\" id=\"files-73fd6665-3993-4445-9766-6b20c852a7a1\" name=\"files[]\" multiple disabled\n",
       "        style=\"border:none\" />\n",
       "     <output id=\"result-73fd6665-3993-4445-9766-6b20c852a7a1\">\n",
       "      Upload widget is only available when the cell has been executed in the\n",
       "      current browser session. Please rerun this cell to enable.\n",
       "      </output>\n",
       "      <script src=\"/nbextensions/google.colab/files.js\"></script> "
      ],
      "text/plain": [
       "<IPython.core.display.HTML object>"
      ]
     },
     "metadata": {},
     "output_type": "display_data"
    },
    {
     "name": "stdout",
     "output_type": "stream",
     "text": [
      "Saving BTC-USD-6M.csv to BTC-USD-6M (1).csv\n"
     ]
    }
   ],
   "source": [
    "# load the data\n",
    "from google.colab import files\n",
    "uploaded = files.upload()"
   ]
  },
  {
   "cell_type": "code",
   "execution_count": null,
   "metadata": {
    "colab": {
     "base_uri": "https://localhost:8080/",
     "height": 423
    },
    "id": "vEQZ34r_2aNP",
    "outputId": "1e9b22c0-3db5-4f8f-e9c1-6a206a6b223f"
   },
   "outputs": [
    {
     "data": {
      "text/html": [
       "<div>\n",
       "<style scoped>\n",
       "    .dataframe tbody tr th:only-of-type {\n",
       "        vertical-align: middle;\n",
       "    }\n",
       "\n",
       "    .dataframe tbody tr th {\n",
       "        vertical-align: top;\n",
       "    }\n",
       "\n",
       "    .dataframe thead th {\n",
       "        text-align: right;\n",
       "    }\n",
       "</style>\n",
       "<table border=\"1\" class=\"dataframe\">\n",
       "  <thead>\n",
       "    <tr style=\"text-align: right;\">\n",
       "      <th></th>\n",
       "      <th>Date</th>\n",
       "      <th>Open</th>\n",
       "      <th>High</th>\n",
       "      <th>Low</th>\n",
       "      <th>Close</th>\n",
       "      <th>Adj Close</th>\n",
       "      <th>Volume</th>\n",
       "    </tr>\n",
       "  </thead>\n",
       "  <tbody>\n",
       "    <tr>\n",
       "      <th>0</th>\n",
       "      <td>2021-03-14</td>\n",
       "      <td>61221.132813</td>\n",
       "      <td>61597.917969</td>\n",
       "      <td>59302.316406</td>\n",
       "      <td>59302.316406</td>\n",
       "      <td>59302.316406</td>\n",
       "      <td>43901225564</td>\n",
       "    </tr>\n",
       "    <tr>\n",
       "      <th>1</th>\n",
       "      <td>2021-03-15</td>\n",
       "      <td>59267.429688</td>\n",
       "      <td>60540.992188</td>\n",
       "      <td>55393.164063</td>\n",
       "      <td>55907.199219</td>\n",
       "      <td>55907.199219</td>\n",
       "      <td>66419369890</td>\n",
       "    </tr>\n",
       "    <tr>\n",
       "      <th>2</th>\n",
       "      <td>2021-03-16</td>\n",
       "      <td>55840.785156</td>\n",
       "      <td>56833.179688</td>\n",
       "      <td>53555.027344</td>\n",
       "      <td>56804.902344</td>\n",
       "      <td>56804.902344</td>\n",
       "      <td>59749798599</td>\n",
       "    </tr>\n",
       "    <tr>\n",
       "      <th>3</th>\n",
       "      <td>2021-03-17</td>\n",
       "      <td>56825.828125</td>\n",
       "      <td>58969.816406</td>\n",
       "      <td>54528.628906</td>\n",
       "      <td>58870.894531</td>\n",
       "      <td>58870.894531</td>\n",
       "      <td>60258313191</td>\n",
       "    </tr>\n",
       "    <tr>\n",
       "      <th>4</th>\n",
       "      <td>2021-03-18</td>\n",
       "      <td>58893.078125</td>\n",
       "      <td>60116.250000</td>\n",
       "      <td>54253.578125</td>\n",
       "      <td>57858.921875</td>\n",
       "      <td>57858.921875</td>\n",
       "      <td>55746041000</td>\n",
       "    </tr>\n",
       "    <tr>\n",
       "      <th>...</th>\n",
       "      <td>...</td>\n",
       "      <td>...</td>\n",
       "      <td>...</td>\n",
       "      <td>...</td>\n",
       "      <td>...</td>\n",
       "      <td>...</td>\n",
       "      <td>...</td>\n",
       "    </tr>\n",
       "    <tr>\n",
       "      <th>180</th>\n",
       "      <td>2021-09-10</td>\n",
       "      <td>46396.664063</td>\n",
       "      <td>47031.742188</td>\n",
       "      <td>44344.484375</td>\n",
       "      <td>44883.910156</td>\n",
       "      <td>44883.910156</td>\n",
       "      <td>39154666597</td>\n",
       "    </tr>\n",
       "    <tr>\n",
       "      <th>181</th>\n",
       "      <td>2021-09-11</td>\n",
       "      <td>44869.839844</td>\n",
       "      <td>45969.292969</td>\n",
       "      <td>44818.265625</td>\n",
       "      <td>45201.457031</td>\n",
       "      <td>45201.457031</td>\n",
       "      <td>34499835245</td>\n",
       "    </tr>\n",
       "    <tr>\n",
       "      <th>182</th>\n",
       "      <td>2021-09-12</td>\n",
       "      <td>45206.628906</td>\n",
       "      <td>46364.878906</td>\n",
       "      <td>44790.460938</td>\n",
       "      <td>46063.269531</td>\n",
       "      <td>46063.269531</td>\n",
       "      <td>27881980161</td>\n",
       "    </tr>\n",
       "    <tr>\n",
       "      <th>183</th>\n",
       "      <td>2021-09-13</td>\n",
       "      <td>46057.214844</td>\n",
       "      <td>46598.679688</td>\n",
       "      <td>43591.320313</td>\n",
       "      <td>44963.074219</td>\n",
       "      <td>44963.074219</td>\n",
       "      <td>40969943253</td>\n",
       "    </tr>\n",
       "    <tr>\n",
       "      <th>184</th>\n",
       "      <td>2021-09-14</td>\n",
       "      <td>44860.273438</td>\n",
       "      <td>46791.710938</td>\n",
       "      <td>44860.273438</td>\n",
       "      <td>46746.496094</td>\n",
       "      <td>46746.496094</td>\n",
       "      <td>38414983168</td>\n",
       "    </tr>\n",
       "  </tbody>\n",
       "</table>\n",
       "<p>185 rows × 7 columns</p>\n",
       "</div>"
      ],
      "text/plain": [
       "           Date          Open  ...     Adj Close       Volume\n",
       "0    2021-03-14  61221.132813  ...  59302.316406  43901225564\n",
       "1    2021-03-15  59267.429688  ...  55907.199219  66419369890\n",
       "2    2021-03-16  55840.785156  ...  56804.902344  59749798599\n",
       "3    2021-03-17  56825.828125  ...  58870.894531  60258313191\n",
       "4    2021-03-18  58893.078125  ...  57858.921875  55746041000\n",
       "..          ...           ...  ...           ...          ...\n",
       "180  2021-09-10  46396.664063  ...  44883.910156  39154666597\n",
       "181  2021-09-11  44869.839844  ...  45201.457031  34499835245\n",
       "182  2021-09-12  45206.628906  ...  46063.269531  27881980161\n",
       "183  2021-09-13  46057.214844  ...  44963.074219  40969943253\n",
       "184  2021-09-14  44860.273438  ...  46746.496094  38414983168\n",
       "\n",
       "[185 rows x 7 columns]"
      ]
     },
     "execution_count": 20,
     "metadata": {},
     "output_type": "execute_result"
    }
   ],
   "source": [
    "# Store the data in a dataframe\n",
    "df = pd.read_csv('BTC-USD-6M.csv')\n",
    "\n",
    "# Show the data\n",
    "df"
   ]
  },
  {
   "cell_type": "code",
   "execution_count": null,
   "metadata": {
    "colab": {
     "base_uri": "https://localhost:8080/",
     "height": 423
    },
    "id": "2p372Yw42i-6",
    "outputId": "31677878-2075-480d-f358-300dd27ae34c"
   },
   "outputs": [
    {
     "data": {
      "text/html": [
       "<div>\n",
       "<style scoped>\n",
       "    .dataframe tbody tr th:only-of-type {\n",
       "        vertical-align: middle;\n",
       "    }\n",
       "\n",
       "    .dataframe tbody tr th {\n",
       "        vertical-align: top;\n",
       "    }\n",
       "\n",
       "    .dataframe thead th {\n",
       "        text-align: right;\n",
       "    }\n",
       "</style>\n",
       "<table border=\"1\" class=\"dataframe\">\n",
       "  <thead>\n",
       "    <tr style=\"text-align: right;\">\n",
       "      <th></th>\n",
       "      <th>Date</th>\n",
       "      <th>Open</th>\n",
       "      <th>High</th>\n",
       "      <th>Low</th>\n",
       "      <th>Close</th>\n",
       "      <th>Adj Close</th>\n",
       "      <th>Volume</th>\n",
       "    </tr>\n",
       "  </thead>\n",
       "  <tbody>\n",
       "    <tr>\n",
       "      <th>2021-03-14</th>\n",
       "      <td>2021-03-14</td>\n",
       "      <td>61221.132813</td>\n",
       "      <td>61597.917969</td>\n",
       "      <td>59302.316406</td>\n",
       "      <td>59302.316406</td>\n",
       "      <td>59302.316406</td>\n",
       "      <td>43901225564</td>\n",
       "    </tr>\n",
       "    <tr>\n",
       "      <th>2021-03-15</th>\n",
       "      <td>2021-03-15</td>\n",
       "      <td>59267.429688</td>\n",
       "      <td>60540.992188</td>\n",
       "      <td>55393.164063</td>\n",
       "      <td>55907.199219</td>\n",
       "      <td>55907.199219</td>\n",
       "      <td>66419369890</td>\n",
       "    </tr>\n",
       "    <tr>\n",
       "      <th>2021-03-16</th>\n",
       "      <td>2021-03-16</td>\n",
       "      <td>55840.785156</td>\n",
       "      <td>56833.179688</td>\n",
       "      <td>53555.027344</td>\n",
       "      <td>56804.902344</td>\n",
       "      <td>56804.902344</td>\n",
       "      <td>59749798599</td>\n",
       "    </tr>\n",
       "    <tr>\n",
       "      <th>2021-03-17</th>\n",
       "      <td>2021-03-17</td>\n",
       "      <td>56825.828125</td>\n",
       "      <td>58969.816406</td>\n",
       "      <td>54528.628906</td>\n",
       "      <td>58870.894531</td>\n",
       "      <td>58870.894531</td>\n",
       "      <td>60258313191</td>\n",
       "    </tr>\n",
       "    <tr>\n",
       "      <th>2021-03-18</th>\n",
       "      <td>2021-03-18</td>\n",
       "      <td>58893.078125</td>\n",
       "      <td>60116.250000</td>\n",
       "      <td>54253.578125</td>\n",
       "      <td>57858.921875</td>\n",
       "      <td>57858.921875</td>\n",
       "      <td>55746041000</td>\n",
       "    </tr>\n",
       "    <tr>\n",
       "      <th>...</th>\n",
       "      <td>...</td>\n",
       "      <td>...</td>\n",
       "      <td>...</td>\n",
       "      <td>...</td>\n",
       "      <td>...</td>\n",
       "      <td>...</td>\n",
       "      <td>...</td>\n",
       "    </tr>\n",
       "    <tr>\n",
       "      <th>2021-09-10</th>\n",
       "      <td>2021-09-10</td>\n",
       "      <td>46396.664063</td>\n",
       "      <td>47031.742188</td>\n",
       "      <td>44344.484375</td>\n",
       "      <td>44883.910156</td>\n",
       "      <td>44883.910156</td>\n",
       "      <td>39154666597</td>\n",
       "    </tr>\n",
       "    <tr>\n",
       "      <th>2021-09-11</th>\n",
       "      <td>2021-09-11</td>\n",
       "      <td>44869.839844</td>\n",
       "      <td>45969.292969</td>\n",
       "      <td>44818.265625</td>\n",
       "      <td>45201.457031</td>\n",
       "      <td>45201.457031</td>\n",
       "      <td>34499835245</td>\n",
       "    </tr>\n",
       "    <tr>\n",
       "      <th>2021-09-12</th>\n",
       "      <td>2021-09-12</td>\n",
       "      <td>45206.628906</td>\n",
       "      <td>46364.878906</td>\n",
       "      <td>44790.460938</td>\n",
       "      <td>46063.269531</td>\n",
       "      <td>46063.269531</td>\n",
       "      <td>27881980161</td>\n",
       "    </tr>\n",
       "    <tr>\n",
       "      <th>2021-09-13</th>\n",
       "      <td>2021-09-13</td>\n",
       "      <td>46057.214844</td>\n",
       "      <td>46598.679688</td>\n",
       "      <td>43591.320313</td>\n",
       "      <td>44963.074219</td>\n",
       "      <td>44963.074219</td>\n",
       "      <td>40969943253</td>\n",
       "    </tr>\n",
       "    <tr>\n",
       "      <th>2021-09-14</th>\n",
       "      <td>2021-09-14</td>\n",
       "      <td>44860.273438</td>\n",
       "      <td>46791.710938</td>\n",
       "      <td>44860.273438</td>\n",
       "      <td>46746.496094</td>\n",
       "      <td>46746.496094</td>\n",
       "      <td>38414983168</td>\n",
       "    </tr>\n",
       "  </tbody>\n",
       "</table>\n",
       "<p>185 rows × 7 columns</p>\n",
       "</div>"
      ],
      "text/plain": [
       "                  Date          Open  ...     Adj Close       Volume\n",
       "2021-03-14  2021-03-14  61221.132813  ...  59302.316406  43901225564\n",
       "2021-03-15  2021-03-15  59267.429688  ...  55907.199219  66419369890\n",
       "2021-03-16  2021-03-16  55840.785156  ...  56804.902344  59749798599\n",
       "2021-03-17  2021-03-17  56825.828125  ...  58870.894531  60258313191\n",
       "2021-03-18  2021-03-18  58893.078125  ...  57858.921875  55746041000\n",
       "...                ...           ...  ...           ...          ...\n",
       "2021-09-10  2021-09-10  46396.664063  ...  44883.910156  39154666597\n",
       "2021-09-11  2021-09-11  44869.839844  ...  45201.457031  34499835245\n",
       "2021-09-12  2021-09-12  45206.628906  ...  46063.269531  27881980161\n",
       "2021-09-13  2021-09-13  46057.214844  ...  44963.074219  40969943253\n",
       "2021-09-14  2021-09-14  44860.273438  ...  46746.496094  38414983168\n",
       "\n",
       "[185 rows x 7 columns]"
      ]
     },
     "execution_count": 21,
     "metadata": {},
     "output_type": "execute_result"
    }
   ],
   "source": [
    "# Set the index to the date column\n",
    "df = df.set_index(pd.DatetimeIndex(df['Date'].values))\n",
    "\n",
    "# Show the data\n",
    "df"
   ]
  },
  {
   "cell_type": "code",
   "execution_count": null,
   "metadata": {
    "colab": {
     "base_uri": "https://localhost:8080/",
     "height": 391
    },
    "id": "vcz3r_vh2mkI",
    "outputId": "20553060-7a50-48eb-c52b-d25c3c1e53e8"
   },
   "outputs": [
    {
     "data": {
      "image/png": "[encoded data removed]",
      "text/plain": [
       "<Figure size 878.4x324 with 1 Axes>"
      ]
     },
     "metadata": {},
     "output_type": "display_data"
    }
   ],
   "source": [
    "# Plot the close price\n",
    "plt.figure(figsize=(12.2, 4.5))\n",
    "plt.plot(df['Close'], label='Close')\n",
    "plt.xticks(rotation=45)\n",
    "plt.title('BTC price')\n",
    "plt.xlabel('Date')\n",
    "plt.ylabel('Price in USD')\n",
    "plt.show()"
   ]
  },
  {
   "cell_type": "code",
   "execution_count": null,
   "metadata": {
    "colab": {
     "base_uri": "https://localhost:8080/"
    },
    "id": "ZWqGEZD-2oXd",
    "outputId": "8527ff55-5942-4400-98fa-00cbc0f94d8c"
   },
   "outputs": [
    {
     "data": {
      "text/plain": [
       "2021-03-14    60067.516927\n",
       "2021-03-15    57280.451823\n",
       "2021-03-16    55731.036459\n",
       "2021-03-17    57456.446614\n",
       "2021-03-18    57409.583333\n",
       "                  ...     \n",
       "2021-09-10    45420.045573\n",
       "2021-09-11    45329.671875\n",
       "2021-09-12    45739.536458\n",
       "2021-09-13    45051.024740\n",
       "2021-09-14    46132.826823\n",
       "Length: 185, dtype: float64"
      ]
     },
     "execution_count": 23,
     "metadata": {},
     "output_type": "execute_result"
    }
   ],
   "source": [
    "# Calculate Typical price\n",
    "typical_price = (df['Close'] + df['High'] + df['Low'])/3\n",
    "typical_price"
   ]
  },
  {
   "cell_type": "code",
   "execution_count": null,
   "metadata": {
    "id": "pj61iU7l2_BD"
   },
   "outputs": [],
   "source": [
    "# Get the period\n",
    "period = 14"
   ]
  },
  {
   "cell_type": "code",
   "execution_count": null,
   "metadata": {
    "colab": {
     "base_uri": "https://localhost:8080/"
    },
    "id": "mu-JoCge3HWO",
    "outputId": "2744e63b-935d-41c2-b796-b5590eac68b6"
   },
   "outputs": [
    {
     "data": {
      "text/plain": [
       "2021-03-14    2.637038e+15\n",
       "2021-03-15    3.804532e+15\n",
       "2021-03-16    3.329918e+15\n",
       "2021-03-17    3.462229e+15\n",
       "2021-03-18    3.200357e+15\n",
       "                  ...     \n",
       "2021-09-10    1.778407e+15\n",
       "2021-09-11    1.563866e+15\n",
       "2021-09-12    1.275309e+15\n",
       "2021-09-13    1.845738e+15\n",
       "2021-09-14    1.772192e+15\n",
       "Length: 185, dtype: float64"
      ]
     },
     "execution_count": 25,
     "metadata": {},
     "output_type": "execute_result"
    }
   ],
   "source": [
    "# Calculate money flow\n",
    "money_flow = typical_price * df['Volume']\n",
    "money_flow"
   ]
  },
  {
   "cell_type": "code",
   "execution_count": null,
   "metadata": {
    "id": "ejGOWfz83PK8"
   },
   "outputs": [],
   "source": [
    "# Get all the positive and negative money flows\n",
    "positive_flow = []\n",
    "negative_flow = []\n",
    "\n",
    "# Loop though the typical price\n",
    "for i in range (1, len(typical_price)):\n",
    "  if typical_price[i] > typical_price[i-1]:\n",
    "    positive_flow.append(money_flow[i-1])\n",
    "    negative_flow.append(0)\n",
    "  elif typical_price[i] < typical_price[i-1]:\n",
    "    negative_flow.append(money_flow[i-1])\n",
    "    positive_flow.append(0)\n",
    "  else:\n",
    "    positive_flow.append(0)\n",
    "    negative_flow.append(0)\n",
    "    "
   ]
  },
  {
   "cell_type": "code",
   "execution_count": null,
   "metadata": {
    "id": "wKs1-k3h3_Yr"
   },
   "outputs": [],
   "source": [
    "# get all of the positive and negative money flows within the time period\n",
    "positive_mf = []\n",
    "negative_mf = []\n",
    "\n",
    "for i in range(period-1, len(positive_flow)):\n",
    "  positive_mf.append( sum(positive_flow[i + 1 - period : i+1]) )\n",
    "for i in range(period-1, len(negative_flow)):\n",
    "  negative_mf.append( sum(negative_flow[i + 1 - period : i+1]) )"
   ]
  },
  {
   "cell_type": "code",
   "execution_count": null,
   "metadata": {
    "colab": {
     "base_uri": "https://localhost:8080/"
    },
    "id": "ZTU40Bfa4yJu",
    "outputId": "657bc0be-de55-4c04-b76f-e9f54241009f"
   },
   "outputs": [
    {
     "data": {
      "text/plain": [
       "array([41.78766341, 47.74351269, 55.7724827 , 55.62677711, 63.84076362,\n",
       "       64.19811166, 57.00014274, 56.35233887, 62.83326897, 62.25944803,\n",
       "       61.23846563, 69.66923147, 69.35743333, 69.1376064 , 69.68872231,\n",
       "       69.76286782, 69.65678812, 70.3920029 , 61.16854422, 53.62240732,\n",
       "       51.84234734, 51.28357805, 43.47847652, 43.41790385, 43.48436909,\n",
       "       36.49732148, 30.29206805, 24.54589684, 18.6791377 , 17.8926928 ,\n",
       "       17.7883769 , 15.19062384, 15.86919677, 21.35459802, 28.68117696,\n",
       "       29.67825455, 37.23856704, 37.84632942, 46.96313494, 55.22042013,\n",
       "       64.57898791, 74.66930627, 72.29289132, 64.69138568, 56.56799021,\n",
       "       49.83581879, 48.49687112, 50.86971141, 45.10123943, 44.77156405,\n",
       "       39.78317487, 39.52930485, 33.0544824 , 34.1105223 , 26.5815151 ,\n",
       "       19.11980991, 19.79285368, 26.09876822, 32.59513878, 38.45044854,\n",
       "       40.18839995, 31.12058051, 31.7563945 , 37.15017941, 42.32880861,\n",
       "       49.02671474, 54.83380048, 49.3544735 , 53.30797772, 56.60196922,\n",
       "       58.5808984 , 50.78597518, 41.97991572, 40.52943863, 50.2115568 ,\n",
       "       58.3146256 , 60.03368221, 59.56107713, 60.41961132, 61.02265037,\n",
       "       53.1190735 , 46.52248065, 46.40845394, 46.94527693, 47.36676834,\n",
       "       46.80486963, 45.56187077, 46.11514848, 45.14695842, 38.47255387,\n",
       "       38.67847383, 38.26409837, 37.24261938, 35.47643245, 36.45466278,\n",
       "       37.10269382, 37.38404931, 44.36526266, 49.57115587, 50.69343509,\n",
       "       58.42596397, 50.39422071, 42.703762  , 49.50338504, 56.94636275,\n",
       "       55.6152932 , 49.1054962 , 41.82837379, 44.15637347, 45.92684389,\n",
       "       48.24148234, 39.1042291 , 37.78037336, 38.76090995, 31.11337839,\n",
       "       38.51221871, 46.95177842, 45.05811111, 44.10556106, 43.91060328,\n",
       "       51.12639758, 63.53888033, 71.17465731, 78.69132751, 84.64659298,\n",
       "       90.87502335, 83.50354963, 80.68700095, 78.65196995, 79.09414793,\n",
       "       79.237376  , 80.23850932, 81.24375524, 82.312538  , 83.13584705,\n",
       "       82.97990572, 83.1452526 , 74.81397513, 75.37066421, 75.53053504,\n",
       "       74.01928115, 72.69634514, 70.87966473, 64.4023668 , 65.15597772,\n",
       "       65.63877608, 65.75672595, 66.10811363, 65.5518307 , 57.67033585,\n",
       "       58.01867704, 58.0017878 , 58.08103815, 58.42510681, 58.62002036,\n",
       "       59.10665619, 59.13094831, 66.23848485, 66.89067772, 67.24780356,\n",
       "       67.90995195, 67.75226199, 68.1716194 , 67.24821251, 56.71730123,\n",
       "       63.96415518, 57.41299493, 50.81220974, 56.42189274, 56.39644725,\n",
       "       62.61434949])"
      ]
     },
     "execution_count": 28,
     "metadata": {},
     "output_type": "execute_result"
    }
   ],
   "source": [
    "# Calculate the money flow index\n",
    "mfi = 100 * (np.array(positive_mf) / (np.array(positive_mf) + (np.array(negative_mf)) ))\n",
    "mfi"
   ]
  },
  {
   "cell_type": "code",
   "execution_count": null,
   "metadata": {
    "colab": {
     "base_uri": "https://localhost:8080/",
     "height": 351
    },
    "id": "OqM_nwDW6PSW",
    "outputId": "85953924-e0cd-4ee9-ac4c-17a1f03ca8c7"
   },
   "outputs": [
    {
     "data": {
      "text/plain": [
       "<matplotlib.legend.Legend at 0x7f6ae3c7b210>"
      ]
     },
     "execution_count": 29,
     "metadata": {},
     "output_type": "execute_result"
    },
    {
     "data": {
      "image/png": "[encoded data removed]",
      "text/plain": [
       "<Figure size 878.4x324 with 1 Axes>"
      ]
     },
     "metadata": {},
     "output_type": "display_data"
    }
   ],
   "source": [
    "# Visually plot the MFI\n",
    "df2 = pd.DataFrame()\n",
    "df2['MFI'] = mfi\n",
    "\n",
    "#Create plot\n",
    "plt.figure(figsize=(12.2, 4.5))\n",
    "plt.plot(df2['MFI'], label='MFI')\n",
    "plt.axhline(10, linestyle='--', color='orange', linewidth=1.5)\n",
    "plt.axhline(20, linestyle='--', color='blue', linewidth=1.5)\n",
    "plt.axhline(80, linestyle='--', color='blue', linewidth=1.5)\n",
    "plt.axhline(90, linestyle='--', color='orange', linewidth=1.5)\n",
    "plt.title('MFI')\n",
    "plt.legend(df.columns.values, loc='upper left')"
   ]
  },
  {
   "cell_type": "code",
   "execution_count": null,
   "metadata": {
    "colab": {
     "base_uri": "https://localhost:8080/",
     "height": 556
    },
    "id": "OYNogNJl8Bd9",
    "outputId": "b6501b21-63a5-4fe5-b42c-474b5e6bc16f"
   },
   "outputs": [
    {
     "name": "stderr",
     "output_type": "stream",
     "text": [
      "/usr/local/lib/python3.7/dist-packages/ipykernel_launcher.py:4: SettingWithCopyWarning: \n",
      "A value is trying to be set on a copy of a slice from a DataFrame.\n",
      "Try using .loc[row_indexer,col_indexer] = value instead\n",
      "\n",
      "See the caveats in the documentation: https://pandas.pydata.org/pandas-docs/stable/user_guide/indexing.html#returning-a-view-versus-a-copy\n",
      "  after removing the cwd from sys.path.\n"
     ]
    },
    {
     "data": {
      "text/html": [
       "<div>\n",
       "<style scoped>\n",
       "    .dataframe tbody tr th:only-of-type {\n",
       "        vertical-align: middle;\n",
       "    }\n",
       "\n",
       "    .dataframe tbody tr th {\n",
       "        vertical-align: top;\n",
       "    }\n",
       "\n",
       "    .dataframe thead th {\n",
       "        text-align: right;\n",
       "    }\n",
       "</style>\n",
       "<table border=\"1\" class=\"dataframe\">\n",
       "  <thead>\n",
       "    <tr style=\"text-align: right;\">\n",
       "      <th></th>\n",
       "      <th>Date</th>\n",
       "      <th>Open</th>\n",
       "      <th>High</th>\n",
       "      <th>Low</th>\n",
       "      <th>Close</th>\n",
       "      <th>Adj Close</th>\n",
       "      <th>Volume</th>\n",
       "      <th>MFI</th>\n",
       "    </tr>\n",
       "  </thead>\n",
       "  <tbody>\n",
       "    <tr>\n",
       "      <th>2021-03-28</th>\n",
       "      <td>2021-03-28</td>\n",
       "      <td>55974.941406</td>\n",
       "      <td>56610.312500</td>\n",
       "      <td>55071.113281</td>\n",
       "      <td>55950.746094</td>\n",
       "      <td>55950.746094</td>\n",
       "      <td>47686580918</td>\n",
       "      <td>41.787663</td>\n",
       "    </tr>\n",
       "    <tr>\n",
       "      <th>2021-03-29</th>\n",
       "      <td>2021-03-29</td>\n",
       "      <td>55947.898438</td>\n",
       "      <td>58342.097656</td>\n",
       "      <td>55139.339844</td>\n",
       "      <td>57750.199219</td>\n",
       "      <td>57750.199219</td>\n",
       "      <td>57625587027</td>\n",
       "      <td>47.743513</td>\n",
       "    </tr>\n",
       "    <tr>\n",
       "      <th>2021-03-30</th>\n",
       "      <td>2021-03-30</td>\n",
       "      <td>57750.132813</td>\n",
       "      <td>59447.222656</td>\n",
       "      <td>57251.550781</td>\n",
       "      <td>58917.691406</td>\n",
       "      <td>58917.691406</td>\n",
       "      <td>54414116432</td>\n",
       "      <td>55.772483</td>\n",
       "    </tr>\n",
       "    <tr>\n",
       "      <th>2021-03-31</th>\n",
       "      <td>2021-03-31</td>\n",
       "      <td>58930.277344</td>\n",
       "      <td>59930.027344</td>\n",
       "      <td>57726.417969</td>\n",
       "      <td>58918.832031</td>\n",
       "      <td>58918.832031</td>\n",
       "      <td>65520826225</td>\n",
       "      <td>55.626777</td>\n",
       "    </tr>\n",
       "    <tr>\n",
       "      <th>2021-04-01</th>\n",
       "      <td>2021-04-01</td>\n",
       "      <td>58926.562500</td>\n",
       "      <td>59586.070313</td>\n",
       "      <td>58505.277344</td>\n",
       "      <td>59095.808594</td>\n",
       "      <td>59095.808594</td>\n",
       "      <td>61669163792</td>\n",
       "      <td>63.840764</td>\n",
       "    </tr>\n",
       "    <tr>\n",
       "      <th>...</th>\n",
       "      <td>...</td>\n",
       "      <td>...</td>\n",
       "      <td>...</td>\n",
       "      <td>...</td>\n",
       "      <td>...</td>\n",
       "      <td>...</td>\n",
       "      <td>...</td>\n",
       "      <td>...</td>\n",
       "    </tr>\n",
       "    <tr>\n",
       "      <th>2021-09-10</th>\n",
       "      <td>2021-09-10</td>\n",
       "      <td>46396.664063</td>\n",
       "      <td>47031.742188</td>\n",
       "      <td>44344.484375</td>\n",
       "      <td>44883.910156</td>\n",
       "      <td>44883.910156</td>\n",
       "      <td>39154666597</td>\n",
       "      <td>57.412995</td>\n",
       "    </tr>\n",
       "    <tr>\n",
       "      <th>2021-09-11</th>\n",
       "      <td>2021-09-11</td>\n",
       "      <td>44869.839844</td>\n",
       "      <td>45969.292969</td>\n",
       "      <td>44818.265625</td>\n",
       "      <td>45201.457031</td>\n",
       "      <td>45201.457031</td>\n",
       "      <td>34499835245</td>\n",
       "      <td>50.812210</td>\n",
       "    </tr>\n",
       "    <tr>\n",
       "      <th>2021-09-12</th>\n",
       "      <td>2021-09-12</td>\n",
       "      <td>45206.628906</td>\n",
       "      <td>46364.878906</td>\n",
       "      <td>44790.460938</td>\n",
       "      <td>46063.269531</td>\n",
       "      <td>46063.269531</td>\n",
       "      <td>27881980161</td>\n",
       "      <td>56.421893</td>\n",
       "    </tr>\n",
       "    <tr>\n",
       "      <th>2021-09-13</th>\n",
       "      <td>2021-09-13</td>\n",
       "      <td>46057.214844</td>\n",
       "      <td>46598.679688</td>\n",
       "      <td>43591.320313</td>\n",
       "      <td>44963.074219</td>\n",
       "      <td>44963.074219</td>\n",
       "      <td>40969943253</td>\n",
       "      <td>56.396447</td>\n",
       "    </tr>\n",
       "    <tr>\n",
       "      <th>2021-09-14</th>\n",
       "      <td>2021-09-14</td>\n",
       "      <td>44860.273438</td>\n",
       "      <td>46791.710938</td>\n",
       "      <td>44860.273438</td>\n",
       "      <td>46746.496094</td>\n",
       "      <td>46746.496094</td>\n",
       "      <td>38414983168</td>\n",
       "      <td>62.614349</td>\n",
       "    </tr>\n",
       "  </tbody>\n",
       "</table>\n",
       "<p>171 rows × 8 columns</p>\n",
       "</div>"
      ],
      "text/plain": [
       "                  Date          Open  ...       Volume        MFI\n",
       "2021-03-28  2021-03-28  55974.941406  ...  47686580918  41.787663\n",
       "2021-03-29  2021-03-29  55947.898438  ...  57625587027  47.743513\n",
       "2021-03-30  2021-03-30  57750.132813  ...  54414116432  55.772483\n",
       "2021-03-31  2021-03-31  58930.277344  ...  65520826225  55.626777\n",
       "2021-04-01  2021-04-01  58926.562500  ...  61669163792  63.840764\n",
       "...                ...           ...  ...          ...        ...\n",
       "2021-09-10  2021-09-10  46396.664063  ...  39154666597  57.412995\n",
       "2021-09-11  2021-09-11  44869.839844  ...  34499835245  50.812210\n",
       "2021-09-12  2021-09-12  45206.628906  ...  27881980161  56.421893\n",
       "2021-09-13  2021-09-13  46057.214844  ...  40969943253  56.396447\n",
       "2021-09-14  2021-09-14  44860.273438  ...  38414983168  62.614349\n",
       "\n",
       "[171 rows x 8 columns]"
      ]
     },
     "execution_count": 31,
     "metadata": {},
     "output_type": "execute_result"
    }
   ],
   "source": [
    "# Create new dataframe\n",
    "new_df = pd.DataFrame()\n",
    "new_df = df[period:]\n",
    "new_df['MFI'] = mfi\n",
    "new_df"
   ]
  },
  {
   "cell_type": "code",
   "execution_count": null,
   "metadata": {
    "id": "khFNVqqtQAg-"
   },
   "outputs": [],
   "source": [
    "# Create function for buy/sell signals\n",
    "# def get_signal(data, high, low):\n",
    "#   buy_signal = []\n",
    "#   sell_signal = []\n",
    "\n",
    "#   for i in range(0,len(data['MFI'])):\n",
    "#     if data['MFI'][i] > high:\n",
    "#       buy_signal.append(np.nan)\n",
    "#       sell_signal.append(data['Close'][i])\n",
    "#     elif data['MFI'][i] < low:\n",
    "#       buy_signal.append(data['Close'][i])\n",
    "#       sell_signal.append(np.nan)\n",
    "#     else:\n",
    "#       buy_signal.append(np.nan)\n",
    "#       sell_signal.append(np.nan)\n",
    "\n",
    "#     return(buy_signal, sell_signal)\n",
    "\n",
    "def get_signal(data, high, low):\n",
    "  buy_signal = []\n",
    "  sell_signal = []\n",
    "\n",
    "  for i in range(len(data['MFI'])):\n",
    "    if data['MFI'][i] > high:\n",
    "      buy_signal.append(np.nan)\n",
    "      sell_signal.append(data['Close'][i])\n",
    "    elif data['MFI'][i] < low:\n",
    "      buy_signal.append(data['Close'][i])\n",
    "      sell_signal.append(np.nan)\n",
    "    else:\n",
    "      buy_signal.append(np.nan)\n",
    "      sell_signal.append(np.nan)\n",
    "    # print(buy_signal, sell_signal)\n",
    " \n",
    "    "
   ]
  },
  {
   "cell_type": "code",
   "execution_count": null,
   "metadata": {
    "colab": {
     "base_uri": "https://localhost:8080/",
     "height": 249
    },
    "id": "a9_elEqPSfcS",
    "outputId": "e4cd651c-aede-4173-f76b-af317422f18e"
   },
   "outputs": [
    {
     "ename": "TypeError",
     "evalue": "ignored",
     "output_type": "error",
     "traceback": [
      "\u001b[0;31m---------------------------------------------------------------------------\u001b[0m",
      "\u001b[0;31mTypeError\u001b[0m                                 Traceback (most recent call last)",
      "\u001b[0;32m<ipython-input-55-dbd937fd1a61>\u001b[0m in \u001b[0;36m<module>\u001b[0;34m()\u001b[0m\n\u001b[1;32m      1\u001b[0m \u001b[0;31m# Add new colums (Buy & Sell).\u001b[0m\u001b[0;34m\u001b[0m\u001b[0;34m\u001b[0m\u001b[0;34m\u001b[0m\u001b[0m\n\u001b[1;32m      2\u001b[0m \u001b[0;31m# Enter dataframe, high level and low level into function.\u001b[0m\u001b[0;34m\u001b[0m\u001b[0;34m\u001b[0m\u001b[0;34m\u001b[0m\u001b[0m\n\u001b[0;32m----> 3\u001b[0;31m \u001b[0mnew_df\u001b[0m\u001b[0;34m[\u001b[0m\u001b[0;34m'Buy'\u001b[0m\u001b[0;34m]\u001b[0m \u001b[0;34m=\u001b[0m \u001b[0mget_signal\u001b[0m\u001b[0;34m(\u001b[0m\u001b[0mnew_df\u001b[0m\u001b[0;34m,\u001b[0m \u001b[0;36m80\u001b[0m\u001b[0;34m,\u001b[0m \u001b[0;36m20\u001b[0m\u001b[0;34m)\u001b[0m\u001b[0;34m[\u001b[0m\u001b[0;36m0\u001b[0m\u001b[0;34m]\u001b[0m\u001b[0;34m\u001b[0m\u001b[0;34m\u001b[0m\u001b[0m\n\u001b[0m\u001b[1;32m      4\u001b[0m \u001b[0;31m# new_df['Sell'] = get_signal(new_df, 80, 20)\u001b[0m\u001b[0;34m\u001b[0m\u001b[0;34m\u001b[0m\u001b[0;34m\u001b[0m\u001b[0m\n\u001b[1;32m      5\u001b[0m \u001b[0;34m\u001b[0m\u001b[0m\n",
      "\u001b[0;31mTypeError\u001b[0m: 'NoneType' object is not subscriptable"
     ]
    }
   ],
   "source": [
    "# Add new colums (Buy & Sell). \n",
    "# Enter dataframe, high level and low level into function.\n",
    "new_df['Buy'] = get_signal(new_df, 80, 20)[0]\n",
    "# new_df['Sell'] = get_signal(new_df, 80, 20)\n",
    "\n",
    "# Show the data\n",
    "# new_df"
   ]
  },
  {
   "cell_type": "code",
   "execution_count": null,
   "metadata": {
    "id": "v-1ZJzTiTCDU"
   },
   "outputs": [],
   "source": []
  }
 ],
 "metadata": {
  "colab": {
   "collapsed_sections": [],
   "name": "MFI-trading-strategy-in-COLAB",
   "provenance": []
  },
  "kernelspec": {
   "display_name": "Python 3",
   "language": "python",
   "name": "python3"
  },
  "language_info": {
   "codemirror_mode": {
    "name": "ipython",
    "version": 3
   },
   "file_extension": ".py",
   "mimetype": "text/x-python",
   "name": "python",
   "nbconvert_exporter": "python",
   "pygments_lexer": "ipython3",
   "version": "3.8.10"
  }
 },
 "nbformat": 4,
 "nbformat_minor": 1
}
