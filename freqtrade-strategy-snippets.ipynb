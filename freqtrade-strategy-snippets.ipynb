{
 "cells": [
  {
   "cell_type": "markdown",
   "metadata": {},
   "source": [
    "# Freqtrade strategy snippets for better strategies"
   ]
  },
  {
   "cell_type": "markdown",
   "metadata": {},
   "source": [
    "## De volledige strategie uitgeschreven:\n",
    "\n",
    "Timeframe: 2hr of hoger (afhankelijk van backtest resultaten)\n",
    "\n",
    "### Instapsignaal\n",
    "\n",
    "* Closeprice > Keltnerchannel upper band &\n",
    "* Closeproce > highest close van de afgelopen 20 candles &\n",
    "* MACD lijn > Signallijn &\n",
    "* Slow stochastic > 50\n",
    "\n",
    "### Take profit\n",
    "\n",
    "* Take profit prijs is de highest low koers van de laatste retracement (10 candles daarvoor). Met andere woorden, onder normale omstandigheden stijgt de prijs met kleine retracements (AB-BC-CD patroon). Als de koers echter onder de laagste retracement sluit (punt C sluit onder punt A), dan is volgens deze strategie de verwachting dat er ook lower highs zullen komen. Met andere woorden een reversal.\n",
    "\n",
    "### Initial stoploss\n",
    "\n",
    "* 4% initial stol-loss als de trade ogenblikkelijk tegen ons keert of als we met de strategie te hoog zijn ingestapt (ivm voldoen aan condities).\n",
    "\n",
    "### Trailing stoploss\n",
    "\n"
   ]
  },
  {
   "cell_type": "markdown",
   "metadata": {},
   "source": [
    "## Basic dataframe configuration and prerequisites"
   ]
  },
  {
   "cell_type": "code",
   "execution_count": 2,
   "metadata": {},
   "outputs": [],
   "source": [
    "# Import necessary libraries\n",
    "import pandas as pd\n",
    "from freqtrade.strategy.interface import IStrategy\n",
    "from pandas import DataFrame\n",
    "import talib.abstract as ta\n",
    "import freqtrade.vendor.qtpylib.indicators as qtpylib\n",
    "from scipy.spatial.distance import cosine\n",
    "import numpy as np"
   ]
  },
  {
   "cell_type": "code",
   "execution_count": 23,
   "metadata": {},
   "outputs": [
    {
     "data": {
      "text/html": [
       "<div>\n",
       "<style scoped>\n",
       "    .dataframe tbody tr th:only-of-type {\n",
       "        vertical-align: middle;\n",
       "    }\n",
       "\n",
       "    .dataframe tbody tr th {\n",
       "        vertical-align: top;\n",
       "    }\n",
       "\n",
       "    .dataframe thead th {\n",
       "        text-align: right;\n",
       "    }\n",
       "</style>\n",
       "<table border=\"1\" class=\"dataframe\">\n",
       "  <thead>\n",
       "    <tr style=\"text-align: right;\">\n",
       "      <th></th>\n",
       "      <th>date</th>\n",
       "      <th>open</th>\n",
       "      <th>high</th>\n",
       "      <th>low</th>\n",
       "      <th>close</th>\n",
       "      <th>volume</th>\n",
       "    </tr>\n",
       "  </thead>\n",
       "  <tbody>\n",
       "    <tr>\n",
       "      <th>0</th>\n",
       "      <td>2017-08-17 04:00:00</td>\n",
       "      <td>4261.48</td>\n",
       "      <td>4328.69</td>\n",
       "      <td>4261.32</td>\n",
       "      <td>4315.32</td>\n",
       "      <td>70.415925</td>\n",
       "    </tr>\n",
       "    <tr>\n",
       "      <th>1</th>\n",
       "      <td>2017-08-17 06:00:00</td>\n",
       "      <td>4330.29</td>\n",
       "      <td>4349.99</td>\n",
       "      <td>4287.41</td>\n",
       "      <td>4349.99</td>\n",
       "      <td>11.672940</td>\n",
       "    </tr>\n",
       "    <tr>\n",
       "      <th>2</th>\n",
       "      <td>2017-08-17 08:00:00</td>\n",
       "      <td>4333.32</td>\n",
       "      <td>4445.78</td>\n",
       "      <td>4333.32</td>\n",
       "      <td>4444.00</td>\n",
       "      <td>11.736430</td>\n",
       "    </tr>\n",
       "    <tr>\n",
       "      <th>3</th>\n",
       "      <td>2017-08-17 10:00:00</td>\n",
       "      <td>4441.10</td>\n",
       "      <td>4485.39</td>\n",
       "      <td>4399.81</td>\n",
       "      <td>4427.30</td>\n",
       "      <td>51.883452</td>\n",
       "    </tr>\n",
       "    <tr>\n",
       "      <th>4</th>\n",
       "      <td>2017-08-17 12:00:00</td>\n",
       "      <td>4436.06</td>\n",
       "      <td>4459.00</td>\n",
       "      <td>4411.00</td>\n",
       "      <td>4459.00</td>\n",
       "      <td>54.344834</td>\n",
       "    </tr>\n",
       "  </tbody>\n",
       "</table>\n",
       "</div>"
      ],
      "text/plain": [
       "                 date     open     high      low    close     volume\n",
       "0 2017-08-17 04:00:00  4261.48  4328.69  4261.32  4315.32  70.415925\n",
       "1 2017-08-17 06:00:00  4330.29  4349.99  4287.41  4349.99  11.672940\n",
       "2 2017-08-17 08:00:00  4333.32  4445.78  4333.32  4444.00  11.736430\n",
       "3 2017-08-17 10:00:00  4441.10  4485.39  4399.81  4427.30  51.883452\n",
       "4 2017-08-17 12:00:00  4436.06  4459.00  4411.00  4459.00  54.344834"
      ]
     },
     "execution_count": 23,
     "metadata": {},
     "output_type": "execute_result"
    }
   ],
   "source": [
    "# Import data for analysis and name columns\n",
    "df = pd.read_json(\"BTC_USDT-2h.json\")\n",
    "df.columns=['date','open','high','low','close','volume']\n",
    "df['date']=(pd.to_datetime(df['date'],unit='ms'))\n",
    "df.head(5)"
   ]
  },
  {
   "cell_type": "markdown",
   "metadata": {},
   "source": [
    "### Simple moving average and RSI"
   ]
  },
  {
   "cell_type": "code",
   "execution_count": 49,
   "metadata": {},
   "outputs": [
    {
     "name": "stdout",
     "output_type": "stream",
     "text": [
      "                     date     close       low           sma        rsi\n",
      "15889 2021-04-06 06:00:00  58576.59  58349.00  58228.831429  51.095218\n",
      "15890 2021-04-06 08:00:00  58685.53  58300.00  58265.375238  53.840781\n",
      "15891 2021-04-06 10:00:00  58541.34  58325.08  58282.628095  49.545616\n",
      "15892 2021-04-06 12:00:00  58414.29  58342.00  58304.553333  45.790445\n",
      "15893 2021-04-06 14:00:00  57818.53  57413.02  58290.355238  32.369044\n",
      "15894 2021-04-06 16:00:00  58247.17  57722.23  58292.505714  45.722926\n",
      "15895 2021-04-06 18:00:00  58225.00  57996.00  58313.320952  45.184567\n",
      "15896 2021-04-06 20:00:00  57860.63  57555.00  58332.059524  36.862263\n",
      "15897 2021-04-06 22:00:00  57991.15  57483.71  58384.140476  41.374783\n",
      "15898 2021-04-07 00:00:00  57510.84  57161.86  58396.561429  31.660012\n",
      "15899 2021-04-07 02:00:00  57922.75  57475.86  58414.828095  44.660498\n",
      "15900 2021-04-07 04:00:00  58285.99  57268.00  58440.048571  53.718462\n",
      "15901 2021-04-07 06:00:00  57850.57  57420.00  58427.549048  43.712432\n",
      "15902 2021-04-07 08:00:00  57466.61  57000.00  58353.659524  36.682901\n",
      "15903 2021-04-07 10:00:00  56320.47  55700.00  58228.224762  23.514062\n",
      "15904 2021-04-07 12:00:00  56756.66  55612.00  58121.151429  34.029313\n",
      "15905 2021-04-07 14:00:00  56451.45  56275.00  58015.790000  30.595580\n",
      "15906 2021-04-07 16:00:00  56050.54  55972.33  57869.149524  26.498049\n",
      "15907 2021-04-07 18:00:00  56153.83  55473.00  57743.140952  29.342384\n",
      "15908 2021-04-07 20:00:00  56205.73  55717.15  57628.713810  30.909693\n",
      "15909 2021-04-07 22:00:00  55953.45  55865.11  57489.958095  27.455918\n",
      "15910 2021-04-08 00:00:00  56504.14  55700.00  57391.270000  43.526028\n",
      "15911 2021-04-08 02:00:00  56540.62  56200.30  57289.131429  44.476605\n",
      "15912 2021-04-08 04:00:00  56871.90  56529.78  57209.634286  52.879617\n",
      "15913 2021-04-08 06:00:00  57025.71  56841.85  57143.511429  56.449760\n"
     ]
    }
   ],
   "source": [
    "df['sma'] = ta.SMA(df, timeperiod=21)\n",
    "df['rsi'] = ta.RSI(df, timeperiod=7)\n",
    "print(df[['date','close', 'low','sma','rsi']].tail(25))"
   ]
  },
  {
   "cell_type": "markdown",
   "metadata": {},
   "source": [
    "### MACD"
   ]
  },
  {
   "cell_type": "code",
   "execution_count": 25,
   "metadata": {},
   "outputs": [],
   "source": [
    "macd = ta.MACD(\n",
    "    df,\n",
    "    fastperiod=12,\n",
    "    fastmatype=0,\n",
    "    slowperiod=26,\n",
    "    slowmatype=0,\n",
    "    signalperiod=9,\n",
    "    signalmatype=0,\n",
    "    )\n",
    "df[\"macd\"] = macd[\"macd\"]\n",
    "df[\"macdsignal\"] = macd[\"macdsignal\"]\n",
    "df[\"macdhist\"] = macd[\"macdhist\"]"
   ]
  },
  {
   "cell_type": "code",
   "execution_count": 26,
   "metadata": {},
   "outputs": [
    {
     "name": "stdout",
     "output_type": "stream",
     "text": [
      "                     date     close           sma        rsi        macd  \\\n",
      "15909 2021-04-07 22:00:00  55953.45  57489.958095  27.455918 -582.374709   \n",
      "15910 2021-04-08 00:00:00  56504.14  57391.270000  43.526028 -560.012995   \n",
      "15911 2021-04-08 02:00:00  56540.62  57289.131429  44.476605 -533.201133   \n",
      "15912 2021-04-08 04:00:00  56871.90  57209.634286  52.879617 -479.691427   \n",
      "15913 2021-04-08 06:00:00  57025.71  57143.511429  56.449760 -420.031556   \n",
      "\n",
      "       macdsignal    macdhist  \n",
      "15909 -397.666064 -184.708645  \n",
      "15910 -430.135450 -129.877544  \n",
      "15911 -450.748587  -82.452546  \n",
      "15912 -456.537155  -23.154272  \n",
      "15913 -449.236035   29.204479  \n"
     ]
    }
   ],
   "source": [
    "print(df[['date','close', 'sma','rsi','macd','macdsignal','macdhist']].tail(5))"
   ]
  },
  {
   "cell_type": "markdown",
   "metadata": {},
   "source": [
    "### Slow Stochastic"
   ]
  },
  {
   "cell_type": "code",
   "execution_count": 27,
   "metadata": {},
   "outputs": [
    {
     "name": "stdout",
     "output_type": "stream",
     "text": [
      "                     date     close      slowd      slowk\n",
      "15909 2021-04-07 22:00:00  55953.45  19.884135  19.840876\n",
      "15910 2021-04-08 00:00:00  56504.14  20.987715  23.510580\n",
      "15911 2021-04-08 02:00:00  56540.62  23.456736  27.018751\n",
      "15912 2021-04-08 04:00:00  56871.90  29.056463  36.640059\n",
      "15913 2021-04-08 06:00:00  57025.71  35.254208  42.103813\n"
     ]
    }
   ],
   "source": [
    "stoch = ta.STOCH(\n",
    "    df,\n",
    "    fastk_period=14,\n",
    "    slowk_period=3,\n",
    "    slowk_matype=0,\n",
    "    slowd_period=3,\n",
    "    slowd_matype=0,\n",
    "    )\n",
    "df[\"slowd\"] = stoch[\"slowd\"]\n",
    "df[\"slowk\"] = stoch[\"slowk\"]\n",
    "\n",
    "print(df[['date','close', 'slowd','slowk']].tail(5))"
   ]
  },
  {
   "cell_type": "markdown",
   "metadata": {},
   "source": [
    "### Keltner Channel"
   ]
  },
  {
   "cell_type": "code",
   "execution_count": 28,
   "metadata": {},
   "outputs": [],
   "source": [
    "keltner = qtpylib.keltner_channel(df, window=21, atrs=1)\n",
    "df[\"kc_upperband\"] = keltner[\"upper\"]\n",
    "df[\"kc_lowerband\"] = keltner[\"lower\"]\n",
    "df[\"kc_middleband\"] = keltner[\"mid\"]\n",
    "df[\"kc_percent\"] = (df[\"close\"] - df[\"kc_lowerband\"]) / (\n",
    "    df[\"kc_upperband\"] - df[\"kc_lowerband\"]\n",
    ")\n",
    "df[\"kc_width\"] = (\n",
    "    df[\"kc_upperband\"] - df[\"kc_lowerband\"]\n",
    ") / df[\"kc_middleband\"]\n"
   ]
  },
  {
   "cell_type": "code",
   "execution_count": 29,
   "metadata": {},
   "outputs": [
    {
     "name": "stdout",
     "output_type": "stream",
     "text": [
      "                     date     close  kc_upperband  kc_middleband  \\\n",
      "15909 2021-04-07 22:00:00  55953.45  58325.243492   57487.761111   \n",
      "15910 2021-04-08 00:00:00  56504.14  58232.378571   57376.801429   \n",
      "15911 2021-04-08 02:00:00  56540.62  58116.046032   57272.190794   \n",
      "15912 2021-04-08 04:00:00  56871.90  58041.367937   57190.901746   \n",
      "15913 2021-04-08 06:00:00  57025.71  57961.290476   57118.633810   \n",
      "\n",
      "       kc_lowerband  kc_percent  kc_width  \n",
      "15909  56650.278730   -0.416026  0.029136  \n",
      "15910  56521.224286   -0.009984  0.029823  \n",
      "15911  56428.335556    0.066531  0.029468  \n",
      "15912  56340.435556    0.312455  0.029741  \n",
      "15913  56275.977143    0.444863  0.029505  \n"
     ]
    }
   ],
   "source": [
    "print(df[['date','close', 'kc_upperband','kc_middleband','kc_lowerband','kc_percent','kc_width']].tail(5))"
   ]
  },
  {
   "cell_type": "markdown",
   "metadata": {},
   "source": [
    "## Search for values in arrays for strategy"
   ]
  },
  {
   "cell_type": "markdown",
   "metadata": {},
   "source": [
    "## Highest / Lowest value in array\n",
    "\n",
    "To determine the bottom / top of a swing. Stop-loss percentage should be derived from it.\n",
    "My idea is to calculate the difference in percentage because freqtrade only knows percentages when determine initial stop-losses. \n",
    "\n",
    "Calculate the difference in percentage between entry price and current lowest low of swing.\n",
    "\n",
    "An alternative is to calculate difference between the entry price and ATR stop loss in percentages."
   ]
  },
  {
   "cell_type": "code",
   "execution_count": 44,
   "metadata": {},
   "outputs": [
    {
     "name": "stdout",
     "output_type": "stream",
     "text": [
      "                     date      open      high       low     close  \\\n",
      "15911 2021-04-08 02:00:00  56504.13  56654.14  56200.30  56540.62   \n",
      "15912 2021-04-08 04:00:00  56540.62  57096.46  56529.78  56871.90   \n",
      "15913 2021-04-08 06:00:00  56871.89  57333.85  56841.85  57025.71   \n",
      "\n",
      "            volume           sma        rsi        macd  macdsignal  \\\n",
      "15911  2917.142060  57289.131429  44.476605 -533.201133 -450.748587   \n",
      "15912  3917.144907  57209.634286  52.879617 -479.691427 -456.537155   \n",
      "15913  3781.964426  57143.511429  56.449760 -420.031556 -449.236035   \n",
      "\n",
      "        macdhist      slowd      slowk  kc_upperband  kc_lowerband  \\\n",
      "15911 -82.452546  23.456736  27.018751  58116.046032  56428.335556   \n",
      "15912 -23.154272  29.056463  36.640059  58041.367937  56340.435556   \n",
      "15913  29.204479  35.254208  42.103813  57961.290476  56275.977143   \n",
      "\n",
      "       kc_middleband  kc_percent  kc_width  \n",
      "15911   57272.190794    0.066531  0.029468  \n",
      "15912   57190.901746    0.312455  0.029741  \n",
      "15913   57118.633810    0.444863  0.029505  \n"
     ]
    }
   ],
   "source": [
    "# Eerst alles tonen voor controle\n",
    "df_lowest = df.iloc[-3:]\n",
    "print(df_lowest)"
   ]
  },
  {
   "cell_type": "code",
   "execution_count": 42,
   "metadata": {},
   "outputs": [
    {
     "name": "stdout",
     "output_type": "stream",
     "text": [
      "15911    56540.62\n",
      "15912    56871.90\n",
      "15913    57025.71\n",
      "Name: close, dtype: float64\n"
     ]
    }
   ],
   "source": [
    "# Nu alleen van kolom 'close' laatste 3 waardes tonen\n",
    "df_lowest = df['close'].iloc[-3:]\n",
    "print(df_lowest)"
   ]
  },
  {
   "cell_type": "code",
   "execution_count": 50,
   "metadata": {},
   "outputs": [
    {
     "name": "stdout",
     "output_type": "stream",
     "text": [
      "15889    58349.00\n",
      "15890    58300.00\n",
      "15891    58325.08\n",
      "15892    58342.00\n",
      "15893    57413.02\n",
      "15894    57722.23\n",
      "15895    57996.00\n",
      "15896    57555.00\n",
      "15897    57483.71\n",
      "15898    57161.86\n",
      "15899    57475.86\n",
      "15900    57268.00\n",
      "15901    57420.00\n",
      "15902    57000.00\n",
      "15903    55700.00\n",
      "15904    55612.00\n",
      "15905    56275.00\n",
      "15906    55972.33\n",
      "15907    55473.00\n",
      "15908    55717.15\n",
      "15909    55865.11\n",
      "15910    55700.00\n",
      "15911    56200.30\n",
      "15912    56529.78\n",
      "15913    56841.85\n",
      "Name: low, dtype: float64\n"
     ]
    }
   ],
   "source": [
    "# Nu alleen van kolom 'close' laatste 25 waardes tonen\n",
    "df_lowest = df['low'].iloc[-25:]\n",
    "print(df_lowest)"
   ]
  },
  {
   "cell_type": "code",
   "execution_count": 52,
   "metadata": {},
   "outputs": [
    {
     "name": "stdout",
     "output_type": "stream",
     "text": [
      "55473.0\n"
     ]
    }
   ],
   "source": [
    "# Bepaal de laagste waarde van deze array\n",
    "print(df_lowest.min())"
   ]
  },
  {
   "cell_type": "code",
   "execution_count": 79,
   "metadata": {},
   "outputs": [
    {
     "name": "stdout",
     "output_type": "stream",
     "text": [
      "15689    58755.30\n",
      "15690    58901.66\n",
      "15691    59104.28\n",
      "15692    58131.55\n",
      "15693    57966.85\n",
      "15694    57811.41\n",
      "15695    57363.07\n",
      "15696    56717.81\n",
      "15697    56668.00\n",
      "15698    55450.11\n",
      "15699    55605.94\n",
      "15700    55870.23\n",
      "15701    57000.05\n",
      "15702    56750.00\n",
      "15703    57186.82\n",
      "15704    57474.46\n",
      "15705    57128.89\n",
      "15706    56289.00\n",
      "15707    56418.55\n",
      "15708    57315.22\n",
      "15709    57513.41\n",
      "15710    57024.13\n",
      "15711    57282.00\n",
      "15712    56521.01\n",
      "15713    56778.52\n",
      "Name: low, dtype: float64\n"
     ]
    }
   ],
   "source": [
    "# Dit klopt :-)\n",
    "# Nu van een andere willekeurige array in deze tabel (df.iloc[row_index])\n",
    "# df_sub = df['low'].iloc[15880:15897]\n",
    "# df_sub = df['low'].iloc[-20:-1]\n",
    "df_low_array = df['low'].iloc[-225:-200]\n",
    "print(df_low_array)"
   ]
  },
  {
   "cell_type": "code",
   "execution_count": 88,
   "metadata": {},
   "outputs": [
    {
     "name": "stdout",
     "output_type": "stream",
     "text": [
      "Lowest value is: 55450.11 - and highest value is: 59104.28\n"
     ]
    }
   ],
   "source": [
    "# Determine lowest value within array\n",
    "df_lowest = df_low_array.min()\n",
    "df_highest = df_low_array.max()\n",
    "print('Lowest value is: '+ str(df_lowest) + ' - and highest value is: ' + str(df_highest))"
   ]
  },
  {
   "cell_type": "markdown",
   "metadata": {},
   "source": [
    "Right again. We can use this formula.\n",
    "\n",
    "Determine for each row the lowest value from the last 25 candles.\n",
    "\n",
    "To make use of changing values, the .rolling(window) subset is used to determing the lowest value within the rolling window. See: https://pandas.pydata.org/pandas-docs/stable/reference/api/pandas.DataFrame.rolling.html"
   ]
  },
  {
   "cell_type": "code",
   "execution_count": 158,
   "metadata": {},
   "outputs": [
    {
     "name": "stdout",
     "output_type": "stream",
     "text": [
      "                     date       low  last_lowest      high  last_highest\n",
      "15894 2021-04-06 16:00:00  57722.23     57413.02  58271.66      59495.24\n",
      "15895 2021-04-06 18:00:00  57996.00     57413.02  58282.12      59495.24\n",
      "15896 2021-04-06 20:00:00  57555.00     57413.02  58311.91      59495.24\n",
      "15897 2021-04-06 22:00:00  57483.71     57413.02  58163.00      59031.66\n",
      "15898 2021-04-07 00:00:00  57161.86     57161.86  58200.01      59031.66\n",
      "15899 2021-04-07 02:00:00  57475.86     57161.86  58124.75      59000.00\n",
      "15900 2021-04-07 04:00:00  57268.00     57161.86  58317.06      59000.00\n",
      "15901 2021-04-07 06:00:00  57420.00     57161.86  58655.00      58998.00\n",
      "15902 2021-04-07 08:00:00  57000.00     57000.00  57938.77      58998.00\n",
      "15903 2021-04-07 10:00:00  55700.00     55700.00  57610.60      58655.00\n",
      "15904 2021-04-07 12:00:00  55612.00     55612.00  56816.72      58655.00\n",
      "15905 2021-04-07 14:00:00  56275.00     55612.00  56937.15      58655.00\n",
      "15906 2021-04-07 16:00:00  55972.33     55612.00  56850.00      58655.00\n",
      "15907 2021-04-07 18:00:00  55473.00     55473.00  56456.00      58655.00\n",
      "15908 2021-04-07 20:00:00  55717.15     55473.00  56374.25      58655.00\n",
      "15909 2021-04-07 22:00:00  55865.11     55473.00  56570.24      58655.00\n",
      "15910 2021-04-08 00:00:00  55700.00     55473.00  56700.00      58655.00\n",
      "15911 2021-04-08 02:00:00  56200.30     55473.00  56654.14      58655.00\n",
      "15912 2021-04-08 04:00:00  56529.78     55473.00  57096.46      57938.77\n",
      "15913 2021-04-08 06:00:00  56841.85     55473.00  57333.85      57610.60\n"
     ]
    }
   ],
   "source": [
    "# Determine the lowest value from the last 25 candles in a rolling window.\n",
    "df['last_lowest'] = df['low'].rolling(10).min()\n",
    "df['last_highest'] = df['high'].rolling(10).max().shift(1)\n",
    "# Or with closed:\n",
    "# dataframe['last_highest'] = dataframe['close'].rolling(20).max().shift(1)\n",
    "print(df[['date','low','last_lowest','high','last_highest']].tail(20))"
   ]
  },
  {
   "cell_type": "code",
   "execution_count": 143,
   "metadata": {},
   "outputs": [
    {
     "name": "stdout",
     "output_type": "stream",
     "text": [
      "                     date     close       low  last_lowest     sl\n",
      "15894 2021-04-06 16:00:00  58247.17  57722.23     57413.02 -0.015\n",
      "15895 2021-04-06 18:00:00  58225.00  57996.00     57413.02 -0.014\n",
      "15896 2021-04-06 20:00:00  57860.63  57555.00     57413.02 -0.008\n",
      "15897 2021-04-06 22:00:00  57991.15  57483.71     57413.02 -0.010\n",
      "15898 2021-04-07 00:00:00  57510.84  57161.86     57161.86 -0.006\n",
      "15899 2021-04-07 02:00:00  57922.75  57475.86     57161.86 -0.013\n",
      "15900 2021-04-07 04:00:00  58285.99  57268.00     57161.86 -0.020\n",
      "15901 2021-04-07 06:00:00  57850.57  57420.00     57161.86 -0.012\n",
      "15902 2021-04-07 08:00:00  57466.61  57000.00     57000.00 -0.008\n",
      "15903 2021-04-07 10:00:00  56320.47  55700.00     55700.00 -0.011\n",
      "15904 2021-04-07 12:00:00  56756.66  55612.00     55612.00 -0.021\n",
      "15905 2021-04-07 14:00:00  56451.45  56275.00     55612.00 -0.015\n",
      "15906 2021-04-07 16:00:00  56050.54  55972.33     55612.00 -0.008\n",
      "15907 2021-04-07 18:00:00  56153.83  55473.00     55473.00 -0.012\n",
      "15908 2021-04-07 20:00:00  56205.73  55717.15     55473.00 -0.013\n",
      "15909 2021-04-07 22:00:00  55953.45  55865.11     55473.00 -0.009\n",
      "15910 2021-04-08 00:00:00  56504.14  55700.00     55473.00 -0.019\n",
      "15911 2021-04-08 02:00:00  56540.62  56200.30     55473.00 -0.019\n",
      "15912 2021-04-08 04:00:00  56871.90  56529.78     55473.00 -0.025\n",
      "15913 2021-04-08 06:00:00  57025.71  56841.85     55473.00 -0.028\n"
     ]
    }
   ],
   "source": [
    "# Determine the percentage difference between the closing price and the last lowest price.\n",
    "# df['psl'] = 1-(df['close'] / df['last_lowest'])\n",
    "df['psl'] = 1-(df['close'] / (df['last_lowest']-10))\n",
    "df['sl'] = df['psl'].round(decimals=3)\n",
    "print(df[['date','close','low','last_lowest','sl']].tail(20))"
   ]
  },
  {
   "cell_type": "code",
   "execution_count": 144,
   "metadata": {},
   "outputs": [
    {
     "name": "stdout",
     "output_type": "stream",
     "text": [
      "                     date      open     close        atr_sl     sl\n",
      "15894 2021-04-06 16:00:00  57818.54  58247.17  57255.360882 -0.017\n",
      "15895 2021-04-06 18:00:00  58247.17  58225.00  57705.824533 -0.009\n",
      "15896 2021-04-06 20:00:00  58225.01  57860.63  57673.673567 -0.003\n",
      "15897 2021-04-06 22:00:00  57860.63  57991.15  57305.006097 -0.012\n",
      "15898 2021-04-07 00:00:00  57990.03  57510.84  57407.355305 -0.002\n",
      "15899 2021-04-07 02:00:00  57510.84  57922.75  56928.070569 -0.017\n",
      "15900 2021-04-07 04:00:00  57922.74  58285.99  57314.157385 -0.017\n",
      "15901 2021-04-07 06:00:00  58286.00  57850.57  57641.494715 -0.004\n",
      "15902 2021-04-07 08:00:00  57850.57  57466.61  57191.751307 -0.005\n",
      "15903 2021-04-07 10:00:00  57466.61  56320.47  56732.025499  0.007\n",
      "15904 2021-04-07 12:00:00  56320.47  56756.66  55560.909535 -0.022\n",
      "15905 2021-04-07 14:00:00  56753.13  56451.45  56005.257068 -0.008\n",
      "15906 2021-04-07 16:00:00  56451.46  56050.54  55700.584920 -0.006\n",
      "15907 2021-04-07 18:00:00  56054.22  56153.83  55293.785997 -0.016\n",
      "15908 2021-04-07 20:00:00  56153.84  56205.73  55405.480569 -0.014\n",
      "15909 2021-04-07 22:00:00  56205.73  55953.45  55465.495028 -0.009\n",
      "15910 2021-04-08 00:00:00  55953.44  56504.14  55201.793241 -0.024\n",
      "15911 2021-04-08 02:00:00  56504.13  56540.62  55776.996866 -0.014\n",
      "15912 2021-04-08 04:00:00  56540.62  56871.90  55828.995519 -0.019\n",
      "15913 2021-04-08 06:00:00  56871.89  57025.71  56179.467267 -0.015\n"
     ]
    }
   ],
   "source": [
    "# Tighter stop loss with ATR usage\n",
    "atr_factor = 0.9\n",
    "df['atr'] = ta.ATR(df, timeperiod=14)\n",
    "# ATR stoploss (tradingview uses open price)\n",
    "df['atr_sl'] = df['open'] - (df['atr'] * atr_factor)\n",
    "# Freqtrade stoploss value\n",
    "df['psl'] = 1-(df['close'] / df['atr_sl'])\n",
    "df['sl'] = df['psl'].round(decimals=3)\n",
    "# print(df[['date','open','close','atr','atr_sl','psl','sl']].tail(20))\n",
    "print(df[['date','open','close','atr_sl','sl']].tail(20))"
   ]
  },
  {
   "cell_type": "markdown",
   "metadata": {},
   "source": [
    "Er is een manier om bovenstaande informatie uit het dataframe te halen en vervolgens als dictionary weer in te voeren in een andere functie als custom data:\n",
    "\n",
    "Zie daarvoor: https://www.freqtrade.io/en/stable/strategy-advanced/#storing-custom-information-using-datetimeindex-from-dataframe\n",
    "\n",
    "```\n",
    "import talib.abstract as ta\n",
    "class AwesomeStrategy(IStrategy):\n",
    "    # Create custom dictionary\n",
    "    custom_info = {}\n",
    "\n",
    "    def populate_indicators(self, dataframe: DataFrame, metadata: dict) -> DataFrame:\n",
    "        # using \"ATR\" here as example\n",
    "        dataframe['atr'] = ta.ATR(dataframe)\n",
    "        if self.dp.runmode.value in ('backtest', 'hyperopt'):\n",
    "          # add indicator mapped to correct DatetimeIndex to custom_info\n",
    "          self.custom_info[metadata['pair']] = dataframe[['date', 'atr']].copy().set_index('date')\n",
    "        return dataframe\n",
    "\n",
    "```"
   ]
  },
  {
   "cell_type": "markdown",
   "metadata": {},
   "source": [
    "Daarna kun je deze custom informatie in de custom stop loss strategie plaatsen door:\n",
    "\n",
    "```\n",
    "from freqtrade.persistence import Trade\n",
    "from freqtrade.state import RunMode\n",
    "\n",
    "class AwesomeStrategy(IStrategy):\n",
    "\n",
    "    # ... populate_* methods\n",
    "\n",
    "    use_custom_stoploss = True\n",
    "\n",
    "    def custom_stoploss(self, pair: str, trade: 'Trade', current_time: datetime,\n",
    "                        current_rate: float, current_profit: float, **kwargs) -> float:\n",
    "\n",
    "        result = 1\n",
    "        if self.custom_info and pair in self.custom_info and trade:\n",
    "            # using current_time directly (like below) will only work in backtesting.\n",
    "            # so check \"runmode\" to make sure that it's only used in backtesting/hyperopt\n",
    "            if self.dp and self.dp.runmode.value in ('backtest', 'hyperopt'):\n",
    "              relative_sl = self.custom_info[pair].loc[current_time]['atr']\n",
    "            # in live / dry-run, it'll be really the current time\n",
    "            else:\n",
    "              # but we can just use the last entry from an already analyzed dataframe instead\n",
    "              dataframe, last_updated = self.dp.get_analyzed_dataframe(pair=pair,\n",
    "                                                                       timeframe=self.timeframe)\n",
    "              # WARNING\n",
    "              # only use .iat[-1] in live mode, not in backtesting/hyperopt\n",
    "              # otherwise you will look into the future\n",
    "              # see: https://www.freqtrade.io/en/latest/strategy-customization/#common-mistakes-when-developing-strategies\n",
    "              relative_sl = dataframe['atr'].iat[-1]\n",
    "\n",
    "            if (relative_sl is not None):\n",
    "                # new stoploss relative to current_rate\n",
    "                new_stoploss = (current_rate-relative_sl)/current_rate\n",
    "                # turn into relative negative offset required by `custom_stoploss` return implementation\n",
    "                result = new_stoploss - 1\n",
    "\n",
    "        return result\n",
    "\n",
    "```\n",
    "\n",
    "Zie: https://www.freqtrade.io/en/stable/strategy-advanced/#custom-stoploss-using-an-indicator-from-dataframe-example"
   ]
  },
  {
   "cell_type": "markdown",
   "metadata": {},
   "source": [
    "## Entry signalen verscherpen\n",
    "\n",
    "timeframe: vooralsnog 2h\n"
   ]
  }
 ],
 "metadata": {
  "kernelspec": {
   "display_name": "Python 3",
   "language": "python",
   "name": "python3"
  },
  "language_info": {
   "codemirror_mode": {
    "name": "ipython",
    "version": 3
   },
   "file_extension": ".py",
   "mimetype": "text/x-python",
   "name": "python",
   "nbconvert_exporter": "python",
   "pygments_lexer": "ipython3",
   "version": "3.8.10"
  }
 },
 "nbformat": 4,
 "nbformat_minor": 2
}
